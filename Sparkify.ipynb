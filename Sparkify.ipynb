{
 "cells": [
  {
   "cell_type": "markdown",
   "metadata": {},
   "source": [
    "# Sparkify Project Workspace\n",
    "This workspace contains a tiny subset (128MB) of the full dataset available (12GB). Feel free to use this workspace to build your project, or to explore a smaller subset with Spark before deploying your cluster on the cloud. Instructions for setting up your Spark cluster is included in the last lesson of the Extracurricular Spark Course content.\n",
    "\n",
    "You can follow the steps below to guide your data analysis and model building portion of this project."
   ]
  },
  {
   "cell_type": "code",
   "execution_count": 80,
   "metadata": {},
   "outputs": [],
   "source": [
    "# import libraries\n",
    "from pyspark.sql import SparkSession\n",
    "from pathlib import Path # better file paths\n",
    "from pyspark.sql.functions import countDistinct, col, when, lit"
   ]
  },
  {
   "cell_type": "code",
   "execution_count": 2,
   "metadata": {},
   "outputs": [
    {
     "output_type": "execute_result",
     "data": {
      "text/plain": "<pyspark.sql.session.SparkSession at 0x7fbe22909ef0>",
      "text/html": "\n            <div>\n                <p><b>SparkSession - in-memory</b></p>\n                \n        <div>\n            <p><b>SparkContext</b></p>\n\n            <p><a href=\"http://10.226.161.84:4040\">Spark UI</a></p>\n\n            <dl>\n              <dt>Version</dt>\n                <dd><code>v2.4.3</code></dd>\n              <dt>Master</dt>\n                <dd><code>local[*]</code></dd>\n              <dt>AppName</dt>\n                <dd><code>Sparkify</code></dd>\n            </dl>\n        </div>\n        \n            </div>\n        "
     },
     "metadata": {},
     "execution_count": 2
    }
   ],
   "source": [
    "# create a Spark session\n",
    "spark = SparkSession \\\n",
    "    .builder \\\n",
    "    .appName('Sparkify') \\\n",
    "    .getOrCreate()\n",
    "spark"
   ]
  },
  {
   "cell_type": "code",
   "execution_count": 3,
   "metadata": {},
   "outputs": [
    {
     "output_type": "execute_result",
     "data": {
      "text/plain": "'/Users/jas/github/udacity-data-scientist-nanodegree-capstone-project'"
     },
     "metadata": {},
     "execution_count": 3
    }
   ],
   "source": [
    "# what is the project folder?\n",
    "import os; os.getcwd()"
   ]
  },
  {
   "cell_type": "markdown",
   "metadata": {},
   "source": [
    "# Load and Clean Dataset\n",
    "In this workspace, the mini-dataset file is `mini_sparkify_event_data.json`. Load and clean the dataset, checking for invalid or missing data - for example, records without userids or sessionids. "
   ]
  },
  {
   "cell_type": "code",
   "execution_count": 4,
   "metadata": {},
   "outputs": [
    {
     "output_type": "execute_result",
     "data": {
      "text/plain": "Row(artist='Martha Tilston', auth='Logged In', firstName='Colin', gender='M', itemInSession=50, lastName='Freeman', length=277.89016, level='paid', location='Bakersfield, CA', method='PUT', page='NextSong', registration=1538173362000, sessionId=29, song='Rockpools', status=200, ts=1538352117000, userAgent='Mozilla/5.0 (Windows NT 6.1; WOW64; rv:31.0) Gecko/20100101 Firefox/31.0', userId='30')"
     },
     "metadata": {},
     "execution_count": 4
    }
   ],
   "source": [
    "# reading in data from local data folder which is gitignored due to large file size\n",
    "event_data = Path.cwd() / \"data\" / \"mini_sparkify_event_data.json\"\n",
    "df = spark.read.json(str(event_data))\n",
    "df.head()"
   ]
  },
  {
   "cell_type": "code",
   "execution_count": 26,
   "metadata": {},
   "outputs": [
    {
     "output_type": "stream",
     "name": "stdout",
     "text": "['artist', 'auth', 'firstName', 'gender', 'itemInSession', 'lastName', 'length', 'level', 'location', 'method', 'page', 'registration', 'sessionId', 'song', 'status', 'ts', 'userAgent', 'userId']\n"
    }
   ],
   "source": [
    "print(df.columns) # this way prints horizontally"
   ]
  },
  {
   "cell_type": "code",
   "execution_count": 5,
   "metadata": {},
   "outputs": [
    {
     "output_type": "execute_result",
     "data": {
      "text/plain": "             artist       auth firstName gender  itemInSession lastName  \\\n0    Martha Tilston  Logged In     Colin      M             50  Freeman   \n1  Five Iron Frenzy  Logged In     Micah      M             79     Long   \n2      Adam Lambert  Logged In     Colin      M             51  Freeman   \n3            Enigma  Logged In     Micah      M             80     Long   \n4         Daft Punk  Logged In     Colin      M             52  Freeman   \n\n      length level                        location method      page  \\\n0  277.89016  paid                 Bakersfield, CA    PUT  NextSong   \n1  236.09424  free  Boston-Cambridge-Newton, MA-NH    PUT  NextSong   \n2  282.82730  paid                 Bakersfield, CA    PUT  NextSong   \n3  262.71302  free  Boston-Cambridge-Newton, MA-NH    PUT  NextSong   \n4  223.60771  paid                 Bakersfield, CA    PUT  NextSong   \n\n    registration  sessionId                           song  status  \\\n0  1538173362000         29                      Rockpools     200   \n1  1538331630000          8                         Canada     200   \n2  1538173362000         29              Time For Miracles     200   \n3  1538331630000          8    Knocking On Forbidden Doors     200   \n4  1538173362000         29  Harder Better Faster Stronger     200   \n\n              ts                                          userAgent userId  \n0  1538352117000  Mozilla/5.0 (Windows NT 6.1; WOW64; rv:31.0) G...     30  \n1  1538352180000  \"Mozilla/5.0 (Windows NT 6.1; WOW64) AppleWebK...      9  \n2  1538352394000  Mozilla/5.0 (Windows NT 6.1; WOW64; rv:31.0) G...     30  \n3  1538352416000  \"Mozilla/5.0 (Windows NT 6.1; WOW64) AppleWebK...      9  \n4  1538352676000  Mozilla/5.0 (Windows NT 6.1; WOW64; rv:31.0) G...     30  ",
      "text/html": "<div>\n<style scoped>\n    .dataframe tbody tr th:only-of-type {\n        vertical-align: middle;\n    }\n\n    .dataframe tbody tr th {\n        vertical-align: top;\n    }\n\n    .dataframe thead th {\n        text-align: right;\n    }\n</style>\n<table border=\"1\" class=\"dataframe\">\n  <thead>\n    <tr style=\"text-align: right;\">\n      <th></th>\n      <th>artist</th>\n      <th>auth</th>\n      <th>firstName</th>\n      <th>gender</th>\n      <th>itemInSession</th>\n      <th>lastName</th>\n      <th>length</th>\n      <th>level</th>\n      <th>location</th>\n      <th>method</th>\n      <th>page</th>\n      <th>registration</th>\n      <th>sessionId</th>\n      <th>song</th>\n      <th>status</th>\n      <th>ts</th>\n      <th>userAgent</th>\n      <th>userId</th>\n    </tr>\n  </thead>\n  <tbody>\n    <tr>\n      <th>0</th>\n      <td>Martha Tilston</td>\n      <td>Logged In</td>\n      <td>Colin</td>\n      <td>M</td>\n      <td>50</td>\n      <td>Freeman</td>\n      <td>277.89016</td>\n      <td>paid</td>\n      <td>Bakersfield, CA</td>\n      <td>PUT</td>\n      <td>NextSong</td>\n      <td>1538173362000</td>\n      <td>29</td>\n      <td>Rockpools</td>\n      <td>200</td>\n      <td>1538352117000</td>\n      <td>Mozilla/5.0 (Windows NT 6.1; WOW64; rv:31.0) G...</td>\n      <td>30</td>\n    </tr>\n    <tr>\n      <th>1</th>\n      <td>Five Iron Frenzy</td>\n      <td>Logged In</td>\n      <td>Micah</td>\n      <td>M</td>\n      <td>79</td>\n      <td>Long</td>\n      <td>236.09424</td>\n      <td>free</td>\n      <td>Boston-Cambridge-Newton, MA-NH</td>\n      <td>PUT</td>\n      <td>NextSong</td>\n      <td>1538331630000</td>\n      <td>8</td>\n      <td>Canada</td>\n      <td>200</td>\n      <td>1538352180000</td>\n      <td>\"Mozilla/5.0 (Windows NT 6.1; WOW64) AppleWebK...</td>\n      <td>9</td>\n    </tr>\n    <tr>\n      <th>2</th>\n      <td>Adam Lambert</td>\n      <td>Logged In</td>\n      <td>Colin</td>\n      <td>M</td>\n      <td>51</td>\n      <td>Freeman</td>\n      <td>282.82730</td>\n      <td>paid</td>\n      <td>Bakersfield, CA</td>\n      <td>PUT</td>\n      <td>NextSong</td>\n      <td>1538173362000</td>\n      <td>29</td>\n      <td>Time For Miracles</td>\n      <td>200</td>\n      <td>1538352394000</td>\n      <td>Mozilla/5.0 (Windows NT 6.1; WOW64; rv:31.0) G...</td>\n      <td>30</td>\n    </tr>\n    <tr>\n      <th>3</th>\n      <td>Enigma</td>\n      <td>Logged In</td>\n      <td>Micah</td>\n      <td>M</td>\n      <td>80</td>\n      <td>Long</td>\n      <td>262.71302</td>\n      <td>free</td>\n      <td>Boston-Cambridge-Newton, MA-NH</td>\n      <td>PUT</td>\n      <td>NextSong</td>\n      <td>1538331630000</td>\n      <td>8</td>\n      <td>Knocking On Forbidden Doors</td>\n      <td>200</td>\n      <td>1538352416000</td>\n      <td>\"Mozilla/5.0 (Windows NT 6.1; WOW64) AppleWebK...</td>\n      <td>9</td>\n    </tr>\n    <tr>\n      <th>4</th>\n      <td>Daft Punk</td>\n      <td>Logged In</td>\n      <td>Colin</td>\n      <td>M</td>\n      <td>52</td>\n      <td>Freeman</td>\n      <td>223.60771</td>\n      <td>paid</td>\n      <td>Bakersfield, CA</td>\n      <td>PUT</td>\n      <td>NextSong</td>\n      <td>1538173362000</td>\n      <td>29</td>\n      <td>Harder Better Faster Stronger</td>\n      <td>200</td>\n      <td>1538352676000</td>\n      <td>Mozilla/5.0 (Windows NT 6.1; WOW64; rv:31.0) G...</td>\n      <td>30</td>\n    </tr>\n  </tbody>\n</table>\n</div>"
     },
     "metadata": {},
     "execution_count": 5
    }
   ],
   "source": [
    "df.limit(5).toPandas()"
   ]
  },
  {
   "cell_type": "markdown",
   "metadata": {},
   "source": [
    "# Exploratory Data Analysis\n",
    "When you're working with the full dataset, perform EDA by loading a small subset of the data and doing basic manipulations within Spark. In this workspace, you are already provided a small subset of data you can explore.\n",
    "\n",
    "### Define Churn\n",
    "\n",
    "Once you've done some preliminary analysis, create a column `Churn` to use as the label for your model. I suggest using the `Cancellation Confirmation` events to define your churn, which happen for both paid and free users. As a bonus task, you can also look into the `Downgrade` events.\n",
    "\n",
    "### Explore Data\n",
    "Once you've defined churn, perform some exploratory data analysis to observe the behavior for users who stayed vs users who churned. You can start by exploring aggregates on these two groups of users, observing how much of a specific action they experienced per a certain time unit or number of songs played."
   ]
  },
  {
   "cell_type": "markdown",
   "metadata": {},
   "source": [
    "## Define Churn"
   ]
  },
  {
   "cell_type": "markdown",
   "metadata": {},
   "source": [
    "* What column has Cancellation Confirmation? page?"
   ]
  },
  {
   "cell_type": "code",
   "execution_count": 28,
   "metadata": {},
   "outputs": [
    {
     "output_type": "execute_result",
     "data": {
      "text/plain": "                         page   count\n0                    NextSong  228108\n1                        Home   14457\n2                   Thumbs Up   12551\n3             Add to Playlist    6526\n4                  Add Friend    4277\n5                 Roll Advert    3933\n6                       Login    3241\n7                      Logout    3226\n8                 Thumbs Down    2546\n9                   Downgrade    2055\n10                       Help    1726\n11                   Settings    1514\n12                      About     924\n13                    Upgrade     499\n14              Save Settings     310\n15                      Error     258\n16             Submit Upgrade     159\n17           Submit Downgrade      63\n18                     Cancel      52\n19  Cancellation Confirmation      52\n20                   Register      18\n21        Submit Registration       5",
      "text/html": "<div>\n<style scoped>\n    .dataframe tbody tr th:only-of-type {\n        vertical-align: middle;\n    }\n\n    .dataframe tbody tr th {\n        vertical-align: top;\n    }\n\n    .dataframe thead th {\n        text-align: right;\n    }\n</style>\n<table border=\"1\" class=\"dataframe\">\n  <thead>\n    <tr style=\"text-align: right;\">\n      <th></th>\n      <th>page</th>\n      <th>count</th>\n    </tr>\n  </thead>\n  <tbody>\n    <tr>\n      <th>0</th>\n      <td>NextSong</td>\n      <td>228108</td>\n    </tr>\n    <tr>\n      <th>1</th>\n      <td>Home</td>\n      <td>14457</td>\n    </tr>\n    <tr>\n      <th>2</th>\n      <td>Thumbs Up</td>\n      <td>12551</td>\n    </tr>\n    <tr>\n      <th>3</th>\n      <td>Add to Playlist</td>\n      <td>6526</td>\n    </tr>\n    <tr>\n      <th>4</th>\n      <td>Add Friend</td>\n      <td>4277</td>\n    </tr>\n    <tr>\n      <th>5</th>\n      <td>Roll Advert</td>\n      <td>3933</td>\n    </tr>\n    <tr>\n      <th>6</th>\n      <td>Login</td>\n      <td>3241</td>\n    </tr>\n    <tr>\n      <th>7</th>\n      <td>Logout</td>\n      <td>3226</td>\n    </tr>\n    <tr>\n      <th>8</th>\n      <td>Thumbs Down</td>\n      <td>2546</td>\n    </tr>\n    <tr>\n      <th>9</th>\n      <td>Downgrade</td>\n      <td>2055</td>\n    </tr>\n    <tr>\n      <th>10</th>\n      <td>Help</td>\n      <td>1726</td>\n    </tr>\n    <tr>\n      <th>11</th>\n      <td>Settings</td>\n      <td>1514</td>\n    </tr>\n    <tr>\n      <th>12</th>\n      <td>About</td>\n      <td>924</td>\n    </tr>\n    <tr>\n      <th>13</th>\n      <td>Upgrade</td>\n      <td>499</td>\n    </tr>\n    <tr>\n      <th>14</th>\n      <td>Save Settings</td>\n      <td>310</td>\n    </tr>\n    <tr>\n      <th>15</th>\n      <td>Error</td>\n      <td>258</td>\n    </tr>\n    <tr>\n      <th>16</th>\n      <td>Submit Upgrade</td>\n      <td>159</td>\n    </tr>\n    <tr>\n      <th>17</th>\n      <td>Submit Downgrade</td>\n      <td>63</td>\n    </tr>\n    <tr>\n      <th>18</th>\n      <td>Cancel</td>\n      <td>52</td>\n    </tr>\n    <tr>\n      <th>19</th>\n      <td>Cancellation Confirmation</td>\n      <td>52</td>\n    </tr>\n    <tr>\n      <th>20</th>\n      <td>Register</td>\n      <td>18</td>\n    </tr>\n    <tr>\n      <th>21</th>\n      <td>Submit Registration</td>\n      <td>5</td>\n    </tr>\n  </tbody>\n</table>\n</div>"
     },
     "metadata": {},
     "execution_count": 28
    }
   ],
   "source": [
    "df.groupby('page').count().sort('count', ascending=False).limit(50).toPandas()"
   ]
  },
  {
   "cell_type": "markdown",
   "metadata": {},
   "source": [
    "* How many total rows (in this sample dataset)?"
   ]
  },
  {
   "cell_type": "code",
   "execution_count": 33,
   "metadata": {},
   "outputs": [
    {
     "output_type": "execute_result",
     "data": {
      "text/plain": "286500"
     },
     "metadata": {},
     "execution_count": 33
    }
   ],
   "source": [
    "num_rows = df.count()\n",
    "num_rows"
   ]
  },
  {
   "cell_type": "markdown",
   "metadata": {},
   "source": [
    "* How many total users?"
   ]
  },
  {
   "cell_type": "code",
   "execution_count": 53,
   "metadata": {},
   "outputs": [
    {
     "output_type": "execute_result",
     "data": {
      "text/plain": "226"
     },
     "metadata": {},
     "execution_count": 53
    }
   ],
   "source": [
    "#num_users = df.select(countDistinct(\"userId\")).toPandas().values[0]\n",
    "num_users = df.select(countDistinct(\"userId\")).toPandas().iloc[0][0]\n",
    "num_users"
   ]
  },
  {
   "cell_type": "code",
   "execution_count": 55,
   "metadata": {},
   "outputs": [
    {
     "output_type": "execute_result",
     "data": {
      "text/plain": "52"
     },
     "metadata": {},
     "execution_count": 55
    }
   ],
   "source": [
    "num_users_cancelled = df.filter('page == \"Cancellation Confirmation\"').select(countDistinct(\"userId\")).toPandas().iloc[0][0]\n",
    "num_users_cancelled"
   ]
  },
  {
   "cell_type": "code",
   "execution_count": 59,
   "metadata": {},
   "outputs": [
    {
     "output_type": "execute_result",
     "data": {
      "text/plain": "23.0"
     },
     "metadata": {},
     "execution_count": 59
    }
   ],
   "source": [
    "round(num_users_cancelled/num_users * 100, 1) # percentage of users that cancelled"
   ]
  },
  {
   "cell_type": "code",
   "execution_count": null,
   "metadata": {},
   "outputs": [],
   "source": [
    "# actually update the data with churn value"
   ]
  },
  {
   "cell_type": "markdown",
   "metadata": {},
   "source": [
    "* Just need to find the ids that churned and of course the rest are not churned"
   ]
  },
  {
   "cell_type": "code",
   "execution_count": 94,
   "metadata": {},
   "outputs": [
    {
     "output_type": "execute_result",
     "data": {
      "text/plain": "['125', '51', '54', '100014', '101']"
     },
     "metadata": {},
     "execution_count": 94
    }
   ],
   "source": [
    "cancelled_ids = df.filter('page == \"Cancellation Confirmation\"').select(\"userId\").distinct()\n",
    "# Convert to list to be used to filter later\n",
    "cancelled_ids = cancelled_ids.toPandas()['userId'].tolist()\n",
    "cancelled_ids[:5]"
   ]
  },
  {
   "cell_type": "code",
   "execution_count": 68,
   "metadata": {},
   "outputs": [
    {
     "output_type": "execute_result",
     "data": {
      "text/plain": "52"
     },
     "metadata": {},
     "execution_count": 68
    }
   ],
   "source": [
    "cancelled_ids.count()"
   ]
  },
  {
   "cell_type": "markdown",
   "metadata": {},
   "source": [
    "* When the userId matches a cancelled user than we provide a value of **1**, else it is **0**."
   ]
  },
  {
   "cell_type": "code",
   "execution_count": 98,
   "metadata": {},
   "outputs": [
    {
     "output_type": "stream",
     "name": "stdout",
     "text": "+--------------------+---------+---------+------+-------------+--------+---------+-----+--------------------+------+---------------+-------------+---------+--------------------+------+-------------+--------------------+------+-----+\n|              artist|     auth|firstName|gender|itemInSession|lastName|   length|level|            location|method|           page| registration|sessionId|                song|status|           ts|           userAgent|userId|Churn|\n+--------------------+---------+---------+------+-------------+--------+---------+-----+--------------------+------+---------------+-------------+---------+--------------------+------+-------------+--------------------+------+-----+\n|      Martha Tilston|Logged In|    Colin|     M|           50| Freeman|277.89016| paid|     Bakersfield, CA|   PUT|       NextSong|1538173362000|       29|           Rockpools|   200|1538352117000|Mozilla/5.0 (Wind...|    30|    0|\n|    Five Iron Frenzy|Logged In|    Micah|     M|           79|    Long|236.09424| free|Boston-Cambridge-...|   PUT|       NextSong|1538331630000|        8|              Canada|   200|1538352180000|\"Mozilla/5.0 (Win...|     9|    0|\n|        Adam Lambert|Logged In|    Colin|     M|           51| Freeman| 282.8273| paid|     Bakersfield, CA|   PUT|       NextSong|1538173362000|       29|   Time For Miracles|   200|1538352394000|Mozilla/5.0 (Wind...|    30|    0|\n|              Enigma|Logged In|    Micah|     M|           80|    Long|262.71302| free|Boston-Cambridge-...|   PUT|       NextSong|1538331630000|        8|Knocking On Forbi...|   200|1538352416000|\"Mozilla/5.0 (Win...|     9|    0|\n|           Daft Punk|Logged In|    Colin|     M|           52| Freeman|223.60771| paid|     Bakersfield, CA|   PUT|       NextSong|1538173362000|       29|Harder Better Fas...|   200|1538352676000|Mozilla/5.0 (Wind...|    30|    0|\n|The All-American ...|Logged In|    Micah|     M|           81|    Long|208.29995| free|Boston-Cambridge-...|   PUT|       NextSong|1538331630000|        8|      Don't Leave Me|   200|1538352678000|\"Mozilla/5.0 (Win...|     9|    0|\n|The Velvet Underg...|Logged In|    Micah|     M|           82|    Long|260.46649| free|Boston-Cambridge-...|   PUT|       NextSong|1538331630000|        8|         Run Run Run|   200|1538352886000|\"Mozilla/5.0 (Win...|     9|    0|\n|        Starflyer 59|Logged In|    Colin|     M|           53| Freeman|185.44281| paid|     Bakersfield, CA|   PUT|       NextSong|1538173362000|       29|Passengers (Old A...|   200|1538352899000|Mozilla/5.0 (Wind...|    30|    0|\n|                null|Logged In|    Colin|     M|           54| Freeman|     null| paid|     Bakersfield, CA|   PUT|Add to Playlist|1538173362000|       29|                null|   200|1538352905000|Mozilla/5.0 (Wind...|    30|    0|\n|            Frumpies|Logged In|    Colin|     M|           55| Freeman|134.47791| paid|     Bakersfield, CA|   PUT|       NextSong|1538173362000|       29|          Fuck Kitty|   200|1538353084000|Mozilla/5.0 (Wind...|    30|    0|\n|        Britt Nicole|Logged In|    Micah|     M|           83|    Long| 229.8771| free|Boston-Cambridge-...|   PUT|       NextSong|1538331630000|        8|   Walk On The Water|   200|1538353146000|\"Mozilla/5.0 (Win...|     9|    0|\n|                null|Logged In|    Micah|     M|           84|    Long|     null| free|Boston-Cambridge-...|   GET|    Roll Advert|1538331630000|        8|                null|   200|1538353150000|\"Mozilla/5.0 (Win...|     9|    0|\n|Edward Sharpe & T...|Logged In|    Colin|     M|           56| Freeman|223.58159| paid|     Bakersfield, CA|   PUT|       NextSong|1538173362000|       29|                Jade|   200|1538353218000|Mozilla/5.0 (Wind...|    30|    0|\n|               Tesla|Logged In|    Micah|     M|           85|    Long|201.06404| free|Boston-Cambridge-...|   PUT|       NextSong|1538331630000|        8|      Gettin' Better|   200|1538353375000|\"Mozilla/5.0 (Win...|     9|    0|\n|                null|Logged In|    Micah|     M|           86|    Long|     null| free|Boston-Cambridge-...|   PUT|      Thumbs Up|1538331630000|        8|                null|   307|1538353376000|\"Mozilla/5.0 (Win...|     9|    0|\n|         Stan Mosley|Logged In|    Colin|     M|           57| Freeman|246.69995| paid|     Bakersfield, CA|   PUT|       NextSong|1538173362000|       29|   So-Called Friends|   200|1538353441000|Mozilla/5.0 (Wind...|    30|    0|\n|Florence + The Ma...|Logged In|    Micah|     M|           87|    Long|168.64608| free|Boston-Cambridge-...|   PUT|       NextSong|1538331630000|        8| You've Got The Love|   200|1538353576000|\"Mozilla/5.0 (Win...|     9|    0|\n|   Tokyo Police Club|Logged In|  Ashlynn|     F|            0|Williams| 166.1122| free|     Tallahassee, FL|   PUT|       NextSong|1537365219000|      217|Citizens Of Tomorrow|   200|1538353668000|\"Mozilla/5.0 (Mac...|    74|    0|\n|             Orishas|Logged In|    Colin|     M|           58| Freeman|222.22322| paid|     Bakersfield, CA|   PUT|       NextSong|1538173362000|       29|           Represent|   200|1538353687000|Mozilla/5.0 (Wind...|    30|    0|\n|             Ratatat|Logged In|    Micah|     M|           88|    Long|229.77261| free|Boston-Cambridge-...|   PUT|       NextSong|1538331630000|        8|              Swisha|   200|1538353744000|\"Mozilla/5.0 (Win...|     9|    0|\n+--------------------+---------+---------+------+-------------+--------+---------+-----+--------------------+------+---------------+-------------+---------+--------------------+------+-------------+--------------------+------+-----+\nonly showing top 20 rows\n\n"
    }
   ],
   "source": [
    "df = df.withColumn(\"Churn\", when((col(\"userId\").isin(cancelled_ids)),lit('1')).otherwise(lit('0')))\n",
    "df.show()"
   ]
  },
  {
   "cell_type": "code",
   "execution_count": 101,
   "metadata": {},
   "outputs": [
    {
     "output_type": "execute_result",
     "data": {
      "text/plain": "  Churn  count(DISTINCT userId)\n0     0                     174\n1     1                      52",
      "text/html": "<div>\n<style scoped>\n    .dataframe tbody tr th:only-of-type {\n        vertical-align: middle;\n    }\n\n    .dataframe tbody tr th {\n        vertical-align: top;\n    }\n\n    .dataframe thead th {\n        text-align: right;\n    }\n</style>\n<table border=\"1\" class=\"dataframe\">\n  <thead>\n    <tr style=\"text-align: right;\">\n      <th></th>\n      <th>Churn</th>\n      <th>count(DISTINCT userId)</th>\n    </tr>\n  </thead>\n  <tbody>\n    <tr>\n      <th>0</th>\n      <td>0</td>\n      <td>174</td>\n    </tr>\n    <tr>\n      <th>1</th>\n      <td>1</td>\n      <td>52</td>\n    </tr>\n  </tbody>\n</table>\n</div>"
     },
     "metadata": {},
     "execution_count": 101
    }
   ],
   "source": [
    "df.groupby('Churn').agg(countDistinct(\"userId\")).toPandas()"
   ]
  },
  {
   "cell_type": "markdown",
   "metadata": {},
   "source": [
    "## Explore Data"
   ]
  },
  {
   "cell_type": "markdown",
   "metadata": {},
   "source": [
    "### How many columns and what type of data?"
   ]
  },
  {
   "cell_type": "code",
   "execution_count": 6,
   "metadata": {},
   "outputs": [
    {
     "output_type": "stream",
     "name": "stdout",
     "text": "root\n |-- artist: string (nullable = true)\n |-- auth: string (nullable = true)\n |-- firstName: string (nullable = true)\n |-- gender: string (nullable = true)\n |-- itemInSession: long (nullable = true)\n |-- lastName: string (nullable = true)\n |-- length: double (nullable = true)\n |-- level: string (nullable = true)\n |-- location: string (nullable = true)\n |-- method: string (nullable = true)\n |-- page: string (nullable = true)\n |-- registration: long (nullable = true)\n |-- sessionId: long (nullable = true)\n |-- song: string (nullable = true)\n |-- status: long (nullable = true)\n |-- ts: long (nullable = true)\n |-- userAgent: string (nullable = true)\n |-- userId: string (nullable = true)\n\n"
    }
   ],
   "source": [
    "df.printSchema()"
   ]
  },
  {
   "cell_type": "code",
   "execution_count": 7,
   "metadata": {},
   "outputs": [
    {
     "output_type": "execute_result",
     "data": {
      "text/plain": "  summary              artist        auth firstName  gender  \\\n0   count              228108      286500    278154  278154   \n1    mean   551.0852017937219        None      None    None   \n2  stddev  1217.7693079161374        None      None    None   \n3     min                 !!!   Cancelled  Adelaida       F   \n4     max   ÃÂlafur Arnalds  Logged Out    Zyonna       M   \n\n        itemInSession lastName              length   level           location  \\\n0              286500   278154              228108  286500             278154   \n1  114.41421291448516     None  249.11718197783722    None               None   \n2  129.76726201141085     None   99.23517921058324    None               None   \n3                   0    Adams             0.78322    free         Albany, OR   \n4                1321   Wright          3024.66567    paid  Winston-Salem, NC   \n\n   method     page          registration          sessionId  \\\n0  286500   286500                278154             286500   \n1    None     None  1.535358834085557E12  1041.526554973822   \n2    None     None   3.291321616328068E9  726.7762634630834   \n3     GET    About         1521380675000                  1   \n4     PUT  Upgrade         1543247354000               2474   \n\n                                               song              status  \\\n0                                            228108              286500   \n1                                          Infinity  210.05459685863875   \n2                                               NaN   31.50507848842202   \n3                    \nÃÂg ÃÂtti GrÃÂ¡a ÃÂsku                 200   \n4  ÃÂau hafa sloppiÃÂ° undan ÃÂ¾unga myrkursins                 404   \n\n                      ts                                          userAgent  \\\n0                 286500                                             278154   \n1  1.5409568898104714E12                                               None   \n2   1.5075439608187113E9                                               None   \n3          1538352117000  \"Mozilla/5.0 (Macintosh; Intel Mac OS X 10_10)...   \n4          1543799476000  Mozilla/5.0 (compatible; MSIE 9.0; Windows NT ...   \n\n               userId  \n0              286500  \n1   59682.02278593872  \n2  109091.94999910519  \n3                      \n4                  99  ",
      "text/html": "<div>\n<style scoped>\n    .dataframe tbody tr th:only-of-type {\n        vertical-align: middle;\n    }\n\n    .dataframe tbody tr th {\n        vertical-align: top;\n    }\n\n    .dataframe thead th {\n        text-align: right;\n    }\n</style>\n<table border=\"1\" class=\"dataframe\">\n  <thead>\n    <tr style=\"text-align: right;\">\n      <th></th>\n      <th>summary</th>\n      <th>artist</th>\n      <th>auth</th>\n      <th>firstName</th>\n      <th>gender</th>\n      <th>itemInSession</th>\n      <th>lastName</th>\n      <th>length</th>\n      <th>level</th>\n      <th>location</th>\n      <th>method</th>\n      <th>page</th>\n      <th>registration</th>\n      <th>sessionId</th>\n      <th>song</th>\n      <th>status</th>\n      <th>ts</th>\n      <th>userAgent</th>\n      <th>userId</th>\n    </tr>\n  </thead>\n  <tbody>\n    <tr>\n      <th>0</th>\n      <td>count</td>\n      <td>228108</td>\n      <td>286500</td>\n      <td>278154</td>\n      <td>278154</td>\n      <td>286500</td>\n      <td>278154</td>\n      <td>228108</td>\n      <td>286500</td>\n      <td>278154</td>\n      <td>286500</td>\n      <td>286500</td>\n      <td>278154</td>\n      <td>286500</td>\n      <td>228108</td>\n      <td>286500</td>\n      <td>286500</td>\n      <td>278154</td>\n      <td>286500</td>\n    </tr>\n    <tr>\n      <th>1</th>\n      <td>mean</td>\n      <td>551.0852017937219</td>\n      <td>None</td>\n      <td>None</td>\n      <td>None</td>\n      <td>114.41421291448516</td>\n      <td>None</td>\n      <td>249.11718197783722</td>\n      <td>None</td>\n      <td>None</td>\n      <td>None</td>\n      <td>None</td>\n      <td>1.535358834085557E12</td>\n      <td>1041.526554973822</td>\n      <td>Infinity</td>\n      <td>210.05459685863875</td>\n      <td>1.5409568898104714E12</td>\n      <td>None</td>\n      <td>59682.02278593872</td>\n    </tr>\n    <tr>\n      <th>2</th>\n      <td>stddev</td>\n      <td>1217.7693079161374</td>\n      <td>None</td>\n      <td>None</td>\n      <td>None</td>\n      <td>129.76726201141085</td>\n      <td>None</td>\n      <td>99.23517921058324</td>\n      <td>None</td>\n      <td>None</td>\n      <td>None</td>\n      <td>None</td>\n      <td>3.291321616328068E9</td>\n      <td>726.7762634630834</td>\n      <td>NaN</td>\n      <td>31.50507848842202</td>\n      <td>1.5075439608187113E9</td>\n      <td>None</td>\n      <td>109091.94999910519</td>\n    </tr>\n    <tr>\n      <th>3</th>\n      <td>min</td>\n      <td>!!!</td>\n      <td>Cancelled</td>\n      <td>Adelaida</td>\n      <td>F</td>\n      <td>0</td>\n      <td>Adams</td>\n      <td>0.78322</td>\n      <td>free</td>\n      <td>Albany, OR</td>\n      <td>GET</td>\n      <td>About</td>\n      <td>1521380675000</td>\n      <td>1</td>\n      <td>ÃÂg ÃÂtti GrÃÂ¡a ÃÂsku</td>\n      <td>200</td>\n      <td>1538352117000</td>\n      <td>\"Mozilla/5.0 (Macintosh; Intel Mac OS X 10_10)...</td>\n      <td></td>\n    </tr>\n    <tr>\n      <th>4</th>\n      <td>max</td>\n      <td>ÃÂlafur Arnalds</td>\n      <td>Logged Out</td>\n      <td>Zyonna</td>\n      <td>M</td>\n      <td>1321</td>\n      <td>Wright</td>\n      <td>3024.66567</td>\n      <td>paid</td>\n      <td>Winston-Salem, NC</td>\n      <td>PUT</td>\n      <td>Upgrade</td>\n      <td>1543247354000</td>\n      <td>2474</td>\n      <td>ÃÂau hafa sloppiÃÂ° undan ÃÂ¾unga myrkursins</td>\n      <td>404</td>\n      <td>1543799476000</td>\n      <td>Mozilla/5.0 (compatible; MSIE 9.0; Windows NT ...</td>\n      <td>99</td>\n    </tr>\n  </tbody>\n</table>\n</div>"
     },
     "metadata": {},
     "execution_count": 7
    }
   ],
   "source": [
    "## Descriptive stats\n",
    "df.describe().toPandas()"
   ]
  },
  {
   "cell_type": "markdown",
   "metadata": {},
   "source": [
    "## artist"
   ]
  },
  {
   "cell_type": "markdown",
   "metadata": {},
   "source": [
    "* Who are the most popular artists?"
   ]
  },
  {
   "cell_type": "code",
   "execution_count": 8,
   "metadata": {},
   "outputs": [
    {
     "output_type": "execute_result",
     "data": {
      "text/plain": "                   artist  count\n0                    None  58392\n1           Kings Of Leon   1841\n2                Coldplay   1813\n3  Florence + The Machine   1236\n4           Dwight Yoakam   1135",
      "text/html": "<div>\n<style scoped>\n    .dataframe tbody tr th:only-of-type {\n        vertical-align: middle;\n    }\n\n    .dataframe tbody tr th {\n        vertical-align: top;\n    }\n\n    .dataframe thead th {\n        text-align: right;\n    }\n</style>\n<table border=\"1\" class=\"dataframe\">\n  <thead>\n    <tr style=\"text-align: right;\">\n      <th></th>\n      <th>artist</th>\n      <th>count</th>\n    </tr>\n  </thead>\n  <tbody>\n    <tr>\n      <th>0</th>\n      <td>None</td>\n      <td>58392</td>\n    </tr>\n    <tr>\n      <th>1</th>\n      <td>Kings Of Leon</td>\n      <td>1841</td>\n    </tr>\n    <tr>\n      <th>2</th>\n      <td>Coldplay</td>\n      <td>1813</td>\n    </tr>\n    <tr>\n      <th>3</th>\n      <td>Florence + The Machine</td>\n      <td>1236</td>\n    </tr>\n    <tr>\n      <th>4</th>\n      <td>Dwight Yoakam</td>\n      <td>1135</td>\n    </tr>\n  </tbody>\n</table>\n</div>"
     },
     "metadata": {},
     "execution_count": 8
    }
   ],
   "source": [
    "df.groupby('artist').count().sort('count', ascending=False).limit(5).toPandas() "
   ]
  },
  {
   "cell_type": "markdown",
   "metadata": {},
   "source": [
    "## auth"
   ]
  },
  {
   "cell_type": "code",
   "execution_count": 9,
   "metadata": {},
   "outputs": [
    {
     "output_type": "execute_result",
     "data": {
      "text/plain": "         auth   count\n0   Logged In  278102\n1  Logged Out    8249\n2       Guest      97\n3   Cancelled      52",
      "text/html": "<div>\n<style scoped>\n    .dataframe tbody tr th:only-of-type {\n        vertical-align: middle;\n    }\n\n    .dataframe tbody tr th {\n        vertical-align: top;\n    }\n\n    .dataframe thead th {\n        text-align: right;\n    }\n</style>\n<table border=\"1\" class=\"dataframe\">\n  <thead>\n    <tr style=\"text-align: right;\">\n      <th></th>\n      <th>auth</th>\n      <th>count</th>\n    </tr>\n  </thead>\n  <tbody>\n    <tr>\n      <th>0</th>\n      <td>Logged In</td>\n      <td>278102</td>\n    </tr>\n    <tr>\n      <th>1</th>\n      <td>Logged Out</td>\n      <td>8249</td>\n    </tr>\n    <tr>\n      <th>2</th>\n      <td>Guest</td>\n      <td>97</td>\n    </tr>\n    <tr>\n      <th>3</th>\n      <td>Cancelled</td>\n      <td>52</td>\n    </tr>\n  </tbody>\n</table>\n</div>"
     },
     "metadata": {},
     "execution_count": 9
    }
   ],
   "source": [
    "df.groupby('auth').count().sort('count', ascending=False).limit(5).toPandas() "
   ]
  },
  {
   "cell_type": "markdown",
   "metadata": {},
   "source": [
    "## Create a function to do the same thing for each column"
   ]
  },
  {
   "cell_type": "code",
   "execution_count": 10,
   "metadata": {},
   "outputs": [],
   "source": [
    "def top5_values(column_name):\n",
    "    \"\"\"\n",
    "    Take a column name and find the most frequent values\n",
    "    \"\"\"\n",
    "    return df.groupby(column_name).count().sort('count', ascending=False).limit(5).toPandas()"
   ]
  },
  {
   "cell_type": "code",
   "execution_count": 11,
   "metadata": {},
   "outputs": [
    {
     "output_type": "stream",
     "name": "stdout",
     "text": "artist  count\n0                    None  58392\n1           Kings Of Leon   1841\n2                Coldplay   1813\n3  Florence + The Machine   1236\n4           Dwight Yoakam   1135 \n\n         auth   count\n0   Logged In  278102\n1  Logged Out    8249\n2       Guest      97\n3   Cancelled      52 \n\n  firstName  count\n0    Payton   9632\n1      None   8346\n2     Riley   7970\n3    Lucero   6880\n4    Emilia   5732 \n\n  gender   count\n0      F  154578\n1      M  123576\n2   None    8346 \n\n   itemInSession  count\n0              0   3278\n1              1   3125\n2              2   3067\n3              3   3013\n4              4   2977 \n\n   lastName  count\n0  Campbell  14060\n1      Reed   9284\n2  Williams   8410\n3      None   8346\n4    Taylor   7230 \n\n      length  count\n0        NaN  58392\n1  239.30730   1205\n2  348.57751   1037\n3  201.79546    908\n4  655.77751    730 \n\n  level   count\n0  paid  228162\n1  free   58338 \n\n                                location  count\n0     Los Angeles-Long Beach-Anaheim, CA  30131\n1  New York-Newark-Jersey City, NY-NJ-PA  23684\n2         Boston-Cambridge-Newton, MA-NH  13873\n3   Houston-The Woodlands-Sugar Land, TX   9499\n4                                   None   8346 \n\n  method   count\n0    PUT  261064\n1    GET   25436 \n\n              page   count\n0         NextSong  228108\n1             Home   14457\n2        Thumbs Up   12551\n3  Add to Playlist    6526\n4       Add Friend    4277 \n\n   registration  count\n0  1.529028e+12   9632\n1           NaN   8346\n2  1.536404e+12   7230\n3  1.536642e+12   6880\n4  1.538337e+12   5732 \n\n   sessionId  count\n0       1840   1322\n1        316   1247\n2        236    905\n3        635    890\n4        368    799 \n\n             song  count\n0            None  58392\n1  You're The One   1153\n2            Undo   1026\n3         Revelry    854\n4   Sehr kosmisch    728 \n\n   status   count\n0     200  259812\n1     307   26430\n2     404     258 \n\n              ts  count\n0  1543376608000      4\n1  1542848987000      4\n2  1538786140000      4\n3  1538778922000      3\n4  1540456067000      3 \n\n                                           userAgent  count\n0  \"Mozilla/5.0 (Windows NT 6.1; WOW64) AppleWebK...  22751\n1  \"Mozilla/5.0 (Macintosh; Intel Mac OS X 10_9_4...  19611\n2  \"Mozilla/5.0 (Macintosh; Intel Mac OS X 10_9_4...  18448\n3  \"Mozilla/5.0 (Macintosh; Intel Mac OS X 10_9_4...  17348\n4  Mozilla/5.0 (Windows NT 6.1; WOW64; rv:31.0) G...  16700 \n\n   userId  count\n0      39   9632\n1           8346\n2      92   7230\n3     140   6880\n4  300011   5732 \n\n"
    }
   ],
   "source": [
    "for column in df.columns:\n",
    "    top_values = top5_values(column)\n",
    "    print(top_values, \"\\n\")"
   ]
  },
  {
   "cell_type": "markdown",
   "metadata": {},
   "source": [
    "### Findings\n",
    "* Need to ignore users without a **userId**, since we can't aggregate their data across sessions, or maybe there are only a few hits within a session that are missing and in that case we can fill the data\n",
    "\n",
    "* Need to exclude information that is not relevant for modeling such as first and last name, userId is all we need for now \n",
    "\n",
    "* How many user agents per user? Can we seperate out browser and OS?\n",
    "\n",
    "* Can we extract the user's state from the location to create a new variable with less cardinality?"
   ]
  },
  {
   "cell_type": "markdown",
   "metadata": {},
   "source": [
    "## Gender"
   ]
  },
  {
   "cell_type": "markdown",
   "metadata": {},
   "source": [
    "* gender - we expect each user to have 1 value"
   ]
  },
  {
   "cell_type": "code",
   "execution_count": 24,
   "metadata": {},
   "outputs": [
    {
     "output_type": "stream",
     "name": "stdout",
     "text": "+------+------------+\n|userId|gender_count|\n+------+------------+\n|      |           0|\n+------+------------+\n\n"
    }
   ],
   "source": [
    "df.groupBy('userId')\\\n",
    ".agg(countDistinct(\"gender\"))\\\n",
    ".withColumnRenamed(\"count(DISTINCT gender)\", 'gender_count')\\\n",
    ".filter('gender_count != 1').show()"
   ]
  },
  {
   "cell_type": "markdown",
   "metadata": {},
   "source": [
    "# Feature Engineering\n",
    "Once you've familiarized yourself with the data, build out the features you find promising to train your model on. To work with the full dataset, you can follow the following steps.\n",
    "- Write a script to extract the necessary features from the smaller subset of data\n",
    "- Ensure that your script is scalable, using the best practices discussed in Lesson 3\n",
    "- Try your script on the full data set, debugging your script if necessary\n",
    "\n",
    "If you are working in the classroom workspace, you can just extract features based on the small subset of data contained here. Be sure to transfer over this work to the larger dataset when you work on your Spark cluster."
   ]
  },
  {
   "cell_type": "code",
   "execution_count": null,
   "metadata": {},
   "outputs": [],
   "source": [
    "### "
   ]
  },
  {
   "cell_type": "code",
   "execution_count": null,
   "metadata": {},
   "outputs": [],
   "source": [
    "### How many unique sessions per user?"
   ]
  },
  {
   "cell_type": "code",
   "execution_count": null,
   "metadata": {},
   "outputs": [],
   "source": [
    "### Favorite singer"
   ]
  },
  {
   "cell_type": "code",
   "execution_count": null,
   "metadata": {},
   "outputs": [],
   "source": [
    "### Favorite song"
   ]
  },
  {
   "cell_type": "code",
   "execution_count": null,
   "metadata": {},
   "outputs": [],
   "source": []
  },
  {
   "cell_type": "markdown",
   "metadata": {},
   "source": [
    "# Modeling\n",
    "Split the full dataset into train, test, and validation sets. Test out several of the machine learning methods you learned. Evaluate the accuracy of the various models, tuning parameters as necessary. Determine your winning model based on test accuracy and report results on the validation set. Since the churned users are a fairly small subset, I suggest using F1 score as the metric to optimize."
   ]
  },
  {
   "cell_type": "code",
   "execution_count": null,
   "metadata": {},
   "outputs": [],
   "source": []
  },
  {
   "cell_type": "markdown",
   "metadata": {},
   "source": [
    "# Final Steps\n",
    "Clean up your code, adding comments and renaming variables to make the code easier to read and maintain. Refer to the Spark Project Overview page and Data Scientist Capstone Project Rubric to make sure you are including all components of the capstone project and meet all expectations. Remember, this includes thorough documentation in a README file in a Github repository, as well as a web app or blog post."
   ]
  },
  {
   "cell_type": "code",
   "execution_count": null,
   "metadata": {},
   "outputs": [],
   "source": []
  }
 ],
 "metadata": {
  "kernelspec": {
   "display_name": "Python 3",
   "language": "python",
   "name": "python3"
  },
  "language_info": {
   "codemirror_mode": {
    "name": "ipython",
    "version": 3
   },
   "file_extension": ".py",
   "mimetype": "text/x-python",
   "name": "python",
   "nbconvert_exporter": "python",
   "pygments_lexer": "ipython3",
   "version": "3.7.1-final"
  }
 },
 "nbformat": 4,
 "nbformat_minor": 2
}