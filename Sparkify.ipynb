{
 "cells": [
  {
   "cell_type": "markdown",
   "metadata": {},
   "source": [
    "# Sparkify Project Workspace\n",
    "This workspace contains a tiny subset (128MB) of the full dataset available (12GB). Feel free to use this workspace to build your project, or to explore a smaller subset with Spark before deploying your cluster on the cloud. Instructions for setting up your Spark cluster is included in the last lesson of the Extracurricular Spark Course content.\n",
    "\n",
    "You can follow the steps below to guide your data analysis and model building portion of this project."
   ]
  },
  {
   "cell_type": "code",
   "execution_count": 1,
   "metadata": {},
   "outputs": [],
   "source": [
    "# import libraries\n",
    "from pyspark.sql import SparkSession\n",
    "from pathlib import Path # better file paths\n",
    "from pyspark.sql.window import Window\n",
    "from pyspark.sql.functions import countDistinct, col, when, lit, count, sum\n",
    "from pyspark.sql.functions import round as sparkround\n",
    "from pyspark.sql.functions import max as sparkMax #https://stackoverflow.com/questions/36924873/pyspark-column-is-not-iterable\n",
    "from pyspark.ml.feature import VectorAssembler, Normalizer, StandardScaler # create numeric features\n",
    "from pyspark.ml.feature import StringIndexer # convert Categorical variables to numeric Indexes\n",
    "from pyspark.ml.feature import OneHotEncoderEstimator # one hot code categorical variables\n",
    "from pyspark.ml import Pipeline # create a pipeline for different stages of preprocessing the data\n",
    "from pyspark.ml.classification import LogisticRegression # a good starter algorithm for classification\n",
    "from pyspark.ml.tuning import ParamGridBuilder, TrainValidationSplit, CrossValidator # hyper parameter tuning and regular validation and CV\n",
    "from pyspark.ml.evaluation import BinaryClassificationEvaluator\n",
    "from pyspark.ml.evaluation import MulticlassClassificationEvaluator #needed to get F1 score\n",
    "import pandas as pd "
   ]
  },
  {
   "cell_type": "code",
   "execution_count": 2,
   "metadata": {},
   "outputs": [
    {
     "output_type": "execute_result",
     "data": {
      "text/plain": "<pyspark.sql.session.SparkSession at 0x7fdbc48f3ef0>",
      "text/html": "\n            <div>\n                <p><b>SparkSession - in-memory</b></p>\n                \n        <div>\n            <p><b>SparkContext</b></p>\n\n            <p><a href=\"http://172.20.10.11:4040\">Spark UI</a></p>\n\n            <dl>\n              <dt>Version</dt>\n                <dd><code>v2.4.5</code></dd>\n              <dt>Master</dt>\n                <dd><code>local[*]</code></dd>\n              <dt>AppName</dt>\n                <dd><code>Sparkify</code></dd>\n            </dl>\n        </div>\n        \n            </div>\n        "
     },
     "metadata": {},
     "execution_count": 2
    }
   ],
   "source": [
    "# create a Spark session\n",
    "spark = SparkSession \\\n",
    "    .builder \\\n",
    "    .appName('Sparkify') \\\n",
    "    .getOrCreate()\n",
    "spark"
   ]
  },
  {
   "cell_type": "code",
   "execution_count": 3,
   "metadata": {},
   "outputs": [
    {
     "output_type": "execute_result",
     "data": {
      "text/plain": "'/Users/jas/github/udacity-data-scientist-nanodegree-capstone-project'"
     },
     "metadata": {},
     "execution_count": 3
    }
   ],
   "source": [
    "# what is the project folder?\n",
    "import os; os.getcwd()"
   ]
  },
  {
   "cell_type": "markdown",
   "metadata": {},
   "source": [
    "# Load and Clean Dataset\n",
    "In this workspace, the mini-dataset file is `mini_sparkify_event_data.json`. Load and clean the dataset, checking for invalid or missing data - for example, records without userids or sessionids. "
   ]
  },
  {
   "cell_type": "code",
   "execution_count": 4,
   "metadata": {},
   "outputs": [
    {
     "output_type": "execute_result",
     "data": {
      "text/plain": "Row(artist='Martha Tilston', auth='Logged In', firstName='Colin', gender='M', itemInSession=50, lastName='Freeman', length=277.89016, level='paid', location='Bakersfield, CA', method='PUT', page='NextSong', registration=1538173362000, sessionId=29, song='Rockpools', status=200, ts=1538352117000, userAgent='Mozilla/5.0 (Windows NT 6.1; WOW64; rv:31.0) Gecko/20100101 Firefox/31.0', userId='30')"
     },
     "metadata": {},
     "execution_count": 4
    }
   ],
   "source": [
    "# reading in data from local data folder which is gitignored due to large file size\n",
    "event_data = Path.cwd() / \"data\" / \"mini_sparkify_event_data.json\"\n",
    "df = spark.read.json(str(event_data))\n",
    "df.head()"
   ]
  },
  {
   "cell_type": "code",
   "execution_count": 5,
   "metadata": {},
   "outputs": [
    {
     "output_type": "execute_result",
     "data": {
      "text/plain": "pyspark.sql.dataframe.DataFrame"
     },
     "metadata": {},
     "execution_count": 5
    }
   ],
   "source": [
    "type(df)"
   ]
  },
  {
   "cell_type": "code",
   "execution_count": 6,
   "metadata": {},
   "outputs": [
    {
     "output_type": "stream",
     "name": "stdout",
     "text": "['artist', 'auth', 'firstName', 'gender', 'itemInSession', 'lastName', 'length', 'level', 'location', 'method', 'page', 'registration', 'sessionId', 'song', 'status', 'ts', 'userAgent', 'userId']\n"
    }
   ],
   "source": [
    "print(df.columns) # this way prints horizontally"
   ]
  },
  {
   "cell_type": "code",
   "execution_count": 7,
   "metadata": {},
   "outputs": [
    {
     "output_type": "execute_result",
     "data": {
      "text/plain": "             artist       auth firstName gender  itemInSession lastName  \\\n0    Martha Tilston  Logged In     Colin      M             50  Freeman   \n1  Five Iron Frenzy  Logged In     Micah      M             79     Long   \n2      Adam Lambert  Logged In     Colin      M             51  Freeman   \n3            Enigma  Logged In     Micah      M             80     Long   \n4         Daft Punk  Logged In     Colin      M             52  Freeman   \n\n      length level                        location method      page  \\\n0  277.89016  paid                 Bakersfield, CA    PUT  NextSong   \n1  236.09424  free  Boston-Cambridge-Newton, MA-NH    PUT  NextSong   \n2  282.82730  paid                 Bakersfield, CA    PUT  NextSong   \n3  262.71302  free  Boston-Cambridge-Newton, MA-NH    PUT  NextSong   \n4  223.60771  paid                 Bakersfield, CA    PUT  NextSong   \n\n    registration  sessionId                           song  status  \\\n0  1538173362000         29                      Rockpools     200   \n1  1538331630000          8                         Canada     200   \n2  1538173362000         29              Time For Miracles     200   \n3  1538331630000          8    Knocking On Forbidden Doors     200   \n4  1538173362000         29  Harder Better Faster Stronger     200   \n\n              ts                                          userAgent userId  \n0  1538352117000  Mozilla/5.0 (Windows NT 6.1; WOW64; rv:31.0) G...     30  \n1  1538352180000  \"Mozilla/5.0 (Windows NT 6.1; WOW64) AppleWebK...      9  \n2  1538352394000  Mozilla/5.0 (Windows NT 6.1; WOW64; rv:31.0) G...     30  \n3  1538352416000  \"Mozilla/5.0 (Windows NT 6.1; WOW64) AppleWebK...      9  \n4  1538352676000  Mozilla/5.0 (Windows NT 6.1; WOW64; rv:31.0) G...     30  ",
      "text/html": "<div>\n<style scoped>\n    .dataframe tbody tr th:only-of-type {\n        vertical-align: middle;\n    }\n\n    .dataframe tbody tr th {\n        vertical-align: top;\n    }\n\n    .dataframe thead th {\n        text-align: right;\n    }\n</style>\n<table border=\"1\" class=\"dataframe\">\n  <thead>\n    <tr style=\"text-align: right;\">\n      <th></th>\n      <th>artist</th>\n      <th>auth</th>\n      <th>firstName</th>\n      <th>gender</th>\n      <th>itemInSession</th>\n      <th>lastName</th>\n      <th>length</th>\n      <th>level</th>\n      <th>location</th>\n      <th>method</th>\n      <th>page</th>\n      <th>registration</th>\n      <th>sessionId</th>\n      <th>song</th>\n      <th>status</th>\n      <th>ts</th>\n      <th>userAgent</th>\n      <th>userId</th>\n    </tr>\n  </thead>\n  <tbody>\n    <tr>\n      <th>0</th>\n      <td>Martha Tilston</td>\n      <td>Logged In</td>\n      <td>Colin</td>\n      <td>M</td>\n      <td>50</td>\n      <td>Freeman</td>\n      <td>277.89016</td>\n      <td>paid</td>\n      <td>Bakersfield, CA</td>\n      <td>PUT</td>\n      <td>NextSong</td>\n      <td>1538173362000</td>\n      <td>29</td>\n      <td>Rockpools</td>\n      <td>200</td>\n      <td>1538352117000</td>\n      <td>Mozilla/5.0 (Windows NT 6.1; WOW64; rv:31.0) G...</td>\n      <td>30</td>\n    </tr>\n    <tr>\n      <th>1</th>\n      <td>Five Iron Frenzy</td>\n      <td>Logged In</td>\n      <td>Micah</td>\n      <td>M</td>\n      <td>79</td>\n      <td>Long</td>\n      <td>236.09424</td>\n      <td>free</td>\n      <td>Boston-Cambridge-Newton, MA-NH</td>\n      <td>PUT</td>\n      <td>NextSong</td>\n      <td>1538331630000</td>\n      <td>8</td>\n      <td>Canada</td>\n      <td>200</td>\n      <td>1538352180000</td>\n      <td>\"Mozilla/5.0 (Windows NT 6.1; WOW64) AppleWebK...</td>\n      <td>9</td>\n    </tr>\n    <tr>\n      <th>2</th>\n      <td>Adam Lambert</td>\n      <td>Logged In</td>\n      <td>Colin</td>\n      <td>M</td>\n      <td>51</td>\n      <td>Freeman</td>\n      <td>282.82730</td>\n      <td>paid</td>\n      <td>Bakersfield, CA</td>\n      <td>PUT</td>\n      <td>NextSong</td>\n      <td>1538173362000</td>\n      <td>29</td>\n      <td>Time For Miracles</td>\n      <td>200</td>\n      <td>1538352394000</td>\n      <td>Mozilla/5.0 (Windows NT 6.1; WOW64; rv:31.0) G...</td>\n      <td>30</td>\n    </tr>\n    <tr>\n      <th>3</th>\n      <td>Enigma</td>\n      <td>Logged In</td>\n      <td>Micah</td>\n      <td>M</td>\n      <td>80</td>\n      <td>Long</td>\n      <td>262.71302</td>\n      <td>free</td>\n      <td>Boston-Cambridge-Newton, MA-NH</td>\n      <td>PUT</td>\n      <td>NextSong</td>\n      <td>1538331630000</td>\n      <td>8</td>\n      <td>Knocking On Forbidden Doors</td>\n      <td>200</td>\n      <td>1538352416000</td>\n      <td>\"Mozilla/5.0 (Windows NT 6.1; WOW64) AppleWebK...</td>\n      <td>9</td>\n    </tr>\n    <tr>\n      <th>4</th>\n      <td>Daft Punk</td>\n      <td>Logged In</td>\n      <td>Colin</td>\n      <td>M</td>\n      <td>52</td>\n      <td>Freeman</td>\n      <td>223.60771</td>\n      <td>paid</td>\n      <td>Bakersfield, CA</td>\n      <td>PUT</td>\n      <td>NextSong</td>\n      <td>1538173362000</td>\n      <td>29</td>\n      <td>Harder Better Faster Stronger</td>\n      <td>200</td>\n      <td>1538352676000</td>\n      <td>Mozilla/5.0 (Windows NT 6.1; WOW64; rv:31.0) G...</td>\n      <td>30</td>\n    </tr>\n  </tbody>\n</table>\n</div>"
     },
     "metadata": {},
     "execution_count": 7
    }
   ],
   "source": [
    "df.limit(5).toPandas()"
   ]
  },
  {
   "cell_type": "markdown",
   "metadata": {},
   "source": [
    "# Exploratory Data Analysis\n",
    "When you're working with the full dataset, perform EDA by loading a small subset of the data and doing basic manipulations within Spark. In this workspace, you are already provided a small subset of data you can explore.\n",
    "\n",
    "### Define Churn\n",
    "\n",
    "Once you've done some preliminary analysis, create a column `Churn` to use as the label for your model. I suggest using the `Cancellation Confirmation` events to define your churn, which happen for both paid and free users. As a bonus task, you can also look into the `Downgrade` events.\n",
    "\n",
    "### Explore Data\n",
    "Once you've defined churn, perform some exploratory data analysis to observe the behavior for users who stayed vs users who churned. You can start by exploring aggregates on these two groups of users, observing how much of a specific action they experienced per a certain time unit or number of songs played."
   ]
  },
  {
   "cell_type": "markdown",
   "metadata": {},
   "source": [
    "## Define Churn"
   ]
  },
  {
   "cell_type": "markdown",
   "metadata": {},
   "source": [
    "* What column has Cancellation Confirmation? page?"
   ]
  },
  {
   "cell_type": "code",
   "execution_count": 8,
   "metadata": {},
   "outputs": [
    {
     "output_type": "execute_result",
     "data": {
      "text/plain": "                         page   count\n0                    NextSong  228108\n1                        Home   14457\n2                   Thumbs Up   12551\n3             Add to Playlist    6526\n4                  Add Friend    4277\n5                 Roll Advert    3933\n6                       Login    3241\n7                      Logout    3226\n8                 Thumbs Down    2546\n9                   Downgrade    2055\n10                       Help    1726\n11                   Settings    1514\n12                      About     924\n13                    Upgrade     499\n14              Save Settings     310\n15                      Error     258\n16             Submit Upgrade     159\n17           Submit Downgrade      63\n18                     Cancel      52\n19  Cancellation Confirmation      52\n20                   Register      18\n21        Submit Registration       5",
      "text/html": "<div>\n<style scoped>\n    .dataframe tbody tr th:only-of-type {\n        vertical-align: middle;\n    }\n\n    .dataframe tbody tr th {\n        vertical-align: top;\n    }\n\n    .dataframe thead th {\n        text-align: right;\n    }\n</style>\n<table border=\"1\" class=\"dataframe\">\n  <thead>\n    <tr style=\"text-align: right;\">\n      <th></th>\n      <th>page</th>\n      <th>count</th>\n    </tr>\n  </thead>\n  <tbody>\n    <tr>\n      <th>0</th>\n      <td>NextSong</td>\n      <td>228108</td>\n    </tr>\n    <tr>\n      <th>1</th>\n      <td>Home</td>\n      <td>14457</td>\n    </tr>\n    <tr>\n      <th>2</th>\n      <td>Thumbs Up</td>\n      <td>12551</td>\n    </tr>\n    <tr>\n      <th>3</th>\n      <td>Add to Playlist</td>\n      <td>6526</td>\n    </tr>\n    <tr>\n      <th>4</th>\n      <td>Add Friend</td>\n      <td>4277</td>\n    </tr>\n    <tr>\n      <th>5</th>\n      <td>Roll Advert</td>\n      <td>3933</td>\n    </tr>\n    <tr>\n      <th>6</th>\n      <td>Login</td>\n      <td>3241</td>\n    </tr>\n    <tr>\n      <th>7</th>\n      <td>Logout</td>\n      <td>3226</td>\n    </tr>\n    <tr>\n      <th>8</th>\n      <td>Thumbs Down</td>\n      <td>2546</td>\n    </tr>\n    <tr>\n      <th>9</th>\n      <td>Downgrade</td>\n      <td>2055</td>\n    </tr>\n    <tr>\n      <th>10</th>\n      <td>Help</td>\n      <td>1726</td>\n    </tr>\n    <tr>\n      <th>11</th>\n      <td>Settings</td>\n      <td>1514</td>\n    </tr>\n    <tr>\n      <th>12</th>\n      <td>About</td>\n      <td>924</td>\n    </tr>\n    <tr>\n      <th>13</th>\n      <td>Upgrade</td>\n      <td>499</td>\n    </tr>\n    <tr>\n      <th>14</th>\n      <td>Save Settings</td>\n      <td>310</td>\n    </tr>\n    <tr>\n      <th>15</th>\n      <td>Error</td>\n      <td>258</td>\n    </tr>\n    <tr>\n      <th>16</th>\n      <td>Submit Upgrade</td>\n      <td>159</td>\n    </tr>\n    <tr>\n      <th>17</th>\n      <td>Submit Downgrade</td>\n      <td>63</td>\n    </tr>\n    <tr>\n      <th>18</th>\n      <td>Cancel</td>\n      <td>52</td>\n    </tr>\n    <tr>\n      <th>19</th>\n      <td>Cancellation Confirmation</td>\n      <td>52</td>\n    </tr>\n    <tr>\n      <th>20</th>\n      <td>Register</td>\n      <td>18</td>\n    </tr>\n    <tr>\n      <th>21</th>\n      <td>Submit Registration</td>\n      <td>5</td>\n    </tr>\n  </tbody>\n</table>\n</div>"
     },
     "metadata": {},
     "execution_count": 8
    }
   ],
   "source": [
    "df.groupby('page').count().sort('count', ascending=False).limit(50).toPandas()"
   ]
  },
  {
   "cell_type": "markdown",
   "metadata": {},
   "source": [
    "* How many total rows (in this sample dataset)?"
   ]
  },
  {
   "cell_type": "code",
   "execution_count": 9,
   "metadata": {},
   "outputs": [
    {
     "output_type": "execute_result",
     "data": {
      "text/plain": "286500"
     },
     "metadata": {},
     "execution_count": 9
    }
   ],
   "source": [
    "num_rows = df.count()\n",
    "num_rows"
   ]
  },
  {
   "cell_type": "markdown",
   "metadata": {},
   "source": [
    "* How many total users?"
   ]
  },
  {
   "cell_type": "code",
   "execution_count": 10,
   "metadata": {},
   "outputs": [
    {
     "output_type": "execute_result",
     "data": {
      "text/plain": "226"
     },
     "metadata": {},
     "execution_count": 10
    }
   ],
   "source": [
    "#num_users = df.select(countDistinct(\"userId\")).toPandas().values[0]\n",
    "num_users = df.select(countDistinct(\"userId\")).toPandas().iloc[0][0]\n",
    "num_users"
   ]
  },
  {
   "cell_type": "code",
   "execution_count": 11,
   "metadata": {},
   "outputs": [
    {
     "output_type": "execute_result",
     "data": {
      "text/plain": "52"
     },
     "metadata": {},
     "execution_count": 11
    }
   ],
   "source": [
    "num_users_cancelled = df.filter('page == \"Cancellation Confirmation\"').select(countDistinct(\"userId\")).toPandas().iloc[0][0]\n",
    "num_users_cancelled"
   ]
  },
  {
   "cell_type": "code",
   "execution_count": 12,
   "metadata": {},
   "outputs": [
    {
     "output_type": "execute_result",
     "data": {
      "text/plain": "23.0"
     },
     "metadata": {},
     "execution_count": 12
    }
   ],
   "source": [
    "round(num_users_cancelled/num_users * 100, 1) # percentage of users that cancelled"
   ]
  },
  {
   "cell_type": "code",
   "execution_count": 13,
   "metadata": {},
   "outputs": [],
   "source": [
    "# actually update the data with churn value"
   ]
  },
  {
   "cell_type": "markdown",
   "metadata": {},
   "source": [
    "* Just need to find the ids that churned and of course the rest are not churned"
   ]
  },
  {
   "cell_type": "code",
   "execution_count": 14,
   "metadata": {},
   "outputs": [
    {
     "output_type": "execute_result",
     "data": {
      "text/plain": "['125', '51', '54', '100014', '101']"
     },
     "metadata": {},
     "execution_count": 14
    }
   ],
   "source": [
    "cancelled_ids = df.filter('page == \"Cancellation Confirmation\"').select(\"userId\").distinct()\n",
    "# Convert to list to be used to filter later\n",
    "cancelled_ids = cancelled_ids.toPandas()['userId'].tolist()\n",
    "cancelled_ids[:5]"
   ]
  },
  {
   "cell_type": "markdown",
   "metadata": {},
   "source": [
    "* When the userId matches a cancelled user than we provide a value of **1**, else it is **0**."
   ]
  },
  {
   "cell_type": "code",
   "execution_count": 15,
   "metadata": {},
   "outputs": [
    {
     "output_type": "execute_result",
     "data": {
      "text/plain": "52"
     },
     "metadata": {},
     "execution_count": 15
    }
   ],
   "source": [
    "len(cancelled_ids)"
   ]
  },
  {
   "cell_type": "code",
   "execution_count": null,
   "metadata": {},
   "outputs": [],
   "source": []
  },
  {
   "cell_type": "code",
   "execution_count": 16,
   "metadata": {},
   "outputs": [
    {
     "output_type": "stream",
     "name": "stdout",
     "text": "+--------------------+---------+---------+------+-------------+--------+---------+-----+--------------------+------+---------------+-------------+---------+--------------------+------+-------------+--------------------+------+-----+\n|              artist|     auth|firstName|gender|itemInSession|lastName|   length|level|            location|method|           page| registration|sessionId|                song|status|           ts|           userAgent|userId|Churn|\n+--------------------+---------+---------+------+-------------+--------+---------+-----+--------------------+------+---------------+-------------+---------+--------------------+------+-------------+--------------------+------+-----+\n|      Martha Tilston|Logged In|    Colin|     M|           50| Freeman|277.89016| paid|     Bakersfield, CA|   PUT|       NextSong|1538173362000|       29|           Rockpools|   200|1538352117000|Mozilla/5.0 (Wind...|    30|    0|\n|    Five Iron Frenzy|Logged In|    Micah|     M|           79|    Long|236.09424| free|Boston-Cambridge-...|   PUT|       NextSong|1538331630000|        8|              Canada|   200|1538352180000|\"Mozilla/5.0 (Win...|     9|    0|\n|        Adam Lambert|Logged In|    Colin|     M|           51| Freeman| 282.8273| paid|     Bakersfield, CA|   PUT|       NextSong|1538173362000|       29|   Time For Miracles|   200|1538352394000|Mozilla/5.0 (Wind...|    30|    0|\n|              Enigma|Logged In|    Micah|     M|           80|    Long|262.71302| free|Boston-Cambridge-...|   PUT|       NextSong|1538331630000|        8|Knocking On Forbi...|   200|1538352416000|\"Mozilla/5.0 (Win...|     9|    0|\n|           Daft Punk|Logged In|    Colin|     M|           52| Freeman|223.60771| paid|     Bakersfield, CA|   PUT|       NextSong|1538173362000|       29|Harder Better Fas...|   200|1538352676000|Mozilla/5.0 (Wind...|    30|    0|\n|The All-American ...|Logged In|    Micah|     M|           81|    Long|208.29995| free|Boston-Cambridge-...|   PUT|       NextSong|1538331630000|        8|      Don't Leave Me|   200|1538352678000|\"Mozilla/5.0 (Win...|     9|    0|\n|The Velvet Underg...|Logged In|    Micah|     M|           82|    Long|260.46649| free|Boston-Cambridge-...|   PUT|       NextSong|1538331630000|        8|         Run Run Run|   200|1538352886000|\"Mozilla/5.0 (Win...|     9|    0|\n|        Starflyer 59|Logged In|    Colin|     M|           53| Freeman|185.44281| paid|     Bakersfield, CA|   PUT|       NextSong|1538173362000|       29|Passengers (Old A...|   200|1538352899000|Mozilla/5.0 (Wind...|    30|    0|\n|                null|Logged In|    Colin|     M|           54| Freeman|     null| paid|     Bakersfield, CA|   PUT|Add to Playlist|1538173362000|       29|                null|   200|1538352905000|Mozilla/5.0 (Wind...|    30|    0|\n|            Frumpies|Logged In|    Colin|     M|           55| Freeman|134.47791| paid|     Bakersfield, CA|   PUT|       NextSong|1538173362000|       29|          Fuck Kitty|   200|1538353084000|Mozilla/5.0 (Wind...|    30|    0|\n|        Britt Nicole|Logged In|    Micah|     M|           83|    Long| 229.8771| free|Boston-Cambridge-...|   PUT|       NextSong|1538331630000|        8|   Walk On The Water|   200|1538353146000|\"Mozilla/5.0 (Win...|     9|    0|\n|                null|Logged In|    Micah|     M|           84|    Long|     null| free|Boston-Cambridge-...|   GET|    Roll Advert|1538331630000|        8|                null|   200|1538353150000|\"Mozilla/5.0 (Win...|     9|    0|\n|Edward Sharpe & T...|Logged In|    Colin|     M|           56| Freeman|223.58159| paid|     Bakersfield, CA|   PUT|       NextSong|1538173362000|       29|                Jade|   200|1538353218000|Mozilla/5.0 (Wind...|    30|    0|\n|               Tesla|Logged In|    Micah|     M|           85|    Long|201.06404| free|Boston-Cambridge-...|   PUT|       NextSong|1538331630000|        8|      Gettin' Better|   200|1538353375000|\"Mozilla/5.0 (Win...|     9|    0|\n|                null|Logged In|    Micah|     M|           86|    Long|     null| free|Boston-Cambridge-...|   PUT|      Thumbs Up|1538331630000|        8|                null|   307|1538353376000|\"Mozilla/5.0 (Win...|     9|    0|\n|         Stan Mosley|Logged In|    Colin|     M|           57| Freeman|246.69995| paid|     Bakersfield, CA|   PUT|       NextSong|1538173362000|       29|   So-Called Friends|   200|1538353441000|Mozilla/5.0 (Wind...|    30|    0|\n|Florence + The Ma...|Logged In|    Micah|     M|           87|    Long|168.64608| free|Boston-Cambridge-...|   PUT|       NextSong|1538331630000|        8| You've Got The Love|   200|1538353576000|\"Mozilla/5.0 (Win...|     9|    0|\n|   Tokyo Police Club|Logged In|  Ashlynn|     F|            0|Williams| 166.1122| free|     Tallahassee, FL|   PUT|       NextSong|1537365219000|      217|Citizens Of Tomorrow|   200|1538353668000|\"Mozilla/5.0 (Mac...|    74|    0|\n|             Orishas|Logged In|    Colin|     M|           58| Freeman|222.22322| paid|     Bakersfield, CA|   PUT|       NextSong|1538173362000|       29|           Represent|   200|1538353687000|Mozilla/5.0 (Wind...|    30|    0|\n|             Ratatat|Logged In|    Micah|     M|           88|    Long|229.77261| free|Boston-Cambridge-...|   PUT|       NextSong|1538331630000|        8|              Swisha|   200|1538353744000|\"Mozilla/5.0 (Win...|     9|    0|\n+--------------------+---------+---------+------+-------------+--------+---------+-----+--------------------+------+---------------+-------------+---------+--------------------+------+-------------+--------------------+------+-----+\nonly showing top 20 rows\n\n"
    }
   ],
   "source": [
    "df = df.withColumn(\"Churn\", when((col(\"userId\").isin(cancelled_ids)),lit('1')).otherwise(lit('0')))\n",
    "df.show()"
   ]
  },
  {
   "cell_type": "code",
   "execution_count": 17,
   "metadata": {},
   "outputs": [
    {
     "output_type": "execute_result",
     "data": {
      "text/plain": "  Churn  count(DISTINCT userId)\n0     0                     174\n1     1                      52",
      "text/html": "<div>\n<style scoped>\n    .dataframe tbody tr th:only-of-type {\n        vertical-align: middle;\n    }\n\n    .dataframe tbody tr th {\n        vertical-align: top;\n    }\n\n    .dataframe thead th {\n        text-align: right;\n    }\n</style>\n<table border=\"1\" class=\"dataframe\">\n  <thead>\n    <tr style=\"text-align: right;\">\n      <th></th>\n      <th>Churn</th>\n      <th>count(DISTINCT userId)</th>\n    </tr>\n  </thead>\n  <tbody>\n    <tr>\n      <th>0</th>\n      <td>0</td>\n      <td>174</td>\n    </tr>\n    <tr>\n      <th>1</th>\n      <td>1</td>\n      <td>52</td>\n    </tr>\n  </tbody>\n</table>\n</div>"
     },
     "metadata": {},
     "execution_count": 17
    }
   ],
   "source": [
    "df.groupby('Churn').agg(countDistinct(\"userId\")).toPandas()"
   ]
  },
  {
   "cell_type": "markdown",
   "metadata": {},
   "source": [
    "## Explore Data"
   ]
  },
  {
   "cell_type": "markdown",
   "metadata": {},
   "source": [
    "### How many columns and what type of data?"
   ]
  },
  {
   "cell_type": "code",
   "execution_count": 18,
   "metadata": {},
   "outputs": [
    {
     "output_type": "stream",
     "name": "stdout",
     "text": "root\n |-- artist: string (nullable = true)\n |-- auth: string (nullable = true)\n |-- firstName: string (nullable = true)\n |-- gender: string (nullable = true)\n |-- itemInSession: long (nullable = true)\n |-- lastName: string (nullable = true)\n |-- length: double (nullable = true)\n |-- level: string (nullable = true)\n |-- location: string (nullable = true)\n |-- method: string (nullable = true)\n |-- page: string (nullable = true)\n |-- registration: long (nullable = true)\n |-- sessionId: long (nullable = true)\n |-- song: string (nullable = true)\n |-- status: long (nullable = true)\n |-- ts: long (nullable = true)\n |-- userAgent: string (nullable = true)\n |-- userId: string (nullable = true)\n |-- Churn: string (nullable = false)\n\n"
    }
   ],
   "source": [
    "df.printSchema()"
   ]
  },
  {
   "cell_type": "code",
   "execution_count": 19,
   "metadata": {},
   "outputs": [
    {
     "output_type": "execute_result",
     "data": {
      "text/plain": "  summary              artist        auth firstName  gender  \\\n0   count              228108      286500    278154  278154   \n1    mean   551.0852017937219        None      None    None   \n2  stddev  1217.7693079161374        None      None    None   \n3     min                 !!!   Cancelled  Adelaida       F   \n4     max   ÃÂlafur Arnalds  Logged Out    Zyonna       M   \n\n        itemInSession lastName              length   level           location  \\\n0              286500   278154              228108  286500             278154   \n1  114.41421291448516     None  249.11718197783722    None               None   \n2  129.76726201141085     None   99.23517921058324    None               None   \n3                   0    Adams             0.78322    free         Albany, OR   \n4                1321   Wright          3024.66567    paid  Winston-Salem, NC   \n\n   method     page          registration          sessionId  \\\n0  286500   286500                278154             286500   \n1    None     None  1.535358834085557E12  1041.526554973822   \n2    None     None   3.291321616328068E9  726.7762634630834   \n3     GET    About         1521380675000                  1   \n4     PUT  Upgrade         1543247354000               2474   \n\n                                               song              status  \\\n0                                            228108              286500   \n1                                          Infinity  210.05459685863875   \n2                                               NaN   31.50507848842202   \n3                    \nÃÂg ÃÂtti GrÃÂ¡a ÃÂsku                 200   \n4  ÃÂau hafa sloppiÃÂ° undan ÃÂ¾unga myrkursins                 404   \n\n                      ts                                          userAgent  \\\n0                 286500                                             278154   \n1  1.5409568898104714E12                                               None   \n2   1.5075439608187113E9                                               None   \n3          1538352117000  \"Mozilla/5.0 (Macintosh; Intel Mac OS X 10_10)...   \n4          1543799476000  Mozilla/5.0 (compatible; MSIE 9.0; Windows NT ...   \n\n               userId               Churn  \n0              286500              286500  \n1   59682.02278593872  0.1565933682373473  \n2  109091.94999910519  0.3634175920988577  \n3                                       0  \n4                  99                   1  ",
      "text/html": "<div>\n<style scoped>\n    .dataframe tbody tr th:only-of-type {\n        vertical-align: middle;\n    }\n\n    .dataframe tbody tr th {\n        vertical-align: top;\n    }\n\n    .dataframe thead th {\n        text-align: right;\n    }\n</style>\n<table border=\"1\" class=\"dataframe\">\n  <thead>\n    <tr style=\"text-align: right;\">\n      <th></th>\n      <th>summary</th>\n      <th>artist</th>\n      <th>auth</th>\n      <th>firstName</th>\n      <th>gender</th>\n      <th>itemInSession</th>\n      <th>lastName</th>\n      <th>length</th>\n      <th>level</th>\n      <th>location</th>\n      <th>method</th>\n      <th>page</th>\n      <th>registration</th>\n      <th>sessionId</th>\n      <th>song</th>\n      <th>status</th>\n      <th>ts</th>\n      <th>userAgent</th>\n      <th>userId</th>\n      <th>Churn</th>\n    </tr>\n  </thead>\n  <tbody>\n    <tr>\n      <th>0</th>\n      <td>count</td>\n      <td>228108</td>\n      <td>286500</td>\n      <td>278154</td>\n      <td>278154</td>\n      <td>286500</td>\n      <td>278154</td>\n      <td>228108</td>\n      <td>286500</td>\n      <td>278154</td>\n      <td>286500</td>\n      <td>286500</td>\n      <td>278154</td>\n      <td>286500</td>\n      <td>228108</td>\n      <td>286500</td>\n      <td>286500</td>\n      <td>278154</td>\n      <td>286500</td>\n      <td>286500</td>\n    </tr>\n    <tr>\n      <th>1</th>\n      <td>mean</td>\n      <td>551.0852017937219</td>\n      <td>None</td>\n      <td>None</td>\n      <td>None</td>\n      <td>114.41421291448516</td>\n      <td>None</td>\n      <td>249.11718197783722</td>\n      <td>None</td>\n      <td>None</td>\n      <td>None</td>\n      <td>None</td>\n      <td>1.535358834085557E12</td>\n      <td>1041.526554973822</td>\n      <td>Infinity</td>\n      <td>210.05459685863875</td>\n      <td>1.5409568898104714E12</td>\n      <td>None</td>\n      <td>59682.02278593872</td>\n      <td>0.1565933682373473</td>\n    </tr>\n    <tr>\n      <th>2</th>\n      <td>stddev</td>\n      <td>1217.7693079161374</td>\n      <td>None</td>\n      <td>None</td>\n      <td>None</td>\n      <td>129.76726201141085</td>\n      <td>None</td>\n      <td>99.23517921058324</td>\n      <td>None</td>\n      <td>None</td>\n      <td>None</td>\n      <td>None</td>\n      <td>3.291321616328068E9</td>\n      <td>726.7762634630834</td>\n      <td>NaN</td>\n      <td>31.50507848842202</td>\n      <td>1.5075439608187113E9</td>\n      <td>None</td>\n      <td>109091.94999910519</td>\n      <td>0.3634175920988577</td>\n    </tr>\n    <tr>\n      <th>3</th>\n      <td>min</td>\n      <td>!!!</td>\n      <td>Cancelled</td>\n      <td>Adelaida</td>\n      <td>F</td>\n      <td>0</td>\n      <td>Adams</td>\n      <td>0.78322</td>\n      <td>free</td>\n      <td>Albany, OR</td>\n      <td>GET</td>\n      <td>About</td>\n      <td>1521380675000</td>\n      <td>1</td>\n      <td>ÃÂg ÃÂtti GrÃÂ¡a ÃÂsku</td>\n      <td>200</td>\n      <td>1538352117000</td>\n      <td>\"Mozilla/5.0 (Macintosh; Intel Mac OS X 10_10)...</td>\n      <td></td>\n      <td>0</td>\n    </tr>\n    <tr>\n      <th>4</th>\n      <td>max</td>\n      <td>ÃÂlafur Arnalds</td>\n      <td>Logged Out</td>\n      <td>Zyonna</td>\n      <td>M</td>\n      <td>1321</td>\n      <td>Wright</td>\n      <td>3024.66567</td>\n      <td>paid</td>\n      <td>Winston-Salem, NC</td>\n      <td>PUT</td>\n      <td>Upgrade</td>\n      <td>1543247354000</td>\n      <td>2474</td>\n      <td>ÃÂau hafa sloppiÃÂ° undan ÃÂ¾unga myrkursins</td>\n      <td>404</td>\n      <td>1543799476000</td>\n      <td>Mozilla/5.0 (compatible; MSIE 9.0; Windows NT ...</td>\n      <td>99</td>\n      <td>1</td>\n    </tr>\n  </tbody>\n</table>\n</div>"
     },
     "metadata": {},
     "execution_count": 19
    }
   ],
   "source": [
    "## Descriptive stats\n",
    "df.describe().toPandas()"
   ]
  },
  {
   "cell_type": "markdown",
   "metadata": {},
   "source": [
    "## artist"
   ]
  },
  {
   "cell_type": "markdown",
   "metadata": {},
   "source": [
    "* Who are the most popular artists?"
   ]
  },
  {
   "cell_type": "code",
   "execution_count": 20,
   "metadata": {},
   "outputs": [
    {
     "output_type": "execute_result",
     "data": {
      "text/plain": "                   artist  count\n0                    None  58392\n1           Kings Of Leon   1841\n2                Coldplay   1813\n3  Florence + The Machine   1236\n4           Dwight Yoakam   1135",
      "text/html": "<div>\n<style scoped>\n    .dataframe tbody tr th:only-of-type {\n        vertical-align: middle;\n    }\n\n    .dataframe tbody tr th {\n        vertical-align: top;\n    }\n\n    .dataframe thead th {\n        text-align: right;\n    }\n</style>\n<table border=\"1\" class=\"dataframe\">\n  <thead>\n    <tr style=\"text-align: right;\">\n      <th></th>\n      <th>artist</th>\n      <th>count</th>\n    </tr>\n  </thead>\n  <tbody>\n    <tr>\n      <th>0</th>\n      <td>None</td>\n      <td>58392</td>\n    </tr>\n    <tr>\n      <th>1</th>\n      <td>Kings Of Leon</td>\n      <td>1841</td>\n    </tr>\n    <tr>\n      <th>2</th>\n      <td>Coldplay</td>\n      <td>1813</td>\n    </tr>\n    <tr>\n      <th>3</th>\n      <td>Florence + The Machine</td>\n      <td>1236</td>\n    </tr>\n    <tr>\n      <th>4</th>\n      <td>Dwight Yoakam</td>\n      <td>1135</td>\n    </tr>\n  </tbody>\n</table>\n</div>"
     },
     "metadata": {},
     "execution_count": 20
    }
   ],
   "source": [
    "df.groupby('artist').count().sort('count', ascending=False).limit(5).toPandas() "
   ]
  },
  {
   "cell_type": "markdown",
   "metadata": {},
   "source": [
    "## auth"
   ]
  },
  {
   "cell_type": "code",
   "execution_count": 21,
   "metadata": {},
   "outputs": [
    {
     "output_type": "execute_result",
     "data": {
      "text/plain": "         auth   count\n0   Logged In  278102\n1  Logged Out    8249\n2       Guest      97\n3   Cancelled      52",
      "text/html": "<div>\n<style scoped>\n    .dataframe tbody tr th:only-of-type {\n        vertical-align: middle;\n    }\n\n    .dataframe tbody tr th {\n        vertical-align: top;\n    }\n\n    .dataframe thead th {\n        text-align: right;\n    }\n</style>\n<table border=\"1\" class=\"dataframe\">\n  <thead>\n    <tr style=\"text-align: right;\">\n      <th></th>\n      <th>auth</th>\n      <th>count</th>\n    </tr>\n  </thead>\n  <tbody>\n    <tr>\n      <th>0</th>\n      <td>Logged In</td>\n      <td>278102</td>\n    </tr>\n    <tr>\n      <th>1</th>\n      <td>Logged Out</td>\n      <td>8249</td>\n    </tr>\n    <tr>\n      <th>2</th>\n      <td>Guest</td>\n      <td>97</td>\n    </tr>\n    <tr>\n      <th>3</th>\n      <td>Cancelled</td>\n      <td>52</td>\n    </tr>\n  </tbody>\n</table>\n</div>"
     },
     "metadata": {},
     "execution_count": 21
    }
   ],
   "source": [
    "df.groupby('auth').count().sort('count', ascending=False).limit(5).toPandas() "
   ]
  },
  {
   "cell_type": "markdown",
   "metadata": {},
   "source": [
    "## Create a function to do the same thing for each column"
   ]
  },
  {
   "cell_type": "code",
   "execution_count": 22,
   "metadata": {},
   "outputs": [],
   "source": [
    "def topn_values(column_name, n):\n",
    "    \"\"\"\n",
    "    Take a column name and find the most frequent values\n",
    "    \"\"\"\n",
    "    return df.groupby(column_name).count().sort('count', ascending=False).limit(n).toPandas()"
   ]
  },
  {
   "cell_type": "code",
   "execution_count": 23,
   "metadata": {},
   "outputs": [
    {
     "output_type": "stream",
     "name": "stdout",
     "text": "artist  count\n0                    None  58392\n1           Kings Of Leon   1841\n2                Coldplay   1813\n3  Florence + The Machine   1236\n4           Dwight Yoakam   1135 \n\n         auth   count\n0   Logged In  278102\n1  Logged Out    8249\n2       Guest      97\n3   Cancelled      52 \n\n  firstName  count\n0    Payton   9632\n1      None   8346\n2     Riley   7970\n3    Lucero   6880\n4    Emilia   5732 \n\n  gender   count\n0      F  154578\n1      M  123576\n2   None    8346 \n\n   itemInSession  count\n0              0   3278\n1              1   3125\n2              2   3067\n3              3   3013\n4              4   2977 \n\n   lastName  count\n0  Campbell  14060\n1      Reed   9284\n2  Williams   8410\n3      None   8346\n4    Taylor   7230 \n\n      length  count\n0        NaN  58392\n1  239.30730   1205\n2  348.57751   1037\n3  201.79546    908\n4  655.77751    730 \n\n  level   count\n0  paid  228162\n1  free   58338 \n\n                                location  count\n0     Los Angeles-Long Beach-Anaheim, CA  30131\n1  New York-Newark-Jersey City, NY-NJ-PA  23684\n2         Boston-Cambridge-Newton, MA-NH  13873\n3   Houston-The Woodlands-Sugar Land, TX   9499\n4                                   None   8346 \n\n  method   count\n0    PUT  261064\n1    GET   25436 \n\n              page   count\n0         NextSong  228108\n1             Home   14457\n2        Thumbs Up   12551\n3  Add to Playlist    6526\n4       Add Friend    4277 \n\n   registration  count\n0  1.529028e+12   9632\n1           NaN   8346\n2  1.536404e+12   7230\n3  1.536642e+12   6880\n4  1.538337e+12   5732 \n\n   sessionId  count\n0       1840   1322\n1        316   1247\n2        236    905\n3        635    890\n4        368    799 \n\n             song  count\n0            None  58392\n1  You're The One   1153\n2            Undo   1026\n3         Revelry    854\n4   Sehr kosmisch    728 \n\n   status   count\n0     200  259812\n1     307   26430\n2     404     258 \n\n              ts  count\n0  1543376608000      4\n1  1542848987000      4\n2  1538786140000      4\n3  1541526859000      3\n4  1539721234000      3 \n\n                                           userAgent  count\n0  \"Mozilla/5.0 (Windows NT 6.1; WOW64) AppleWebK...  22751\n1  \"Mozilla/5.0 (Macintosh; Intel Mac OS X 10_9_4...  19611\n2  \"Mozilla/5.0 (Macintosh; Intel Mac OS X 10_9_4...  18448\n3  \"Mozilla/5.0 (Macintosh; Intel Mac OS X 10_9_4...  17348\n4  Mozilla/5.0 (Windows NT 6.1; WOW64; rv:31.0) G...  16700 \n\n   userId  count\n0      39   9632\n1           8346\n2      92   7230\n3     140   6880\n4  300011   5732 \n\n  Churn   count\n0     0  241636\n1     1   44864 \n\n"
    }
   ],
   "source": [
    "for column in df.columns:\n",
    "    top_values = topn_values(column, 5)\n",
    "    print(top_values, \"\\n\")"
   ]
  },
  {
   "cell_type": "markdown",
   "metadata": {},
   "source": [
    "### Findings\n",
    "* Need to ignore users without a **userId**, since we can't aggregate their data across sessions, or maybe there are only a few hits within a session that are missing and in that case we can fill the data\n",
    "\n",
    "* Need to exclude information that is not relevant for modeling such as first and last name, userId is all we need for now \n",
    "\n",
    "* How many user agents per user? Can we seperate out browser and OS?\n",
    "\n",
    "* Can we extract the user's state from the location to create a new variable with less cardinality?"
   ]
  },
  {
   "cell_type": "markdown",
   "metadata": {},
   "source": [
    "## Page"
   ]
  },
  {
   "cell_type": "markdown",
   "metadata": {},
   "source": [
    "* Need to see more than 5 pages"
   ]
  },
  {
   "cell_type": "code",
   "execution_count": 24,
   "metadata": {},
   "outputs": [
    {
     "output_type": "execute_result",
     "data": {
      "text/plain": "                         page   count\n0                    NextSong  228108\n1                        Home   14457\n2                   Thumbs Up   12551\n3             Add to Playlist    6526\n4                  Add Friend    4277\n5                 Roll Advert    3933\n6                       Login    3241\n7                      Logout    3226\n8                 Thumbs Down    2546\n9                   Downgrade    2055\n10                       Help    1726\n11                   Settings    1514\n12                      About     924\n13                    Upgrade     499\n14              Save Settings     310\n15                      Error     258\n16             Submit Upgrade     159\n17           Submit Downgrade      63\n18                     Cancel      52\n19  Cancellation Confirmation      52",
      "text/html": "<div>\n<style scoped>\n    .dataframe tbody tr th:only-of-type {\n        vertical-align: middle;\n    }\n\n    .dataframe tbody tr th {\n        vertical-align: top;\n    }\n\n    .dataframe thead th {\n        text-align: right;\n    }\n</style>\n<table border=\"1\" class=\"dataframe\">\n  <thead>\n    <tr style=\"text-align: right;\">\n      <th></th>\n      <th>page</th>\n      <th>count</th>\n    </tr>\n  </thead>\n  <tbody>\n    <tr>\n      <th>0</th>\n      <td>NextSong</td>\n      <td>228108</td>\n    </tr>\n    <tr>\n      <th>1</th>\n      <td>Home</td>\n      <td>14457</td>\n    </tr>\n    <tr>\n      <th>2</th>\n      <td>Thumbs Up</td>\n      <td>12551</td>\n    </tr>\n    <tr>\n      <th>3</th>\n      <td>Add to Playlist</td>\n      <td>6526</td>\n    </tr>\n    <tr>\n      <th>4</th>\n      <td>Add Friend</td>\n      <td>4277</td>\n    </tr>\n    <tr>\n      <th>5</th>\n      <td>Roll Advert</td>\n      <td>3933</td>\n    </tr>\n    <tr>\n      <th>6</th>\n      <td>Login</td>\n      <td>3241</td>\n    </tr>\n    <tr>\n      <th>7</th>\n      <td>Logout</td>\n      <td>3226</td>\n    </tr>\n    <tr>\n      <th>8</th>\n      <td>Thumbs Down</td>\n      <td>2546</td>\n    </tr>\n    <tr>\n      <th>9</th>\n      <td>Downgrade</td>\n      <td>2055</td>\n    </tr>\n    <tr>\n      <th>10</th>\n      <td>Help</td>\n      <td>1726</td>\n    </tr>\n    <tr>\n      <th>11</th>\n      <td>Settings</td>\n      <td>1514</td>\n    </tr>\n    <tr>\n      <th>12</th>\n      <td>About</td>\n      <td>924</td>\n    </tr>\n    <tr>\n      <th>13</th>\n      <td>Upgrade</td>\n      <td>499</td>\n    </tr>\n    <tr>\n      <th>14</th>\n      <td>Save Settings</td>\n      <td>310</td>\n    </tr>\n    <tr>\n      <th>15</th>\n      <td>Error</td>\n      <td>258</td>\n    </tr>\n    <tr>\n      <th>16</th>\n      <td>Submit Upgrade</td>\n      <td>159</td>\n    </tr>\n    <tr>\n      <th>17</th>\n      <td>Submit Downgrade</td>\n      <td>63</td>\n    </tr>\n    <tr>\n      <th>18</th>\n      <td>Cancel</td>\n      <td>52</td>\n    </tr>\n    <tr>\n      <th>19</th>\n      <td>Cancellation Confirmation</td>\n      <td>52</td>\n    </tr>\n  </tbody>\n</table>\n</div>"
     },
     "metadata": {},
     "execution_count": 24
    }
   ],
   "source": [
    "topn_values('page', 20)"
   ]
  },
  {
   "cell_type": "markdown",
   "metadata": {},
   "source": [
    "## User agent"
   ]
  },
  {
   "cell_type": "code",
   "execution_count": 25,
   "metadata": {},
   "outputs": [
    {
     "output_type": "execute_result",
     "data": {
      "text/plain": "                                            userAgent  count\n0   \"Mozilla/5.0 (Windows NT 6.1; WOW64) AppleWebK...  22751\n1   \"Mozilla/5.0 (Macintosh; Intel Mac OS X 10_9_4...  19611\n2   \"Mozilla/5.0 (Macintosh; Intel Mac OS X 10_9_4...  18448\n3   \"Mozilla/5.0 (Macintosh; Intel Mac OS X 10_9_4...  17348\n4   Mozilla/5.0 (Windows NT 6.1; WOW64; rv:31.0) G...  16700\n5   \"Mozilla/5.0 (Windows NT 6.1; WOW64) AppleWebK...  15395\n6   \"Mozilla/5.0 (Windows NT 6.1; WOW64) AppleWebK...  14598\n7   Mozilla/5.0 (Macintosh; Intel Mac OS X 10.9; r...  10300\n8   \"Mozilla/5.0 (iPad; CPU OS 7_1_2 like Mac OS X...   8912\n9   Mozilla/5.0 (compatible; MSIE 9.0; Windows NT ...   8624\n10                                               None   8346\n11  \"Mozilla/5.0 (Macintosh; Intel Mac OS X 10_9_4...   8094\n12  \"Mozilla/5.0 (Windows NT 6.1) AppleWebKit/537....   7923\n13  \"Mozilla/5.0 (Macintosh; Intel Mac OS X 10_9_4...   7906\n14  \"Mozilla/5.0 (Windows NT 6.3; WOW64) AppleWebK...   7624\n15  \"Mozilla/5.0 (iPhone; CPU iPhone OS 7_1_2 like...   6417\n16  Mozilla/5.0 (Windows NT 6.3; WOW64; rv:31.0) G...   5989\n17  \"Mozilla/5.0 (Macintosh; Intel Mac OS X 10_10)...   5716\n18  \"Mozilla/5.0 (Windows NT 5.1) AppleWebKit/537....   5238\n19  \"Mozilla/5.0 (Windows NT 6.3; WOW64) AppleWebK...   4917",
      "text/html": "<div>\n<style scoped>\n    .dataframe tbody tr th:only-of-type {\n        vertical-align: middle;\n    }\n\n    .dataframe tbody tr th {\n        vertical-align: top;\n    }\n\n    .dataframe thead th {\n        text-align: right;\n    }\n</style>\n<table border=\"1\" class=\"dataframe\">\n  <thead>\n    <tr style=\"text-align: right;\">\n      <th></th>\n      <th>userAgent</th>\n      <th>count</th>\n    </tr>\n  </thead>\n  <tbody>\n    <tr>\n      <th>0</th>\n      <td>\"Mozilla/5.0 (Windows NT 6.1; WOW64) AppleWebK...</td>\n      <td>22751</td>\n    </tr>\n    <tr>\n      <th>1</th>\n      <td>\"Mozilla/5.0 (Macintosh; Intel Mac OS X 10_9_4...</td>\n      <td>19611</td>\n    </tr>\n    <tr>\n      <th>2</th>\n      <td>\"Mozilla/5.0 (Macintosh; Intel Mac OS X 10_9_4...</td>\n      <td>18448</td>\n    </tr>\n    <tr>\n      <th>3</th>\n      <td>\"Mozilla/5.0 (Macintosh; Intel Mac OS X 10_9_4...</td>\n      <td>17348</td>\n    </tr>\n    <tr>\n      <th>4</th>\n      <td>Mozilla/5.0 (Windows NT 6.1; WOW64; rv:31.0) G...</td>\n      <td>16700</td>\n    </tr>\n    <tr>\n      <th>5</th>\n      <td>\"Mozilla/5.0 (Windows NT 6.1; WOW64) AppleWebK...</td>\n      <td>15395</td>\n    </tr>\n    <tr>\n      <th>6</th>\n      <td>\"Mozilla/5.0 (Windows NT 6.1; WOW64) AppleWebK...</td>\n      <td>14598</td>\n    </tr>\n    <tr>\n      <th>7</th>\n      <td>Mozilla/5.0 (Macintosh; Intel Mac OS X 10.9; r...</td>\n      <td>10300</td>\n    </tr>\n    <tr>\n      <th>8</th>\n      <td>\"Mozilla/5.0 (iPad; CPU OS 7_1_2 like Mac OS X...</td>\n      <td>8912</td>\n    </tr>\n    <tr>\n      <th>9</th>\n      <td>Mozilla/5.0 (compatible; MSIE 9.0; Windows NT ...</td>\n      <td>8624</td>\n    </tr>\n    <tr>\n      <th>10</th>\n      <td>None</td>\n      <td>8346</td>\n    </tr>\n    <tr>\n      <th>11</th>\n      <td>\"Mozilla/5.0 (Macintosh; Intel Mac OS X 10_9_4...</td>\n      <td>8094</td>\n    </tr>\n    <tr>\n      <th>12</th>\n      <td>\"Mozilla/5.0 (Windows NT 6.1) AppleWebKit/537....</td>\n      <td>7923</td>\n    </tr>\n    <tr>\n      <th>13</th>\n      <td>\"Mozilla/5.0 (Macintosh; Intel Mac OS X 10_9_4...</td>\n      <td>7906</td>\n    </tr>\n    <tr>\n      <th>14</th>\n      <td>\"Mozilla/5.0 (Windows NT 6.3; WOW64) AppleWebK...</td>\n      <td>7624</td>\n    </tr>\n    <tr>\n      <th>15</th>\n      <td>\"Mozilla/5.0 (iPhone; CPU iPhone OS 7_1_2 like...</td>\n      <td>6417</td>\n    </tr>\n    <tr>\n      <th>16</th>\n      <td>Mozilla/5.0 (Windows NT 6.3; WOW64; rv:31.0) G...</td>\n      <td>5989</td>\n    </tr>\n    <tr>\n      <th>17</th>\n      <td>\"Mozilla/5.0 (Macintosh; Intel Mac OS X 10_10)...</td>\n      <td>5716</td>\n    </tr>\n    <tr>\n      <th>18</th>\n      <td>\"Mozilla/5.0 (Windows NT 5.1) AppleWebKit/537....</td>\n      <td>5238</td>\n    </tr>\n    <tr>\n      <th>19</th>\n      <td>\"Mozilla/5.0 (Windows NT 6.3; WOW64) AppleWebK...</td>\n      <td>4917</td>\n    </tr>\n  </tbody>\n</table>\n</div>"
     },
     "metadata": {},
     "execution_count": 25
    }
   ],
   "source": [
    "topn_values('userAgent', 20)"
   ]
  },
  {
   "cell_type": "code",
   "execution_count": 26,
   "metadata": {},
   "outputs": [],
   "source": [
    "#https://stackoverflow.com/questions/17805464/using-regex-to-retrieve-browser-name"
   ]
  },
  {
   "cell_type": "code",
   "execution_count": 27,
   "metadata": {},
   "outputs": [
    {
     "output_type": "stream",
     "name": "stdout",
     "text": ",userAgent\n0,Mozilla/5.0 (Windows NT 6.1; WOW64; rv:31.0) Gecko/20100101 Firefox/31.0\n1,\"\"\"Mozilla/5.0 (Windows NT 6.1; WOW64) AppleWebKit/537.36 (KHTML, like Gecko) Chrome/37.0.2062.103 Safari/537.36\"\"\"\n2,Mozilla/5.0 (Windows NT 6.1; WOW64; rv:31.0) Gecko/20100101 Firefox/31.0\n3,\"\"\"Mozilla/5.0 (Windows NT 6.1; WOW64) AppleWebKit/537.36 (KHTML, like Gecko) Chrome/37.0.2062.103 Safari/537.36\"\"\"\n4,Mozilla/5.0 (Windows NT 6.1; WOW64; rv:31.0) Gecko/20100101 Firefox/31.0\n"
    }
   ],
   "source": [
    "df.filter('LOWER(userAgent) rlike \"(firefox|msie|chrome|safari)\"').toPandas()['userAgent'].head().to_csv(sys.stdout) #https://stackoverflow.com/questions/29902714/print-very-long-string-completely-in-pandas-dataframe"
   ]
  },
  {
   "cell_type": "markdown",
   "metadata": {},
   "source": [
    "## Gender"
   ]
  },
  {
   "cell_type": "markdown",
   "metadata": {},
   "source": [
    "* gender - we expect each user to have 1 value"
   ]
  },
  {
   "cell_type": "code",
   "execution_count": 28,
   "metadata": {},
   "outputs": [
    {
     "output_type": "stream",
     "name": "stdout",
     "text": "+------+------------+\n|userId|gender_count|\n+------+------------+\n|      |           0|\n+------+------------+\n\n"
    }
   ],
   "source": [
    "df.groupBy('userId')\\\n",
    ".agg(countDistinct(\"gender\"))\\\n",
    ".withColumnRenamed(\"count(DISTINCT gender)\", 'gender_count')\\\n",
    ".filter('gender_count != 1').show()"
   ]
  },
  {
   "cell_type": "markdown",
   "metadata": {},
   "source": [
    "* Is there a large difference between genders?"
   ]
  },
  {
   "cell_type": "code",
   "execution_count": 29,
   "metadata": {},
   "outputs": [
    {
     "output_type": "execute_result",
     "data": {
      "text/plain": "  Churn_Gender       F      M  null\n0            1   19168  25696     0\n1            0  135410  97880  8346",
      "text/html": "<div>\n<style scoped>\n    .dataframe tbody tr th:only-of-type {\n        vertical-align: middle;\n    }\n\n    .dataframe tbody tr th {\n        vertical-align: top;\n    }\n\n    .dataframe thead th {\n        text-align: right;\n    }\n</style>\n<table border=\"1\" class=\"dataframe\">\n  <thead>\n    <tr style=\"text-align: right;\">\n      <th></th>\n      <th>Churn_Gender</th>\n      <th>F</th>\n      <th>M</th>\n      <th>null</th>\n    </tr>\n  </thead>\n  <tbody>\n    <tr>\n      <th>0</th>\n      <td>1</td>\n      <td>19168</td>\n      <td>25696</td>\n      <td>0</td>\n    </tr>\n    <tr>\n      <th>1</th>\n      <td>0</td>\n      <td>135410</td>\n      <td>97880</td>\n      <td>8346</td>\n    </tr>\n  </tbody>\n</table>\n</div>"
     },
     "metadata": {},
     "execution_count": 29
    }
   ],
   "source": [
    "gender_tab = df.crosstab('Churn', 'Gender').toPandas()\n",
    "gender_tab"
   ]
  },
  {
   "cell_type": "code",
   "execution_count": 30,
   "metadata": {},
   "outputs": [
    {
     "output_type": "execute_result",
     "data": {
      "text/plain": "0     19168\n1    135410\nName: F, dtype: int64"
     },
     "metadata": {},
     "execution_count": 30
    }
   ],
   "source": [
    "gender_tab['F']"
   ]
  },
  {
   "cell_type": "code",
   "execution_count": 31,
   "metadata": {},
   "outputs": [],
   "source": [
    "# Toy example"
   ]
  },
  {
   "cell_type": "code",
   "execution_count": 32,
   "metadata": {},
   "outputs": [
    {
     "output_type": "execute_result",
     "data": {
      "text/plain": "   total_bill   tip     sex smoker  day    time  size\n0       16.99  1.01  Female     No  Sun  Dinner     2\n1       10.34  1.66    Male     No  Sun  Dinner     3\n2       21.01  3.50    Male     No  Sun  Dinner     3\n3       23.68  3.31    Male     No  Sun  Dinner     2\n4       24.59  3.61  Female     No  Sun  Dinner     4",
      "text/html": "<div>\n<style scoped>\n    .dataframe tbody tr th:only-of-type {\n        vertical-align: middle;\n    }\n\n    .dataframe tbody tr th {\n        vertical-align: top;\n    }\n\n    .dataframe thead th {\n        text-align: right;\n    }\n</style>\n<table border=\"1\" class=\"dataframe\">\n  <thead>\n    <tr style=\"text-align: right;\">\n      <th></th>\n      <th>total_bill</th>\n      <th>tip</th>\n      <th>sex</th>\n      <th>smoker</th>\n      <th>day</th>\n      <th>time</th>\n      <th>size</th>\n    </tr>\n  </thead>\n  <tbody>\n    <tr>\n      <th>0</th>\n      <td>16.99</td>\n      <td>1.01</td>\n      <td>Female</td>\n      <td>No</td>\n      <td>Sun</td>\n      <td>Dinner</td>\n      <td>2</td>\n    </tr>\n    <tr>\n      <th>1</th>\n      <td>10.34</td>\n      <td>1.66</td>\n      <td>Male</td>\n      <td>No</td>\n      <td>Sun</td>\n      <td>Dinner</td>\n      <td>3</td>\n    </tr>\n    <tr>\n      <th>2</th>\n      <td>21.01</td>\n      <td>3.50</td>\n      <td>Male</td>\n      <td>No</td>\n      <td>Sun</td>\n      <td>Dinner</td>\n      <td>3</td>\n    </tr>\n    <tr>\n      <th>3</th>\n      <td>23.68</td>\n      <td>3.31</td>\n      <td>Male</td>\n      <td>No</td>\n      <td>Sun</td>\n      <td>Dinner</td>\n      <td>2</td>\n    </tr>\n    <tr>\n      <th>4</th>\n      <td>24.59</td>\n      <td>3.61</td>\n      <td>Female</td>\n      <td>No</td>\n      <td>Sun</td>\n      <td>Dinner</td>\n      <td>4</td>\n    </tr>\n  </tbody>\n</table>\n</div>"
     },
     "metadata": {},
     "execution_count": 32
    }
   ],
   "source": [
    "import plotly.express as px\n",
    "df3 = px.data.tips()\n",
    "df3.head()"
   ]
  },
  {
   "cell_type": "code",
   "execution_count": 33,
   "metadata": {},
   "outputs": [
    {
     "output_type": "display_data",
     "data": {
      "application/vnd.plotly.v1+json": {
       "config": {
        "plotlyServerURL": "https://plot.ly"
       },
       "data": [
        {
         "alignmentgroup": "True",
         "hovertemplate": "sex=Female<br>total_bill=%{x}<br>day=%{y}<extra></extra>",
         "legendgroup": "Female",
         "marker": {
          "color": "#636efa"
         },
         "name": "Female",
         "offsetgroup": "Female",
         "orientation": "h",
         "showlegend": true,
         "textposition": "auto",
         "type": "bar",
         "x": [
          16.99,
          24.59,
          35.26,
          14.83,
          10.33,
          16.97,
          20.29,
          15.77,
          19.65,
          15.06,
          20.69,
          16.93,
          10.29,
          34.81,
          26.41,
          16.45,
          3.07,
          17.07,
          26.86,
          25.28,
          14.73,
          10.07,
          34.83,
          5.75,
          16.32,
          22.75,
          11.35,
          15.38,
          44.3,
          22.42,
          20.92,
          14.31,
          7.25,
          25.71,
          17.31,
          10.65,
          12.43,
          24.08,
          13.42,
          12.48,
          29.8,
          14.52,
          11.38,
          20.27,
          11.17,
          12.26,
          18.26,
          8.51,
          10.33,
          14.15,
          13.16,
          17.47,
          27.05,
          16.43,
          8.35,
          18.64,
          11.87,
          29.85,
          25,
          13.39,
          16.21,
          17.51,
          10.59,
          10.63,
          9.6,
          20.9,
          18.15,
          19.81,
          43.11,
          13,
          12.74,
          13,
          16.4,
          16.47,
          12.76,
          13.27,
          28.17,
          12.9,
          30.14,
          13.42,
          15.98,
          16.27,
          10.09,
          22.12,
          35.83,
          27.18,
          18.78
         ],
         "xaxis": "x",
         "y": [
          "Sun",
          "Sun",
          "Sun",
          "Sun",
          "Sun",
          "Sun",
          "Sat",
          "Sat",
          "Sat",
          "Sat",
          "Sat",
          "Sat",
          "Sun",
          "Sun",
          "Sat",
          "Sat",
          "Sat",
          "Sat",
          "Sat",
          "Sat",
          "Sat",
          "Thur",
          "Thur",
          "Fri",
          "Fri",
          "Fri",
          "Fri",
          "Fri",
          "Sat",
          "Sat",
          "Sat",
          "Sat",
          "Sat",
          "Sun",
          "Sun",
          "Thur",
          "Thur",
          "Thur",
          "Thur",
          "Thur",
          "Thur",
          "Thur",
          "Thur",
          "Thur",
          "Thur",
          "Thur",
          "Thur",
          "Thur",
          "Thur",
          "Thur",
          "Thur",
          "Thur",
          "Thur",
          "Thur",
          "Thur",
          "Thur",
          "Thur",
          "Sun",
          "Sun",
          "Sun",
          "Sun",
          "Sun",
          "Sat",
          "Sat",
          "Sun",
          "Sun",
          "Sun",
          "Thur",
          "Thur",
          "Thur",
          "Thur",
          "Thur",
          "Thur",
          "Thur",
          "Sat",
          "Sat",
          "Sat",
          "Sat",
          "Sat",
          "Fri",
          "Fri",
          "Fri",
          "Fri",
          "Sat",
          "Sat",
          "Sat",
          "Thur"
         ],
         "yaxis": "y"
        },
        {
         "alignmentgroup": "True",
         "hovertemplate": "sex=Male<br>total_bill=%{x}<br>day=%{y}<extra></extra>",
         "legendgroup": "Male",
         "marker": {
          "color": "#EF553B"
         },
         "name": "Male",
         "offsetgroup": "Male",
         "orientation": "h",
         "showlegend": true,
         "textposition": "auto",
         "type": "bar",
         "x": [
          10.34,
          21.01,
          23.68,
          25.29,
          8.77,
          26.88,
          15.04,
          14.78,
          10.27,
          15.42,
          18.43,
          21.58,
          16.29,
          20.65,
          17.92,
          39.42,
          19.82,
          17.81,
          13.37,
          12.69,
          21.7,
          9.55,
          18.35,
          17.78,
          24.06,
          16.31,
          18.69,
          31.27,
          16.04,
          17.46,
          13.94,
          9.68,
          30.4,
          18.29,
          22.23,
          32.4,
          28.55,
          18.04,
          12.54,
          9.94,
          25.56,
          19.49,
          38.01,
          11.24,
          48.27,
          20.29,
          13.81,
          11.02,
          18.29,
          17.59,
          20.08,
          20.23,
          15.01,
          12.02,
          10.51,
          17.92,
          27.2,
          22.76,
          17.29,
          19.44,
          16.66,
          32.68,
          15.98,
          13.03,
          18.28,
          24.71,
          21.16,
          28.97,
          22.49,
          40.17,
          27.28,
          12.03,
          21.01,
          12.46,
          15.36,
          20.49,
          25.21,
          18.24,
          14,
          38.07,
          23.95,
          29.93,
          11.69,
          14.26,
          15.95,
          8.52,
          22.82,
          19.08,
          16,
          34.3,
          41.19,
          9.78,
          7.51,
          14.07,
          13.13,
          17.26,
          24.55,
          19.77,
          48.17,
          16.49,
          21.5,
          12.66,
          13.81,
          24.52,
          20.76,
          31.71,
          50.81,
          15.81,
          7.25,
          31.85,
          16.82,
          32.9,
          17.89,
          14.48,
          34.63,
          34.65,
          23.33,
          45.35,
          23.17,
          40.55,
          20.69,
          30.46,
          23.1,
          15.69,
          28.44,
          15.48,
          16.58,
          7.56,
          10.34,
          13.51,
          18.71,
          20.53,
          26.59,
          38.73,
          24.27,
          30.06,
          25.89,
          48.33,
          28.15,
          11.59,
          7.74,
          12.16,
          8.58,
          13.42,
          20.45,
          13.28,
          24.01,
          15.69,
          11.61,
          10.77,
          15.53,
          10.07,
          12.6,
          32.83,
          29.03,
          22.67,
          17.82
         ],
         "xaxis": "x",
         "y": [
          "Sun",
          "Sun",
          "Sun",
          "Sun",
          "Sun",
          "Sun",
          "Sun",
          "Sun",
          "Sun",
          "Sun",
          "Sun",
          "Sun",
          "Sun",
          "Sat",
          "Sat",
          "Sat",
          "Sat",
          "Sat",
          "Sat",
          "Sat",
          "Sat",
          "Sat",
          "Sat",
          "Sat",
          "Sat",
          "Sat",
          "Sat",
          "Sat",
          "Sat",
          "Sun",
          "Sun",
          "Sun",
          "Sun",
          "Sun",
          "Sun",
          "Sun",
          "Sun",
          "Sun",
          "Sun",
          "Sun",
          "Sun",
          "Sun",
          "Sat",
          "Sat",
          "Sat",
          "Sat",
          "Sat",
          "Sat",
          "Sat",
          "Sat",
          "Sat",
          "Sat",
          "Sat",
          "Sat",
          "Sat",
          "Sat",
          "Thur",
          "Thur",
          "Thur",
          "Thur",
          "Thur",
          "Thur",
          "Thur",
          "Thur",
          "Thur",
          "Thur",
          "Thur",
          "Fri",
          "Fri",
          "Fri",
          "Fri",
          "Fri",
          "Fri",
          "Fri",
          "Sat",
          "Sat",
          "Sat",
          "Sat",
          "Sat",
          "Sun",
          "Sun",
          "Sun",
          "Thur",
          "Thur",
          "Thur",
          "Thur",
          "Thur",
          "Thur",
          "Thur",
          "Thur",
          "Thur",
          "Thur",
          "Thur",
          "Sun",
          "Sun",
          "Sun",
          "Sun",
          "Sun",
          "Sun",
          "Sun",
          "Sun",
          "Sun",
          "Sun",
          "Sun",
          "Sun",
          "Sun",
          "Sat",
          "Sat",
          "Sun",
          "Sun",
          "Sun",
          "Sun",
          "Sun",
          "Sun",
          "Sun",
          "Sun",
          "Sun",
          "Sun",
          "Sun",
          "Sun",
          "Sun",
          "Sun",
          "Sun",
          "Sun",
          "Thur",
          "Thur",
          "Thur",
          "Thur",
          "Thur",
          "Thur",
          "Thur",
          "Thur",
          "Sat",
          "Sat",
          "Sat",
          "Sat",
          "Sat",
          "Sat",
          "Sat",
          "Sat",
          "Sat",
          "Fri",
          "Fri",
          "Fri",
          "Sat",
          "Sat",
          "Sat",
          "Sat",
          "Sat",
          "Sat",
          "Sat",
          "Sat",
          "Sat",
          "Sat",
          "Sat",
          "Sat",
          "Sat"
         ],
         "yaxis": "y"
        }
       ],
       "layout": {
        "barmode": "relative",
        "legend": {
         "title": {
          "text": "sex"
         },
         "tracegroupgap": 0
        },
        "template": {
         "data": {
          "bar": [
           {
            "error_x": {
             "color": "#2a3f5f"
            },
            "error_y": {
             "color": "#2a3f5f"
            },
            "marker": {
             "line": {
              "color": "#E5ECF6",
              "width": 0.5
             }
            },
            "type": "bar"
           }
          ],
          "barpolar": [
           {
            "marker": {
             "line": {
              "color": "#E5ECF6",
              "width": 0.5
             }
            },
            "type": "barpolar"
           }
          ],
          "carpet": [
           {
            "aaxis": {
             "endlinecolor": "#2a3f5f",
             "gridcolor": "white",
             "linecolor": "white",
             "minorgridcolor": "white",
             "startlinecolor": "#2a3f5f"
            },
            "baxis": {
             "endlinecolor": "#2a3f5f",
             "gridcolor": "white",
             "linecolor": "white",
             "minorgridcolor": "white",
             "startlinecolor": "#2a3f5f"
            },
            "type": "carpet"
           }
          ],
          "choropleth": [
           {
            "colorbar": {
             "outlinewidth": 0,
             "ticks": ""
            },
            "type": "choropleth"
           }
          ],
          "contour": [
           {
            "colorbar": {
             "outlinewidth": 0,
             "ticks": ""
            },
            "colorscale": [
             [
              0,
              "#0d0887"
             ],
             [
              0.1111111111111111,
              "#46039f"
             ],
             [
              0.2222222222222222,
              "#7201a8"
             ],
             [
              0.3333333333333333,
              "#9c179e"
             ],
             [
              0.4444444444444444,
              "#bd3786"
             ],
             [
              0.5555555555555556,
              "#d8576b"
             ],
             [
              0.6666666666666666,
              "#ed7953"
             ],
             [
              0.7777777777777778,
              "#fb9f3a"
             ],
             [
              0.8888888888888888,
              "#fdca26"
             ],
             [
              1,
              "#f0f921"
             ]
            ],
            "type": "contour"
           }
          ],
          "contourcarpet": [
           {
            "colorbar": {
             "outlinewidth": 0,
             "ticks": ""
            },
            "type": "contourcarpet"
           }
          ],
          "heatmap": [
           {
            "colorbar": {
             "outlinewidth": 0,
             "ticks": ""
            },
            "colorscale": [
             [
              0,
              "#0d0887"
             ],
             [
              0.1111111111111111,
              "#46039f"
             ],
             [
              0.2222222222222222,
              "#7201a8"
             ],
             [
              0.3333333333333333,
              "#9c179e"
             ],
             [
              0.4444444444444444,
              "#bd3786"
             ],
             [
              0.5555555555555556,
              "#d8576b"
             ],
             [
              0.6666666666666666,
              "#ed7953"
             ],
             [
              0.7777777777777778,
              "#fb9f3a"
             ],
             [
              0.8888888888888888,
              "#fdca26"
             ],
             [
              1,
              "#f0f921"
             ]
            ],
            "type": "heatmap"
           }
          ],
          "heatmapgl": [
           {
            "colorbar": {
             "outlinewidth": 0,
             "ticks": ""
            },
            "colorscale": [
             [
              0,
              "#0d0887"
             ],
             [
              0.1111111111111111,
              "#46039f"
             ],
             [
              0.2222222222222222,
              "#7201a8"
             ],
             [
              0.3333333333333333,
              "#9c179e"
             ],
             [
              0.4444444444444444,
              "#bd3786"
             ],
             [
              0.5555555555555556,
              "#d8576b"
             ],
             [
              0.6666666666666666,
              "#ed7953"
             ],
             [
              0.7777777777777778,
              "#fb9f3a"
             ],
             [
              0.8888888888888888,
              "#fdca26"
             ],
             [
              1,
              "#f0f921"
             ]
            ],
            "type": "heatmapgl"
           }
          ],
          "histogram": [
           {
            "marker": {
             "colorbar": {
              "outlinewidth": 0,
              "ticks": ""
             }
            },
            "type": "histogram"
           }
          ],
          "histogram2d": [
           {
            "colorbar": {
             "outlinewidth": 0,
             "ticks": ""
            },
            "colorscale": [
             [
              0,
              "#0d0887"
             ],
             [
              0.1111111111111111,
              "#46039f"
             ],
             [
              0.2222222222222222,
              "#7201a8"
             ],
             [
              0.3333333333333333,
              "#9c179e"
             ],
             [
              0.4444444444444444,
              "#bd3786"
             ],
             [
              0.5555555555555556,
              "#d8576b"
             ],
             [
              0.6666666666666666,
              "#ed7953"
             ],
             [
              0.7777777777777778,
              "#fb9f3a"
             ],
             [
              0.8888888888888888,
              "#fdca26"
             ],
             [
              1,
              "#f0f921"
             ]
            ],
            "type": "histogram2d"
           }
          ],
          "histogram2dcontour": [
           {
            "colorbar": {
             "outlinewidth": 0,
             "ticks": ""
            },
            "colorscale": [
             [
              0,
              "#0d0887"
             ],
             [
              0.1111111111111111,
              "#46039f"
             ],
             [
              0.2222222222222222,
              "#7201a8"
             ],
             [
              0.3333333333333333,
              "#9c179e"
             ],
             [
              0.4444444444444444,
              "#bd3786"
             ],
             [
              0.5555555555555556,
              "#d8576b"
             ],
             [
              0.6666666666666666,
              "#ed7953"
             ],
             [
              0.7777777777777778,
              "#fb9f3a"
             ],
             [
              0.8888888888888888,
              "#fdca26"
             ],
             [
              1,
              "#f0f921"
             ]
            ],
            "type": "histogram2dcontour"
           }
          ],
          "mesh3d": [
           {
            "colorbar": {
             "outlinewidth": 0,
             "ticks": ""
            },
            "type": "mesh3d"
           }
          ],
          "parcoords": [
           {
            "line": {
             "colorbar": {
              "outlinewidth": 0,
              "ticks": ""
             }
            },
            "type": "parcoords"
           }
          ],
          "pie": [
           {
            "automargin": true,
            "type": "pie"
           }
          ],
          "scatter": [
           {
            "marker": {
             "colorbar": {
              "outlinewidth": 0,
              "ticks": ""
             }
            },
            "type": "scatter"
           }
          ],
          "scatter3d": [
           {
            "line": {
             "colorbar": {
              "outlinewidth": 0,
              "ticks": ""
             }
            },
            "marker": {
             "colorbar": {
              "outlinewidth": 0,
              "ticks": ""
             }
            },
            "type": "scatter3d"
           }
          ],
          "scattercarpet": [
           {
            "marker": {
             "colorbar": {
              "outlinewidth": 0,
              "ticks": ""
             }
            },
            "type": "scattercarpet"
           }
          ],
          "scattergeo": [
           {
            "marker": {
             "colorbar": {
              "outlinewidth": 0,
              "ticks": ""
             }
            },
            "type": "scattergeo"
           }
          ],
          "scattergl": [
           {
            "marker": {
             "colorbar": {
              "outlinewidth": 0,
              "ticks": ""
             }
            },
            "type": "scattergl"
           }
          ],
          "scattermapbox": [
           {
            "marker": {
             "colorbar": {
              "outlinewidth": 0,
              "ticks": ""
             }
            },
            "type": "scattermapbox"
           }
          ],
          "scatterpolar": [
           {
            "marker": {
             "colorbar": {
              "outlinewidth": 0,
              "ticks": ""
             }
            },
            "type": "scatterpolar"
           }
          ],
          "scatterpolargl": [
           {
            "marker": {
             "colorbar": {
              "outlinewidth": 0,
              "ticks": ""
             }
            },
            "type": "scatterpolargl"
           }
          ],
          "scatterternary": [
           {
            "marker": {
             "colorbar": {
              "outlinewidth": 0,
              "ticks": ""
             }
            },
            "type": "scatterternary"
           }
          ],
          "surface": [
           {
            "colorbar": {
             "outlinewidth": 0,
             "ticks": ""
            },
            "colorscale": [
             [
              0,
              "#0d0887"
             ],
             [
              0.1111111111111111,
              "#46039f"
             ],
             [
              0.2222222222222222,
              "#7201a8"
             ],
             [
              0.3333333333333333,
              "#9c179e"
             ],
             [
              0.4444444444444444,
              "#bd3786"
             ],
             [
              0.5555555555555556,
              "#d8576b"
             ],
             [
              0.6666666666666666,
              "#ed7953"
             ],
             [
              0.7777777777777778,
              "#fb9f3a"
             ],
             [
              0.8888888888888888,
              "#fdca26"
             ],
             [
              1,
              "#f0f921"
             ]
            ],
            "type": "surface"
           }
          ],
          "table": [
           {
            "cells": {
             "fill": {
              "color": "#EBF0F8"
             },
             "line": {
              "color": "white"
             }
            },
            "header": {
             "fill": {
              "color": "#C8D4E3"
             },
             "line": {
              "color": "white"
             }
            },
            "type": "table"
           }
          ]
         },
         "layout": {
          "annotationdefaults": {
           "arrowcolor": "#2a3f5f",
           "arrowhead": 0,
           "arrowwidth": 1
          },
          "coloraxis": {
           "colorbar": {
            "outlinewidth": 0,
            "ticks": ""
           }
          },
          "colorscale": {
           "diverging": [
            [
             0,
             "#8e0152"
            ],
            [
             0.1,
             "#c51b7d"
            ],
            [
             0.2,
             "#de77ae"
            ],
            [
             0.3,
             "#f1b6da"
            ],
            [
             0.4,
             "#fde0ef"
            ],
            [
             0.5,
             "#f7f7f7"
            ],
            [
             0.6,
             "#e6f5d0"
            ],
            [
             0.7,
             "#b8e186"
            ],
            [
             0.8,
             "#7fbc41"
            ],
            [
             0.9,
             "#4d9221"
            ],
            [
             1,
             "#276419"
            ]
           ],
           "sequential": [
            [
             0,
             "#0d0887"
            ],
            [
             0.1111111111111111,
             "#46039f"
            ],
            [
             0.2222222222222222,
             "#7201a8"
            ],
            [
             0.3333333333333333,
             "#9c179e"
            ],
            [
             0.4444444444444444,
             "#bd3786"
            ],
            [
             0.5555555555555556,
             "#d8576b"
            ],
            [
             0.6666666666666666,
             "#ed7953"
            ],
            [
             0.7777777777777778,
             "#fb9f3a"
            ],
            [
             0.8888888888888888,
             "#fdca26"
            ],
            [
             1,
             "#f0f921"
            ]
           ],
           "sequentialminus": [
            [
             0,
             "#0d0887"
            ],
            [
             0.1111111111111111,
             "#46039f"
            ],
            [
             0.2222222222222222,
             "#7201a8"
            ],
            [
             0.3333333333333333,
             "#9c179e"
            ],
            [
             0.4444444444444444,
             "#bd3786"
            ],
            [
             0.5555555555555556,
             "#d8576b"
            ],
            [
             0.6666666666666666,
             "#ed7953"
            ],
            [
             0.7777777777777778,
             "#fb9f3a"
            ],
            [
             0.8888888888888888,
             "#fdca26"
            ],
            [
             1,
             "#f0f921"
            ]
           ]
          },
          "colorway": [
           "#636efa",
           "#EF553B",
           "#00cc96",
           "#ab63fa",
           "#FFA15A",
           "#19d3f3",
           "#FF6692",
           "#B6E880",
           "#FF97FF",
           "#FECB52"
          ],
          "font": {
           "color": "#2a3f5f"
          },
          "geo": {
           "bgcolor": "white",
           "lakecolor": "white",
           "landcolor": "#E5ECF6",
           "showlakes": true,
           "showland": true,
           "subunitcolor": "white"
          },
          "hoverlabel": {
           "align": "left"
          },
          "hovermode": "closest",
          "mapbox": {
           "style": "light"
          },
          "paper_bgcolor": "white",
          "plot_bgcolor": "#E5ECF6",
          "polar": {
           "angularaxis": {
            "gridcolor": "white",
            "linecolor": "white",
            "ticks": ""
           },
           "bgcolor": "#E5ECF6",
           "radialaxis": {
            "gridcolor": "white",
            "linecolor": "white",
            "ticks": ""
           }
          },
          "scene": {
           "xaxis": {
            "backgroundcolor": "#E5ECF6",
            "gridcolor": "white",
            "gridwidth": 2,
            "linecolor": "white",
            "showbackground": true,
            "ticks": "",
            "zerolinecolor": "white"
           },
           "yaxis": {
            "backgroundcolor": "#E5ECF6",
            "gridcolor": "white",
            "gridwidth": 2,
            "linecolor": "white",
            "showbackground": true,
            "ticks": "",
            "zerolinecolor": "white"
           },
           "zaxis": {
            "backgroundcolor": "#E5ECF6",
            "gridcolor": "white",
            "gridwidth": 2,
            "linecolor": "white",
            "showbackground": true,
            "ticks": "",
            "zerolinecolor": "white"
           }
          },
          "shapedefaults": {
           "line": {
            "color": "#2a3f5f"
           }
          },
          "ternary": {
           "aaxis": {
            "gridcolor": "white",
            "linecolor": "white",
            "ticks": ""
           },
           "baxis": {
            "gridcolor": "white",
            "linecolor": "white",
            "ticks": ""
           },
           "bgcolor": "#E5ECF6",
           "caxis": {
            "gridcolor": "white",
            "linecolor": "white",
            "ticks": ""
           }
          },
          "title": {
           "x": 0.05
          },
          "xaxis": {
           "automargin": true,
           "gridcolor": "white",
           "linecolor": "white",
           "ticks": "",
           "title": {
            "standoff": 15
           },
           "zerolinecolor": "white",
           "zerolinewidth": 2
          },
          "yaxis": {
           "automargin": true,
           "gridcolor": "white",
           "linecolor": "white",
           "ticks": "",
           "title": {
            "standoff": 15
           },
           "zerolinecolor": "white",
           "zerolinewidth": 2
          }
         }
        },
        "title": {
         "text": "Bar Chart"
        },
        "xaxis": {
         "anchor": "y",
         "domain": [
          0,
          1
         ],
         "title": {
          "text": "total_bill"
         }
        },
        "yaxis": {
         "anchor": "x",
         "domain": [
          0,
          1
         ],
         "title": {
          "text": "day"
         }
        }
       }
      }
     },
     "metadata": {}
    }
   ],
   "source": [
    "\n",
    "fig = px.bar(df3, y = \"day\", x=\"total_bill\", color = \"sex\", title='Bar Chart' )\n",
    "fig.show()"
   ]
  },
  {
   "cell_type": "markdown",
   "metadata": {},
   "source": [
    "* Transform gender crosstab data from wide to long"
   ]
  },
  {
   "cell_type": "code",
   "execution_count": 34,
   "metadata": {},
   "outputs": [
    {
     "output_type": "display_data",
     "data": {
      "application/vnd.plotly.v1+json": {
       "config": {
        "plotlyServerURL": "https://plot.ly"
       },
       "data": [
        {
         "alignmentgroup": "True",
         "hovertemplate": "sex=Female<br>total_bill=%{x}<br>day=%{y}<extra></extra>",
         "legendgroup": "Female",
         "marker": {
          "color": "#636efa"
         },
         "name": "Female",
         "offsetgroup": "Female",
         "orientation": "h",
         "showlegend": true,
         "textposition": "auto",
         "type": "bar",
         "x": [
          16.99,
          24.59,
          35.26,
          14.83,
          10.33,
          16.97,
          20.29,
          15.77,
          19.65,
          15.06,
          20.69,
          16.93,
          10.29,
          34.81,
          26.41,
          16.45,
          3.07,
          17.07,
          26.86,
          25.28,
          14.73,
          10.07,
          34.83,
          5.75,
          16.32,
          22.75,
          11.35,
          15.38,
          44.3,
          22.42,
          20.92,
          14.31,
          7.25,
          25.71,
          17.31,
          10.65,
          12.43,
          24.08,
          13.42,
          12.48,
          29.8,
          14.52,
          11.38,
          20.27,
          11.17,
          12.26,
          18.26,
          8.51,
          10.33,
          14.15,
          13.16,
          17.47,
          27.05,
          16.43,
          8.35,
          18.64,
          11.87,
          29.85,
          25,
          13.39,
          16.21,
          17.51,
          10.59,
          10.63,
          9.6,
          20.9,
          18.15,
          19.81,
          43.11,
          13,
          12.74,
          13,
          16.4,
          16.47,
          12.76,
          13.27,
          28.17,
          12.9,
          30.14,
          13.42,
          15.98,
          16.27,
          10.09,
          22.12,
          35.83,
          27.18,
          18.78
         ],
         "xaxis": "x",
         "y": [
          "Sun",
          "Sun",
          "Sun",
          "Sun",
          "Sun",
          "Sun",
          "Sat",
          "Sat",
          "Sat",
          "Sat",
          "Sat",
          "Sat",
          "Sun",
          "Sun",
          "Sat",
          "Sat",
          "Sat",
          "Sat",
          "Sat",
          "Sat",
          "Sat",
          "Thur",
          "Thur",
          "Fri",
          "Fri",
          "Fri",
          "Fri",
          "Fri",
          "Sat",
          "Sat",
          "Sat",
          "Sat",
          "Sat",
          "Sun",
          "Sun",
          "Thur",
          "Thur",
          "Thur",
          "Thur",
          "Thur",
          "Thur",
          "Thur",
          "Thur",
          "Thur",
          "Thur",
          "Thur",
          "Thur",
          "Thur",
          "Thur",
          "Thur",
          "Thur",
          "Thur",
          "Thur",
          "Thur",
          "Thur",
          "Thur",
          "Thur",
          "Sun",
          "Sun",
          "Sun",
          "Sun",
          "Sun",
          "Sat",
          "Sat",
          "Sun",
          "Sun",
          "Sun",
          "Thur",
          "Thur",
          "Thur",
          "Thur",
          "Thur",
          "Thur",
          "Thur",
          "Sat",
          "Sat",
          "Sat",
          "Sat",
          "Sat",
          "Fri",
          "Fri",
          "Fri",
          "Fri",
          "Sat",
          "Sat",
          "Sat",
          "Thur"
         ],
         "yaxis": "y"
        },
        {
         "alignmentgroup": "True",
         "hovertemplate": "sex=Male<br>total_bill=%{x}<br>day=%{y}<extra></extra>",
         "legendgroup": "Male",
         "marker": {
          "color": "#EF553B"
         },
         "name": "Male",
         "offsetgroup": "Male",
         "orientation": "h",
         "showlegend": true,
         "textposition": "auto",
         "type": "bar",
         "x": [
          10.34,
          21.01,
          23.68,
          25.29,
          8.77,
          26.88,
          15.04,
          14.78,
          10.27,
          15.42,
          18.43,
          21.58,
          16.29,
          20.65,
          17.92,
          39.42,
          19.82,
          17.81,
          13.37,
          12.69,
          21.7,
          9.55,
          18.35,
          17.78,
          24.06,
          16.31,
          18.69,
          31.27,
          16.04,
          17.46,
          13.94,
          9.68,
          30.4,
          18.29,
          22.23,
          32.4,
          28.55,
          18.04,
          12.54,
          9.94,
          25.56,
          19.49,
          38.01,
          11.24,
          48.27,
          20.29,
          13.81,
          11.02,
          18.29,
          17.59,
          20.08,
          20.23,
          15.01,
          12.02,
          10.51,
          17.92,
          27.2,
          22.76,
          17.29,
          19.44,
          16.66,
          32.68,
          15.98,
          13.03,
          18.28,
          24.71,
          21.16,
          28.97,
          22.49,
          40.17,
          27.28,
          12.03,
          21.01,
          12.46,
          15.36,
          20.49,
          25.21,
          18.24,
          14,
          38.07,
          23.95,
          29.93,
          11.69,
          14.26,
          15.95,
          8.52,
          22.82,
          19.08,
          16,
          34.3,
          41.19,
          9.78,
          7.51,
          14.07,
          13.13,
          17.26,
          24.55,
          19.77,
          48.17,
          16.49,
          21.5,
          12.66,
          13.81,
          24.52,
          20.76,
          31.71,
          50.81,
          15.81,
          7.25,
          31.85,
          16.82,
          32.9,
          17.89,
          14.48,
          34.63,
          34.65,
          23.33,
          45.35,
          23.17,
          40.55,
          20.69,
          30.46,
          23.1,
          15.69,
          28.44,
          15.48,
          16.58,
          7.56,
          10.34,
          13.51,
          18.71,
          20.53,
          26.59,
          38.73,
          24.27,
          30.06,
          25.89,
          48.33,
          28.15,
          11.59,
          7.74,
          12.16,
          8.58,
          13.42,
          20.45,
          13.28,
          24.01,
          15.69,
          11.61,
          10.77,
          15.53,
          10.07,
          12.6,
          32.83,
          29.03,
          22.67,
          17.82
         ],
         "xaxis": "x",
         "y": [
          "Sun",
          "Sun",
          "Sun",
          "Sun",
          "Sun",
          "Sun",
          "Sun",
          "Sun",
          "Sun",
          "Sun",
          "Sun",
          "Sun",
          "Sun",
          "Sat",
          "Sat",
          "Sat",
          "Sat",
          "Sat",
          "Sat",
          "Sat",
          "Sat",
          "Sat",
          "Sat",
          "Sat",
          "Sat",
          "Sat",
          "Sat",
          "Sat",
          "Sat",
          "Sun",
          "Sun",
          "Sun",
          "Sun",
          "Sun",
          "Sun",
          "Sun",
          "Sun",
          "Sun",
          "Sun",
          "Sun",
          "Sun",
          "Sun",
          "Sat",
          "Sat",
          "Sat",
          "Sat",
          "Sat",
          "Sat",
          "Sat",
          "Sat",
          "Sat",
          "Sat",
          "Sat",
          "Sat",
          "Sat",
          "Sat",
          "Thur",
          "Thur",
          "Thur",
          "Thur",
          "Thur",
          "Thur",
          "Thur",
          "Thur",
          "Thur",
          "Thur",
          "Thur",
          "Fri",
          "Fri",
          "Fri",
          "Fri",
          "Fri",
          "Fri",
          "Fri",
          "Sat",
          "Sat",
          "Sat",
          "Sat",
          "Sat",
          "Sun",
          "Sun",
          "Sun",
          "Thur",
          "Thur",
          "Thur",
          "Thur",
          "Thur",
          "Thur",
          "Thur",
          "Thur",
          "Thur",
          "Thur",
          "Thur",
          "Sun",
          "Sun",
          "Sun",
          "Sun",
          "Sun",
          "Sun",
          "Sun",
          "Sun",
          "Sun",
          "Sun",
          "Sun",
          "Sun",
          "Sun",
          "Sat",
          "Sat",
          "Sun",
          "Sun",
          "Sun",
          "Sun",
          "Sun",
          "Sun",
          "Sun",
          "Sun",
          "Sun",
          "Sun",
          "Sun",
          "Sun",
          "Sun",
          "Sun",
          "Sun",
          "Sun",
          "Thur",
          "Thur",
          "Thur",
          "Thur",
          "Thur",
          "Thur",
          "Thur",
          "Thur",
          "Sat",
          "Sat",
          "Sat",
          "Sat",
          "Sat",
          "Sat",
          "Sat",
          "Sat",
          "Sat",
          "Fri",
          "Fri",
          "Fri",
          "Sat",
          "Sat",
          "Sat",
          "Sat",
          "Sat",
          "Sat",
          "Sat",
          "Sat",
          "Sat",
          "Sat",
          "Sat",
          "Sat",
          "Sat"
         ],
         "yaxis": "y"
        }
       ],
       "layout": {
        "barmode": "relative",
        "legend": {
         "title": {
          "text": "sex"
         },
         "tracegroupgap": 0
        },
        "template": {
         "data": {
          "bar": [
           {
            "error_x": {
             "color": "#2a3f5f"
            },
            "error_y": {
             "color": "#2a3f5f"
            },
            "marker": {
             "line": {
              "color": "#E5ECF6",
              "width": 0.5
             }
            },
            "type": "bar"
           }
          ],
          "barpolar": [
           {
            "marker": {
             "line": {
              "color": "#E5ECF6",
              "width": 0.5
             }
            },
            "type": "barpolar"
           }
          ],
          "carpet": [
           {
            "aaxis": {
             "endlinecolor": "#2a3f5f",
             "gridcolor": "white",
             "linecolor": "white",
             "minorgridcolor": "white",
             "startlinecolor": "#2a3f5f"
            },
            "baxis": {
             "endlinecolor": "#2a3f5f",
             "gridcolor": "white",
             "linecolor": "white",
             "minorgridcolor": "white",
             "startlinecolor": "#2a3f5f"
            },
            "type": "carpet"
           }
          ],
          "choropleth": [
           {
            "colorbar": {
             "outlinewidth": 0,
             "ticks": ""
            },
            "type": "choropleth"
           }
          ],
          "contour": [
           {
            "colorbar": {
             "outlinewidth": 0,
             "ticks": ""
            },
            "colorscale": [
             [
              0,
              "#0d0887"
             ],
             [
              0.1111111111111111,
              "#46039f"
             ],
             [
              0.2222222222222222,
              "#7201a8"
             ],
             [
              0.3333333333333333,
              "#9c179e"
             ],
             [
              0.4444444444444444,
              "#bd3786"
             ],
             [
              0.5555555555555556,
              "#d8576b"
             ],
             [
              0.6666666666666666,
              "#ed7953"
             ],
             [
              0.7777777777777778,
              "#fb9f3a"
             ],
             [
              0.8888888888888888,
              "#fdca26"
             ],
             [
              1,
              "#f0f921"
             ]
            ],
            "type": "contour"
           }
          ],
          "contourcarpet": [
           {
            "colorbar": {
             "outlinewidth": 0,
             "ticks": ""
            },
            "type": "contourcarpet"
           }
          ],
          "heatmap": [
           {
            "colorbar": {
             "outlinewidth": 0,
             "ticks": ""
            },
            "colorscale": [
             [
              0,
              "#0d0887"
             ],
             [
              0.1111111111111111,
              "#46039f"
             ],
             [
              0.2222222222222222,
              "#7201a8"
             ],
             [
              0.3333333333333333,
              "#9c179e"
             ],
             [
              0.4444444444444444,
              "#bd3786"
             ],
             [
              0.5555555555555556,
              "#d8576b"
             ],
             [
              0.6666666666666666,
              "#ed7953"
             ],
             [
              0.7777777777777778,
              "#fb9f3a"
             ],
             [
              0.8888888888888888,
              "#fdca26"
             ],
             [
              1,
              "#f0f921"
             ]
            ],
            "type": "heatmap"
           }
          ],
          "heatmapgl": [
           {
            "colorbar": {
             "outlinewidth": 0,
             "ticks": ""
            },
            "colorscale": [
             [
              0,
              "#0d0887"
             ],
             [
              0.1111111111111111,
              "#46039f"
             ],
             [
              0.2222222222222222,
              "#7201a8"
             ],
             [
              0.3333333333333333,
              "#9c179e"
             ],
             [
              0.4444444444444444,
              "#bd3786"
             ],
             [
              0.5555555555555556,
              "#d8576b"
             ],
             [
              0.6666666666666666,
              "#ed7953"
             ],
             [
              0.7777777777777778,
              "#fb9f3a"
             ],
             [
              0.8888888888888888,
              "#fdca26"
             ],
             [
              1,
              "#f0f921"
             ]
            ],
            "type": "heatmapgl"
           }
          ],
          "histogram": [
           {
            "marker": {
             "colorbar": {
              "outlinewidth": 0,
              "ticks": ""
             }
            },
            "type": "histogram"
           }
          ],
          "histogram2d": [
           {
            "colorbar": {
             "outlinewidth": 0,
             "ticks": ""
            },
            "colorscale": [
             [
              0,
              "#0d0887"
             ],
             [
              0.1111111111111111,
              "#46039f"
             ],
             [
              0.2222222222222222,
              "#7201a8"
             ],
             [
              0.3333333333333333,
              "#9c179e"
             ],
             [
              0.4444444444444444,
              "#bd3786"
             ],
             [
              0.5555555555555556,
              "#d8576b"
             ],
             [
              0.6666666666666666,
              "#ed7953"
             ],
             [
              0.7777777777777778,
              "#fb9f3a"
             ],
             [
              0.8888888888888888,
              "#fdca26"
             ],
             [
              1,
              "#f0f921"
             ]
            ],
            "type": "histogram2d"
           }
          ],
          "histogram2dcontour": [
           {
            "colorbar": {
             "outlinewidth": 0,
             "ticks": ""
            },
            "colorscale": [
             [
              0,
              "#0d0887"
             ],
             [
              0.1111111111111111,
              "#46039f"
             ],
             [
              0.2222222222222222,
              "#7201a8"
             ],
             [
              0.3333333333333333,
              "#9c179e"
             ],
             [
              0.4444444444444444,
              "#bd3786"
             ],
             [
              0.5555555555555556,
              "#d8576b"
             ],
             [
              0.6666666666666666,
              "#ed7953"
             ],
             [
              0.7777777777777778,
              "#fb9f3a"
             ],
             [
              0.8888888888888888,
              "#fdca26"
             ],
             [
              1,
              "#f0f921"
             ]
            ],
            "type": "histogram2dcontour"
           }
          ],
          "mesh3d": [
           {
            "colorbar": {
             "outlinewidth": 0,
             "ticks": ""
            },
            "type": "mesh3d"
           }
          ],
          "parcoords": [
           {
            "line": {
             "colorbar": {
              "outlinewidth": 0,
              "ticks": ""
             }
            },
            "type": "parcoords"
           }
          ],
          "pie": [
           {
            "automargin": true,
            "type": "pie"
           }
          ],
          "scatter": [
           {
            "marker": {
             "colorbar": {
              "outlinewidth": 0,
              "ticks": ""
             }
            },
            "type": "scatter"
           }
          ],
          "scatter3d": [
           {
            "line": {
             "colorbar": {
              "outlinewidth": 0,
              "ticks": ""
             }
            },
            "marker": {
             "colorbar": {
              "outlinewidth": 0,
              "ticks": ""
             }
            },
            "type": "scatter3d"
           }
          ],
          "scattercarpet": [
           {
            "marker": {
             "colorbar": {
              "outlinewidth": 0,
              "ticks": ""
             }
            },
            "type": "scattercarpet"
           }
          ],
          "scattergeo": [
           {
            "marker": {
             "colorbar": {
              "outlinewidth": 0,
              "ticks": ""
             }
            },
            "type": "scattergeo"
           }
          ],
          "scattergl": [
           {
            "marker": {
             "colorbar": {
              "outlinewidth": 0,
              "ticks": ""
             }
            },
            "type": "scattergl"
           }
          ],
          "scattermapbox": [
           {
            "marker": {
             "colorbar": {
              "outlinewidth": 0,
              "ticks": ""
             }
            },
            "type": "scattermapbox"
           }
          ],
          "scatterpolar": [
           {
            "marker": {
             "colorbar": {
              "outlinewidth": 0,
              "ticks": ""
             }
            },
            "type": "scatterpolar"
           }
          ],
          "scatterpolargl": [
           {
            "marker": {
             "colorbar": {
              "outlinewidth": 0,
              "ticks": ""
             }
            },
            "type": "scatterpolargl"
           }
          ],
          "scatterternary": [
           {
            "marker": {
             "colorbar": {
              "outlinewidth": 0,
              "ticks": ""
             }
            },
            "type": "scatterternary"
           }
          ],
          "surface": [
           {
            "colorbar": {
             "outlinewidth": 0,
             "ticks": ""
            },
            "colorscale": [
             [
              0,
              "#0d0887"
             ],
             [
              0.1111111111111111,
              "#46039f"
             ],
             [
              0.2222222222222222,
              "#7201a8"
             ],
             [
              0.3333333333333333,
              "#9c179e"
             ],
             [
              0.4444444444444444,
              "#bd3786"
             ],
             [
              0.5555555555555556,
              "#d8576b"
             ],
             [
              0.6666666666666666,
              "#ed7953"
             ],
             [
              0.7777777777777778,
              "#fb9f3a"
             ],
             [
              0.8888888888888888,
              "#fdca26"
             ],
             [
              1,
              "#f0f921"
             ]
            ],
            "type": "surface"
           }
          ],
          "table": [
           {
            "cells": {
             "fill": {
              "color": "#EBF0F8"
             },
             "line": {
              "color": "white"
             }
            },
            "header": {
             "fill": {
              "color": "#C8D4E3"
             },
             "line": {
              "color": "white"
             }
            },
            "type": "table"
           }
          ]
         },
         "layout": {
          "annotationdefaults": {
           "arrowcolor": "#2a3f5f",
           "arrowhead": 0,
           "arrowwidth": 1
          },
          "coloraxis": {
           "colorbar": {
            "outlinewidth": 0,
            "ticks": ""
           }
          },
          "colorscale": {
           "diverging": [
            [
             0,
             "#8e0152"
            ],
            [
             0.1,
             "#c51b7d"
            ],
            [
             0.2,
             "#de77ae"
            ],
            [
             0.3,
             "#f1b6da"
            ],
            [
             0.4,
             "#fde0ef"
            ],
            [
             0.5,
             "#f7f7f7"
            ],
            [
             0.6,
             "#e6f5d0"
            ],
            [
             0.7,
             "#b8e186"
            ],
            [
             0.8,
             "#7fbc41"
            ],
            [
             0.9,
             "#4d9221"
            ],
            [
             1,
             "#276419"
            ]
           ],
           "sequential": [
            [
             0,
             "#0d0887"
            ],
            [
             0.1111111111111111,
             "#46039f"
            ],
            [
             0.2222222222222222,
             "#7201a8"
            ],
            [
             0.3333333333333333,
             "#9c179e"
            ],
            [
             0.4444444444444444,
             "#bd3786"
            ],
            [
             0.5555555555555556,
             "#d8576b"
            ],
            [
             0.6666666666666666,
             "#ed7953"
            ],
            [
             0.7777777777777778,
             "#fb9f3a"
            ],
            [
             0.8888888888888888,
             "#fdca26"
            ],
            [
             1,
             "#f0f921"
            ]
           ],
           "sequentialminus": [
            [
             0,
             "#0d0887"
            ],
            [
             0.1111111111111111,
             "#46039f"
            ],
            [
             0.2222222222222222,
             "#7201a8"
            ],
            [
             0.3333333333333333,
             "#9c179e"
            ],
            [
             0.4444444444444444,
             "#bd3786"
            ],
            [
             0.5555555555555556,
             "#d8576b"
            ],
            [
             0.6666666666666666,
             "#ed7953"
            ],
            [
             0.7777777777777778,
             "#fb9f3a"
            ],
            [
             0.8888888888888888,
             "#fdca26"
            ],
            [
             1,
             "#f0f921"
            ]
           ]
          },
          "colorway": [
           "#636efa",
           "#EF553B",
           "#00cc96",
           "#ab63fa",
           "#FFA15A",
           "#19d3f3",
           "#FF6692",
           "#B6E880",
           "#FF97FF",
           "#FECB52"
          ],
          "font": {
           "color": "#2a3f5f"
          },
          "geo": {
           "bgcolor": "white",
           "lakecolor": "white",
           "landcolor": "#E5ECF6",
           "showlakes": true,
           "showland": true,
           "subunitcolor": "white"
          },
          "hoverlabel": {
           "align": "left"
          },
          "hovermode": "closest",
          "mapbox": {
           "style": "light"
          },
          "paper_bgcolor": "white",
          "plot_bgcolor": "#E5ECF6",
          "polar": {
           "angularaxis": {
            "gridcolor": "white",
            "linecolor": "white",
            "ticks": ""
           },
           "bgcolor": "#E5ECF6",
           "radialaxis": {
            "gridcolor": "white",
            "linecolor": "white",
            "ticks": ""
           }
          },
          "scene": {
           "xaxis": {
            "backgroundcolor": "#E5ECF6",
            "gridcolor": "white",
            "gridwidth": 2,
            "linecolor": "white",
            "showbackground": true,
            "ticks": "",
            "zerolinecolor": "white"
           },
           "yaxis": {
            "backgroundcolor": "#E5ECF6",
            "gridcolor": "white",
            "gridwidth": 2,
            "linecolor": "white",
            "showbackground": true,
            "ticks": "",
            "zerolinecolor": "white"
           },
           "zaxis": {
            "backgroundcolor": "#E5ECF6",
            "gridcolor": "white",
            "gridwidth": 2,
            "linecolor": "white",
            "showbackground": true,
            "ticks": "",
            "zerolinecolor": "white"
           }
          },
          "shapedefaults": {
           "line": {
            "color": "#2a3f5f"
           }
          },
          "ternary": {
           "aaxis": {
            "gridcolor": "white",
            "linecolor": "white",
            "ticks": ""
           },
           "baxis": {
            "gridcolor": "white",
            "linecolor": "white",
            "ticks": ""
           },
           "bgcolor": "#E5ECF6",
           "caxis": {
            "gridcolor": "white",
            "linecolor": "white",
            "ticks": ""
           }
          },
          "title": {
           "x": 0.05
          },
          "xaxis": {
           "automargin": true,
           "gridcolor": "white",
           "linecolor": "white",
           "ticks": "",
           "title": {
            "standoff": 15
           },
           "zerolinecolor": "white",
           "zerolinewidth": 2
          },
          "yaxis": {
           "automargin": true,
           "gridcolor": "white",
           "linecolor": "white",
           "ticks": "",
           "title": {
            "standoff": 15
           },
           "zerolinecolor": "white",
           "zerolinewidth": 2
          }
         }
        },
        "title": {
         "text": "Bar Chart"
        },
        "xaxis": {
         "anchor": "y",
         "domain": [
          0,
          1
         ],
         "title": {
          "text": "total_bill"
         }
        },
        "yaxis": {
         "anchor": "x",
         "domain": [
          0,
          1
         ],
         "title": {
          "text": "day"
         }
        }
       }
      }
     },
     "metadata": {}
    }
   ],
   "source": [
    "fig = px.bar(df3,x=\"total_bill\",  y = \"day\",  color = \"sex\", title='Bar Chart' )\n",
    "fig.show()"
   ]
  },
  {
   "cell_type": "code",
   "execution_count": 35,
   "metadata": {},
   "outputs": [
    {
     "output_type": "display_data",
     "data": {
      "application/vnd.plotly.v1+json": {
       "config": {
        "plotlyServerURL": "https://plot.ly"
       },
       "data": [
        {
         "name": "SF Zoo",
         "type": "bar",
         "x": [
          "giraffes",
          "orangutans",
          "monkeys"
         ],
         "y": [
          20,
          14,
          23
         ]
        },
        {
         "name": "LA Zoo",
         "type": "bar",
         "x": [
          "giraffes",
          "orangutans",
          "monkeys"
         ],
         "y": [
          12,
          18,
          29
         ]
        }
       ],
       "layout": {
        "barmode": "group",
        "template": {
         "data": {
          "bar": [
           {
            "error_x": {
             "color": "#2a3f5f"
            },
            "error_y": {
             "color": "#2a3f5f"
            },
            "marker": {
             "line": {
              "color": "#E5ECF6",
              "width": 0.5
             }
            },
            "type": "bar"
           }
          ],
          "barpolar": [
           {
            "marker": {
             "line": {
              "color": "#E5ECF6",
              "width": 0.5
             }
            },
            "type": "barpolar"
           }
          ],
          "carpet": [
           {
            "aaxis": {
             "endlinecolor": "#2a3f5f",
             "gridcolor": "white",
             "linecolor": "white",
             "minorgridcolor": "white",
             "startlinecolor": "#2a3f5f"
            },
            "baxis": {
             "endlinecolor": "#2a3f5f",
             "gridcolor": "white",
             "linecolor": "white",
             "minorgridcolor": "white",
             "startlinecolor": "#2a3f5f"
            },
            "type": "carpet"
           }
          ],
          "choropleth": [
           {
            "colorbar": {
             "outlinewidth": 0,
             "ticks": ""
            },
            "type": "choropleth"
           }
          ],
          "contour": [
           {
            "colorbar": {
             "outlinewidth": 0,
             "ticks": ""
            },
            "colorscale": [
             [
              0,
              "#0d0887"
             ],
             [
              0.1111111111111111,
              "#46039f"
             ],
             [
              0.2222222222222222,
              "#7201a8"
             ],
             [
              0.3333333333333333,
              "#9c179e"
             ],
             [
              0.4444444444444444,
              "#bd3786"
             ],
             [
              0.5555555555555556,
              "#d8576b"
             ],
             [
              0.6666666666666666,
              "#ed7953"
             ],
             [
              0.7777777777777778,
              "#fb9f3a"
             ],
             [
              0.8888888888888888,
              "#fdca26"
             ],
             [
              1,
              "#f0f921"
             ]
            ],
            "type": "contour"
           }
          ],
          "contourcarpet": [
           {
            "colorbar": {
             "outlinewidth": 0,
             "ticks": ""
            },
            "type": "contourcarpet"
           }
          ],
          "heatmap": [
           {
            "colorbar": {
             "outlinewidth": 0,
             "ticks": ""
            },
            "colorscale": [
             [
              0,
              "#0d0887"
             ],
             [
              0.1111111111111111,
              "#46039f"
             ],
             [
              0.2222222222222222,
              "#7201a8"
             ],
             [
              0.3333333333333333,
              "#9c179e"
             ],
             [
              0.4444444444444444,
              "#bd3786"
             ],
             [
              0.5555555555555556,
              "#d8576b"
             ],
             [
              0.6666666666666666,
              "#ed7953"
             ],
             [
              0.7777777777777778,
              "#fb9f3a"
             ],
             [
              0.8888888888888888,
              "#fdca26"
             ],
             [
              1,
              "#f0f921"
             ]
            ],
            "type": "heatmap"
           }
          ],
          "heatmapgl": [
           {
            "colorbar": {
             "outlinewidth": 0,
             "ticks": ""
            },
            "colorscale": [
             [
              0,
              "#0d0887"
             ],
             [
              0.1111111111111111,
              "#46039f"
             ],
             [
              0.2222222222222222,
              "#7201a8"
             ],
             [
              0.3333333333333333,
              "#9c179e"
             ],
             [
              0.4444444444444444,
              "#bd3786"
             ],
             [
              0.5555555555555556,
              "#d8576b"
             ],
             [
              0.6666666666666666,
              "#ed7953"
             ],
             [
              0.7777777777777778,
              "#fb9f3a"
             ],
             [
              0.8888888888888888,
              "#fdca26"
             ],
             [
              1,
              "#f0f921"
             ]
            ],
            "type": "heatmapgl"
           }
          ],
          "histogram": [
           {
            "marker": {
             "colorbar": {
              "outlinewidth": 0,
              "ticks": ""
             }
            },
            "type": "histogram"
           }
          ],
          "histogram2d": [
           {
            "colorbar": {
             "outlinewidth": 0,
             "ticks": ""
            },
            "colorscale": [
             [
              0,
              "#0d0887"
             ],
             [
              0.1111111111111111,
              "#46039f"
             ],
             [
              0.2222222222222222,
              "#7201a8"
             ],
             [
              0.3333333333333333,
              "#9c179e"
             ],
             [
              0.4444444444444444,
              "#bd3786"
             ],
             [
              0.5555555555555556,
              "#d8576b"
             ],
             [
              0.6666666666666666,
              "#ed7953"
             ],
             [
              0.7777777777777778,
              "#fb9f3a"
             ],
             [
              0.8888888888888888,
              "#fdca26"
             ],
             [
              1,
              "#f0f921"
             ]
            ],
            "type": "histogram2d"
           }
          ],
          "histogram2dcontour": [
           {
            "colorbar": {
             "outlinewidth": 0,
             "ticks": ""
            },
            "colorscale": [
             [
              0,
              "#0d0887"
             ],
             [
              0.1111111111111111,
              "#46039f"
             ],
             [
              0.2222222222222222,
              "#7201a8"
             ],
             [
              0.3333333333333333,
              "#9c179e"
             ],
             [
              0.4444444444444444,
              "#bd3786"
             ],
             [
              0.5555555555555556,
              "#d8576b"
             ],
             [
              0.6666666666666666,
              "#ed7953"
             ],
             [
              0.7777777777777778,
              "#fb9f3a"
             ],
             [
              0.8888888888888888,
              "#fdca26"
             ],
             [
              1,
              "#f0f921"
             ]
            ],
            "type": "histogram2dcontour"
           }
          ],
          "mesh3d": [
           {
            "colorbar": {
             "outlinewidth": 0,
             "ticks": ""
            },
            "type": "mesh3d"
           }
          ],
          "parcoords": [
           {
            "line": {
             "colorbar": {
              "outlinewidth": 0,
              "ticks": ""
             }
            },
            "type": "parcoords"
           }
          ],
          "pie": [
           {
            "automargin": true,
            "type": "pie"
           }
          ],
          "scatter": [
           {
            "marker": {
             "colorbar": {
              "outlinewidth": 0,
              "ticks": ""
             }
            },
            "type": "scatter"
           }
          ],
          "scatter3d": [
           {
            "line": {
             "colorbar": {
              "outlinewidth": 0,
              "ticks": ""
             }
            },
            "marker": {
             "colorbar": {
              "outlinewidth": 0,
              "ticks": ""
             }
            },
            "type": "scatter3d"
           }
          ],
          "scattercarpet": [
           {
            "marker": {
             "colorbar": {
              "outlinewidth": 0,
              "ticks": ""
             }
            },
            "type": "scattercarpet"
           }
          ],
          "scattergeo": [
           {
            "marker": {
             "colorbar": {
              "outlinewidth": 0,
              "ticks": ""
             }
            },
            "type": "scattergeo"
           }
          ],
          "scattergl": [
           {
            "marker": {
             "colorbar": {
              "outlinewidth": 0,
              "ticks": ""
             }
            },
            "type": "scattergl"
           }
          ],
          "scattermapbox": [
           {
            "marker": {
             "colorbar": {
              "outlinewidth": 0,
              "ticks": ""
             }
            },
            "type": "scattermapbox"
           }
          ],
          "scatterpolar": [
           {
            "marker": {
             "colorbar": {
              "outlinewidth": 0,
              "ticks": ""
             }
            },
            "type": "scatterpolar"
           }
          ],
          "scatterpolargl": [
           {
            "marker": {
             "colorbar": {
              "outlinewidth": 0,
              "ticks": ""
             }
            },
            "type": "scatterpolargl"
           }
          ],
          "scatterternary": [
           {
            "marker": {
             "colorbar": {
              "outlinewidth": 0,
              "ticks": ""
             }
            },
            "type": "scatterternary"
           }
          ],
          "surface": [
           {
            "colorbar": {
             "outlinewidth": 0,
             "ticks": ""
            },
            "colorscale": [
             [
              0,
              "#0d0887"
             ],
             [
              0.1111111111111111,
              "#46039f"
             ],
             [
              0.2222222222222222,
              "#7201a8"
             ],
             [
              0.3333333333333333,
              "#9c179e"
             ],
             [
              0.4444444444444444,
              "#bd3786"
             ],
             [
              0.5555555555555556,
              "#d8576b"
             ],
             [
              0.6666666666666666,
              "#ed7953"
             ],
             [
              0.7777777777777778,
              "#fb9f3a"
             ],
             [
              0.8888888888888888,
              "#fdca26"
             ],
             [
              1,
              "#f0f921"
             ]
            ],
            "type": "surface"
           }
          ],
          "table": [
           {
            "cells": {
             "fill": {
              "color": "#EBF0F8"
             },
             "line": {
              "color": "white"
             }
            },
            "header": {
             "fill": {
              "color": "#C8D4E3"
             },
             "line": {
              "color": "white"
             }
            },
            "type": "table"
           }
          ]
         },
         "layout": {
          "annotationdefaults": {
           "arrowcolor": "#2a3f5f",
           "arrowhead": 0,
           "arrowwidth": 1
          },
          "coloraxis": {
           "colorbar": {
            "outlinewidth": 0,
            "ticks": ""
           }
          },
          "colorscale": {
           "diverging": [
            [
             0,
             "#8e0152"
            ],
            [
             0.1,
             "#c51b7d"
            ],
            [
             0.2,
             "#de77ae"
            ],
            [
             0.3,
             "#f1b6da"
            ],
            [
             0.4,
             "#fde0ef"
            ],
            [
             0.5,
             "#f7f7f7"
            ],
            [
             0.6,
             "#e6f5d0"
            ],
            [
             0.7,
             "#b8e186"
            ],
            [
             0.8,
             "#7fbc41"
            ],
            [
             0.9,
             "#4d9221"
            ],
            [
             1,
             "#276419"
            ]
           ],
           "sequential": [
            [
             0,
             "#0d0887"
            ],
            [
             0.1111111111111111,
             "#46039f"
            ],
            [
             0.2222222222222222,
             "#7201a8"
            ],
            [
             0.3333333333333333,
             "#9c179e"
            ],
            [
             0.4444444444444444,
             "#bd3786"
            ],
            [
             0.5555555555555556,
             "#d8576b"
            ],
            [
             0.6666666666666666,
             "#ed7953"
            ],
            [
             0.7777777777777778,
             "#fb9f3a"
            ],
            [
             0.8888888888888888,
             "#fdca26"
            ],
            [
             1,
             "#f0f921"
            ]
           ],
           "sequentialminus": [
            [
             0,
             "#0d0887"
            ],
            [
             0.1111111111111111,
             "#46039f"
            ],
            [
             0.2222222222222222,
             "#7201a8"
            ],
            [
             0.3333333333333333,
             "#9c179e"
            ],
            [
             0.4444444444444444,
             "#bd3786"
            ],
            [
             0.5555555555555556,
             "#d8576b"
            ],
            [
             0.6666666666666666,
             "#ed7953"
            ],
            [
             0.7777777777777778,
             "#fb9f3a"
            ],
            [
             0.8888888888888888,
             "#fdca26"
            ],
            [
             1,
             "#f0f921"
            ]
           ]
          },
          "colorway": [
           "#636efa",
           "#EF553B",
           "#00cc96",
           "#ab63fa",
           "#FFA15A",
           "#19d3f3",
           "#FF6692",
           "#B6E880",
           "#FF97FF",
           "#FECB52"
          ],
          "font": {
           "color": "#2a3f5f"
          },
          "geo": {
           "bgcolor": "white",
           "lakecolor": "white",
           "landcolor": "#E5ECF6",
           "showlakes": true,
           "showland": true,
           "subunitcolor": "white"
          },
          "hoverlabel": {
           "align": "left"
          },
          "hovermode": "closest",
          "mapbox": {
           "style": "light"
          },
          "paper_bgcolor": "white",
          "plot_bgcolor": "#E5ECF6",
          "polar": {
           "angularaxis": {
            "gridcolor": "white",
            "linecolor": "white",
            "ticks": ""
           },
           "bgcolor": "#E5ECF6",
           "radialaxis": {
            "gridcolor": "white",
            "linecolor": "white",
            "ticks": ""
           }
          },
          "scene": {
           "xaxis": {
            "backgroundcolor": "#E5ECF6",
            "gridcolor": "white",
            "gridwidth": 2,
            "linecolor": "white",
            "showbackground": true,
            "ticks": "",
            "zerolinecolor": "white"
           },
           "yaxis": {
            "backgroundcolor": "#E5ECF6",
            "gridcolor": "white",
            "gridwidth": 2,
            "linecolor": "white",
            "showbackground": true,
            "ticks": "",
            "zerolinecolor": "white"
           },
           "zaxis": {
            "backgroundcolor": "#E5ECF6",
            "gridcolor": "white",
            "gridwidth": 2,
            "linecolor": "white",
            "showbackground": true,
            "ticks": "",
            "zerolinecolor": "white"
           }
          },
          "shapedefaults": {
           "line": {
            "color": "#2a3f5f"
           }
          },
          "ternary": {
           "aaxis": {
            "gridcolor": "white",
            "linecolor": "white",
            "ticks": ""
           },
           "baxis": {
            "gridcolor": "white",
            "linecolor": "white",
            "ticks": ""
           },
           "bgcolor": "#E5ECF6",
           "caxis": {
            "gridcolor": "white",
            "linecolor": "white",
            "ticks": ""
           }
          },
          "title": {
           "x": 0.05
          },
          "xaxis": {
           "automargin": true,
           "gridcolor": "white",
           "linecolor": "white",
           "ticks": "",
           "title": {
            "standoff": 15
           },
           "zerolinecolor": "white",
           "zerolinewidth": 2
          },
          "yaxis": {
           "automargin": true,
           "gridcolor": "white",
           "linecolor": "white",
           "ticks": "",
           "title": {
            "standoff": 15
           },
           "zerolinecolor": "white",
           "zerolinewidth": 2
          }
         }
        }
       }
      }
     },
     "metadata": {}
    }
   ],
   "source": [
    "# A better toy example\n",
    "import plotly.graph_objects as go\n",
    "animals=['giraffes', 'orangutans', 'monkeys']\n",
    "\n",
    "fig = go.Figure(data=[\n",
    "    go.Bar(name='SF Zoo', x=animals, y=[20, 14, 23]),\n",
    "    go.Bar(name='LA Zoo', x=animals, y=[12, 18, 29])\n",
    "])\n",
    "# Change the bar mode\n",
    "fig.update_layout(barmode='group')\n",
    "fig.show()"
   ]
  },
  {
   "cell_type": "markdown",
   "metadata": {},
   "source": [
    "### Gender"
   ]
  },
  {
   "cell_type": "code",
   "execution_count": 36,
   "metadata": {},
   "outputs": [
    {
     "output_type": "display_data",
     "data": {
      "application/vnd.plotly.v1+json": {
       "config": {
        "plotlyServerURL": "https://plot.ly"
       },
       "data": [
        {
         "name": "Male",
         "type": "bar",
         "x": [
          "1",
          "0"
         ],
         "y": [
          25696,
          97880
         ]
        },
        {
         "name": "Female",
         "type": "bar",
         "x": [
          "1",
          "0"
         ],
         "y": [
          19168,
          135410
         ]
        },
        {
         "name": "Other",
         "type": "bar",
         "x": [
          "1",
          "0"
         ],
         "y": [
          0,
          8346
         ]
        }
       ],
       "layout": {
        "barmode": "group",
        "template": {
         "data": {
          "bar": [
           {
            "error_x": {
             "color": "#2a3f5f"
            },
            "error_y": {
             "color": "#2a3f5f"
            },
            "marker": {
             "line": {
              "color": "#E5ECF6",
              "width": 0.5
             }
            },
            "type": "bar"
           }
          ],
          "barpolar": [
           {
            "marker": {
             "line": {
              "color": "#E5ECF6",
              "width": 0.5
             }
            },
            "type": "barpolar"
           }
          ],
          "carpet": [
           {
            "aaxis": {
             "endlinecolor": "#2a3f5f",
             "gridcolor": "white",
             "linecolor": "white",
             "minorgridcolor": "white",
             "startlinecolor": "#2a3f5f"
            },
            "baxis": {
             "endlinecolor": "#2a3f5f",
             "gridcolor": "white",
             "linecolor": "white",
             "minorgridcolor": "white",
             "startlinecolor": "#2a3f5f"
            },
            "type": "carpet"
           }
          ],
          "choropleth": [
           {
            "colorbar": {
             "outlinewidth": 0,
             "ticks": ""
            },
            "type": "choropleth"
           }
          ],
          "contour": [
           {
            "colorbar": {
             "outlinewidth": 0,
             "ticks": ""
            },
            "colorscale": [
             [
              0,
              "#0d0887"
             ],
             [
              0.1111111111111111,
              "#46039f"
             ],
             [
              0.2222222222222222,
              "#7201a8"
             ],
             [
              0.3333333333333333,
              "#9c179e"
             ],
             [
              0.4444444444444444,
              "#bd3786"
             ],
             [
              0.5555555555555556,
              "#d8576b"
             ],
             [
              0.6666666666666666,
              "#ed7953"
             ],
             [
              0.7777777777777778,
              "#fb9f3a"
             ],
             [
              0.8888888888888888,
              "#fdca26"
             ],
             [
              1,
              "#f0f921"
             ]
            ],
            "type": "contour"
           }
          ],
          "contourcarpet": [
           {
            "colorbar": {
             "outlinewidth": 0,
             "ticks": ""
            },
            "type": "contourcarpet"
           }
          ],
          "heatmap": [
           {
            "colorbar": {
             "outlinewidth": 0,
             "ticks": ""
            },
            "colorscale": [
             [
              0,
              "#0d0887"
             ],
             [
              0.1111111111111111,
              "#46039f"
             ],
             [
              0.2222222222222222,
              "#7201a8"
             ],
             [
              0.3333333333333333,
              "#9c179e"
             ],
             [
              0.4444444444444444,
              "#bd3786"
             ],
             [
              0.5555555555555556,
              "#d8576b"
             ],
             [
              0.6666666666666666,
              "#ed7953"
             ],
             [
              0.7777777777777778,
              "#fb9f3a"
             ],
             [
              0.8888888888888888,
              "#fdca26"
             ],
             [
              1,
              "#f0f921"
             ]
            ],
            "type": "heatmap"
           }
          ],
          "heatmapgl": [
           {
            "colorbar": {
             "outlinewidth": 0,
             "ticks": ""
            },
            "colorscale": [
             [
              0,
              "#0d0887"
             ],
             [
              0.1111111111111111,
              "#46039f"
             ],
             [
              0.2222222222222222,
              "#7201a8"
             ],
             [
              0.3333333333333333,
              "#9c179e"
             ],
             [
              0.4444444444444444,
              "#bd3786"
             ],
             [
              0.5555555555555556,
              "#d8576b"
             ],
             [
              0.6666666666666666,
              "#ed7953"
             ],
             [
              0.7777777777777778,
              "#fb9f3a"
             ],
             [
              0.8888888888888888,
              "#fdca26"
             ],
             [
              1,
              "#f0f921"
             ]
            ],
            "type": "heatmapgl"
           }
          ],
          "histogram": [
           {
            "marker": {
             "colorbar": {
              "outlinewidth": 0,
              "ticks": ""
             }
            },
            "type": "histogram"
           }
          ],
          "histogram2d": [
           {
            "colorbar": {
             "outlinewidth": 0,
             "ticks": ""
            },
            "colorscale": [
             [
              0,
              "#0d0887"
             ],
             [
              0.1111111111111111,
              "#46039f"
             ],
             [
              0.2222222222222222,
              "#7201a8"
             ],
             [
              0.3333333333333333,
              "#9c179e"
             ],
             [
              0.4444444444444444,
              "#bd3786"
             ],
             [
              0.5555555555555556,
              "#d8576b"
             ],
             [
              0.6666666666666666,
              "#ed7953"
             ],
             [
              0.7777777777777778,
              "#fb9f3a"
             ],
             [
              0.8888888888888888,
              "#fdca26"
             ],
             [
              1,
              "#f0f921"
             ]
            ],
            "type": "histogram2d"
           }
          ],
          "histogram2dcontour": [
           {
            "colorbar": {
             "outlinewidth": 0,
             "ticks": ""
            },
            "colorscale": [
             [
              0,
              "#0d0887"
             ],
             [
              0.1111111111111111,
              "#46039f"
             ],
             [
              0.2222222222222222,
              "#7201a8"
             ],
             [
              0.3333333333333333,
              "#9c179e"
             ],
             [
              0.4444444444444444,
              "#bd3786"
             ],
             [
              0.5555555555555556,
              "#d8576b"
             ],
             [
              0.6666666666666666,
              "#ed7953"
             ],
             [
              0.7777777777777778,
              "#fb9f3a"
             ],
             [
              0.8888888888888888,
              "#fdca26"
             ],
             [
              1,
              "#f0f921"
             ]
            ],
            "type": "histogram2dcontour"
           }
          ],
          "mesh3d": [
           {
            "colorbar": {
             "outlinewidth": 0,
             "ticks": ""
            },
            "type": "mesh3d"
           }
          ],
          "parcoords": [
           {
            "line": {
             "colorbar": {
              "outlinewidth": 0,
              "ticks": ""
             }
            },
            "type": "parcoords"
           }
          ],
          "pie": [
           {
            "automargin": true,
            "type": "pie"
           }
          ],
          "scatter": [
           {
            "marker": {
             "colorbar": {
              "outlinewidth": 0,
              "ticks": ""
             }
            },
            "type": "scatter"
           }
          ],
          "scatter3d": [
           {
            "line": {
             "colorbar": {
              "outlinewidth": 0,
              "ticks": ""
             }
            },
            "marker": {
             "colorbar": {
              "outlinewidth": 0,
              "ticks": ""
             }
            },
            "type": "scatter3d"
           }
          ],
          "scattercarpet": [
           {
            "marker": {
             "colorbar": {
              "outlinewidth": 0,
              "ticks": ""
             }
            },
            "type": "scattercarpet"
           }
          ],
          "scattergeo": [
           {
            "marker": {
             "colorbar": {
              "outlinewidth": 0,
              "ticks": ""
             }
            },
            "type": "scattergeo"
           }
          ],
          "scattergl": [
           {
            "marker": {
             "colorbar": {
              "outlinewidth": 0,
              "ticks": ""
             }
            },
            "type": "scattergl"
           }
          ],
          "scattermapbox": [
           {
            "marker": {
             "colorbar": {
              "outlinewidth": 0,
              "ticks": ""
             }
            },
            "type": "scattermapbox"
           }
          ],
          "scatterpolar": [
           {
            "marker": {
             "colorbar": {
              "outlinewidth": 0,
              "ticks": ""
             }
            },
            "type": "scatterpolar"
           }
          ],
          "scatterpolargl": [
           {
            "marker": {
             "colorbar": {
              "outlinewidth": 0,
              "ticks": ""
             }
            },
            "type": "scatterpolargl"
           }
          ],
          "scatterternary": [
           {
            "marker": {
             "colorbar": {
              "outlinewidth": 0,
              "ticks": ""
             }
            },
            "type": "scatterternary"
           }
          ],
          "surface": [
           {
            "colorbar": {
             "outlinewidth": 0,
             "ticks": ""
            },
            "colorscale": [
             [
              0,
              "#0d0887"
             ],
             [
              0.1111111111111111,
              "#46039f"
             ],
             [
              0.2222222222222222,
              "#7201a8"
             ],
             [
              0.3333333333333333,
              "#9c179e"
             ],
             [
              0.4444444444444444,
              "#bd3786"
             ],
             [
              0.5555555555555556,
              "#d8576b"
             ],
             [
              0.6666666666666666,
              "#ed7953"
             ],
             [
              0.7777777777777778,
              "#fb9f3a"
             ],
             [
              0.8888888888888888,
              "#fdca26"
             ],
             [
              1,
              "#f0f921"
             ]
            ],
            "type": "surface"
           }
          ],
          "table": [
           {
            "cells": {
             "fill": {
              "color": "#EBF0F8"
             },
             "line": {
              "color": "white"
             }
            },
            "header": {
             "fill": {
              "color": "#C8D4E3"
             },
             "line": {
              "color": "white"
             }
            },
            "type": "table"
           }
          ]
         },
         "layout": {
          "annotationdefaults": {
           "arrowcolor": "#2a3f5f",
           "arrowhead": 0,
           "arrowwidth": 1
          },
          "coloraxis": {
           "colorbar": {
            "outlinewidth": 0,
            "ticks": ""
           }
          },
          "colorscale": {
           "diverging": [
            [
             0,
             "#8e0152"
            ],
            [
             0.1,
             "#c51b7d"
            ],
            [
             0.2,
             "#de77ae"
            ],
            [
             0.3,
             "#f1b6da"
            ],
            [
             0.4,
             "#fde0ef"
            ],
            [
             0.5,
             "#f7f7f7"
            ],
            [
             0.6,
             "#e6f5d0"
            ],
            [
             0.7,
             "#b8e186"
            ],
            [
             0.8,
             "#7fbc41"
            ],
            [
             0.9,
             "#4d9221"
            ],
            [
             1,
             "#276419"
            ]
           ],
           "sequential": [
            [
             0,
             "#0d0887"
            ],
            [
             0.1111111111111111,
             "#46039f"
            ],
            [
             0.2222222222222222,
             "#7201a8"
            ],
            [
             0.3333333333333333,
             "#9c179e"
            ],
            [
             0.4444444444444444,
             "#bd3786"
            ],
            [
             0.5555555555555556,
             "#d8576b"
            ],
            [
             0.6666666666666666,
             "#ed7953"
            ],
            [
             0.7777777777777778,
             "#fb9f3a"
            ],
            [
             0.8888888888888888,
             "#fdca26"
            ],
            [
             1,
             "#f0f921"
            ]
           ],
           "sequentialminus": [
            [
             0,
             "#0d0887"
            ],
            [
             0.1111111111111111,
             "#46039f"
            ],
            [
             0.2222222222222222,
             "#7201a8"
            ],
            [
             0.3333333333333333,
             "#9c179e"
            ],
            [
             0.4444444444444444,
             "#bd3786"
            ],
            [
             0.5555555555555556,
             "#d8576b"
            ],
            [
             0.6666666666666666,
             "#ed7953"
            ],
            [
             0.7777777777777778,
             "#fb9f3a"
            ],
            [
             0.8888888888888888,
             "#fdca26"
            ],
            [
             1,
             "#f0f921"
            ]
           ]
          },
          "colorway": [
           "#636efa",
           "#EF553B",
           "#00cc96",
           "#ab63fa",
           "#FFA15A",
           "#19d3f3",
           "#FF6692",
           "#B6E880",
           "#FF97FF",
           "#FECB52"
          ],
          "font": {
           "color": "#2a3f5f"
          },
          "geo": {
           "bgcolor": "white",
           "lakecolor": "white",
           "landcolor": "#E5ECF6",
           "showlakes": true,
           "showland": true,
           "subunitcolor": "white"
          },
          "hoverlabel": {
           "align": "left"
          },
          "hovermode": "closest",
          "mapbox": {
           "style": "light"
          },
          "paper_bgcolor": "white",
          "plot_bgcolor": "#E5ECF6",
          "polar": {
           "angularaxis": {
            "gridcolor": "white",
            "linecolor": "white",
            "ticks": ""
           },
           "bgcolor": "#E5ECF6",
           "radialaxis": {
            "gridcolor": "white",
            "linecolor": "white",
            "ticks": ""
           }
          },
          "scene": {
           "xaxis": {
            "backgroundcolor": "#E5ECF6",
            "gridcolor": "white",
            "gridwidth": 2,
            "linecolor": "white",
            "showbackground": true,
            "ticks": "",
            "zerolinecolor": "white"
           },
           "yaxis": {
            "backgroundcolor": "#E5ECF6",
            "gridcolor": "white",
            "gridwidth": 2,
            "linecolor": "white",
            "showbackground": true,
            "ticks": "",
            "zerolinecolor": "white"
           },
           "zaxis": {
            "backgroundcolor": "#E5ECF6",
            "gridcolor": "white",
            "gridwidth": 2,
            "linecolor": "white",
            "showbackground": true,
            "ticks": "",
            "zerolinecolor": "white"
           }
          },
          "shapedefaults": {
           "line": {
            "color": "#2a3f5f"
           }
          },
          "ternary": {
           "aaxis": {
            "gridcolor": "white",
            "linecolor": "white",
            "ticks": ""
           },
           "baxis": {
            "gridcolor": "white",
            "linecolor": "white",
            "ticks": ""
           },
           "bgcolor": "#E5ECF6",
           "caxis": {
            "gridcolor": "white",
            "linecolor": "white",
            "ticks": ""
           }
          },
          "title": {
           "x": 0.05
          },
          "xaxis": {
           "automargin": true,
           "gridcolor": "white",
           "linecolor": "white",
           "ticks": "",
           "title": {
            "standoff": 15
           },
           "zerolinecolor": "white",
           "zerolinewidth": 2
          },
          "yaxis": {
           "automargin": true,
           "gridcolor": "white",
           "linecolor": "white",
           "ticks": "",
           "title": {
            "standoff": 15
           },
           "zerolinecolor": "white",
           "zerolinewidth": 2
          }
         }
        }
       }
      }
     },
     "metadata": {}
    }
   ],
   "source": [
    "churn = ['1', '0']\n",
    "\n",
    "fig = go.Figure(data=[\n",
    "    go.Bar(name='Male', x=churn, y=gender_tab['M']),\n",
    "    go.Bar(name='Female', x=churn, y=gender_tab['F']),\n",
    "    go.Bar(name='Other', x=churn, y=gender_tab['null'])\n",
    "])\n",
    "# Change the bar mode\n",
    "fig.update_layout(barmode='group')\n",
    "fig.show()"
   ]
  },
  {
   "cell_type": "markdown",
   "metadata": {},
   "source": [
    "* Appears as though men disproportionately cancel more than women"
   ]
  },
  {
   "cell_type": "markdown",
   "metadata": {},
   "source": [
    "* Wait a minute... data has not yet been aggregated to the user level"
   ]
  },
  {
   "cell_type": "markdown",
   "metadata": {},
   "source": [
    "# Transform data to user level"
   ]
  },
  {
   "cell_type": "markdown",
   "metadata": {},
   "source": [
    "## Feature engineering here as well mixed in"
   ]
  },
  {
   "cell_type": "markdown",
   "metadata": {},
   "source": [
    "* how many unique artists did they listen to?\n",
    "* how many unique songs? maybe churned users listened to less songs and were less active?\n",
    "* how many unique sessions per user?\n",
    "* how many 404 errors (not found)? Maybe frustrated users churned because they got too many errors?\n",
    "* 307s are also a type of error\n",
    "* Level - Since paid (p) is alphabetically higher than free (f), if we do max we will capture anyone who ever transitioned from free to paid, and of course if they were still free it will stay free"
   ]
  },
  {
   "cell_type": "code",
   "execution_count": 37,
   "metadata": {},
   "outputs": [
    {
     "output_type": "execute_result",
     "data": {
      "text/plain": "   userId churn gender subscription_level  page_upgraded  page_downgraded  \\\n0  100010     0      F               free              1                0   \n1  200002     0      M               paid              1                1   \n2     125     1      M               free              0                0   \n3     124     0      F               paid              0                1   \n4      51     1      M               paid              0                1   \n\n   auth_logged_in_cnt  auth_logged_out_cnt  auth_guest_cnt  status_404_cnt  \\\n0                 381                    0               0               0   \n1                 474                    0               0               0   \n2                  10                    0               0               0   \n3                4825                    0               0               6   \n4                2463                    0               0               1   \n\n   ...  page_thumbs_up_cnt  page_thumbs_down_cnt  page_playlist_cnt  \\\n0  ...                  17                     5                  7   \n1  ...                  21                     6                  8   \n2  ...                   0                     0                  0   \n3  ...                 171                    41                118   \n4  ...                 100                    21                 52   \n\n   page_friend_cnt  page_roll_ad_cnt  page_logout_cnt  page_help_cnt  \\\n0                4                52                5              2   \n1                4                 7                5              2   \n2                0                 1                0              0   \n3               74                 4               59             23   \n4               28                 0               24             12   \n\n   artist_cnt  song_cnt  session_cnt  \n0         252       269            7  \n1         339       378            6  \n2           8         8            1  \n3        2232      3339           29  \n4        1385      1854           10  \n\n[5 rows x 22 columns]",
      "text/html": "<div>\n<style scoped>\n    .dataframe tbody tr th:only-of-type {\n        vertical-align: middle;\n    }\n\n    .dataframe tbody tr th {\n        vertical-align: top;\n    }\n\n    .dataframe thead th {\n        text-align: right;\n    }\n</style>\n<table border=\"1\" class=\"dataframe\">\n  <thead>\n    <tr style=\"text-align: right;\">\n      <th></th>\n      <th>userId</th>\n      <th>churn</th>\n      <th>gender</th>\n      <th>subscription_level</th>\n      <th>page_upgraded</th>\n      <th>page_downgraded</th>\n      <th>auth_logged_in_cnt</th>\n      <th>auth_logged_out_cnt</th>\n      <th>auth_guest_cnt</th>\n      <th>status_404_cnt</th>\n      <th>...</th>\n      <th>page_thumbs_up_cnt</th>\n      <th>page_thumbs_down_cnt</th>\n      <th>page_playlist_cnt</th>\n      <th>page_friend_cnt</th>\n      <th>page_roll_ad_cnt</th>\n      <th>page_logout_cnt</th>\n      <th>page_help_cnt</th>\n      <th>artist_cnt</th>\n      <th>song_cnt</th>\n      <th>session_cnt</th>\n    </tr>\n  </thead>\n  <tbody>\n    <tr>\n      <th>0</th>\n      <td>100010</td>\n      <td>0</td>\n      <td>F</td>\n      <td>free</td>\n      <td>1</td>\n      <td>0</td>\n      <td>381</td>\n      <td>0</td>\n      <td>0</td>\n      <td>0</td>\n      <td>...</td>\n      <td>17</td>\n      <td>5</td>\n      <td>7</td>\n      <td>4</td>\n      <td>52</td>\n      <td>5</td>\n      <td>2</td>\n      <td>252</td>\n      <td>269</td>\n      <td>7</td>\n    </tr>\n    <tr>\n      <th>1</th>\n      <td>200002</td>\n      <td>0</td>\n      <td>M</td>\n      <td>paid</td>\n      <td>1</td>\n      <td>1</td>\n      <td>474</td>\n      <td>0</td>\n      <td>0</td>\n      <td>0</td>\n      <td>...</td>\n      <td>21</td>\n      <td>6</td>\n      <td>8</td>\n      <td>4</td>\n      <td>7</td>\n      <td>5</td>\n      <td>2</td>\n      <td>339</td>\n      <td>378</td>\n      <td>6</td>\n    </tr>\n    <tr>\n      <th>2</th>\n      <td>125</td>\n      <td>1</td>\n      <td>M</td>\n      <td>free</td>\n      <td>0</td>\n      <td>0</td>\n      <td>10</td>\n      <td>0</td>\n      <td>0</td>\n      <td>0</td>\n      <td>...</td>\n      <td>0</td>\n      <td>0</td>\n      <td>0</td>\n      <td>0</td>\n      <td>1</td>\n      <td>0</td>\n      <td>0</td>\n      <td>8</td>\n      <td>8</td>\n      <td>1</td>\n    </tr>\n    <tr>\n      <th>3</th>\n      <td>124</td>\n      <td>0</td>\n      <td>F</td>\n      <td>paid</td>\n      <td>0</td>\n      <td>1</td>\n      <td>4825</td>\n      <td>0</td>\n      <td>0</td>\n      <td>6</td>\n      <td>...</td>\n      <td>171</td>\n      <td>41</td>\n      <td>118</td>\n      <td>74</td>\n      <td>4</td>\n      <td>59</td>\n      <td>23</td>\n      <td>2232</td>\n      <td>3339</td>\n      <td>29</td>\n    </tr>\n    <tr>\n      <th>4</th>\n      <td>51</td>\n      <td>1</td>\n      <td>M</td>\n      <td>paid</td>\n      <td>0</td>\n      <td>1</td>\n      <td>2463</td>\n      <td>0</td>\n      <td>0</td>\n      <td>1</td>\n      <td>...</td>\n      <td>100</td>\n      <td>21</td>\n      <td>52</td>\n      <td>28</td>\n      <td>0</td>\n      <td>24</td>\n      <td>12</td>\n      <td>1385</td>\n      <td>1854</td>\n      <td>10</td>\n    </tr>\n  </tbody>\n</table>\n<p>5 rows × 22 columns</p>\n</div>"
     },
     "metadata": {},
     "execution_count": 37
    }
   ],
   "source": [
    "exprs = [\\\n",
    "   sparkMax(col('churn')).alias('churn')\\\n",
    "  ,sparkMax(col('Gender')).alias('gender')\\\n",
    "  ,sparkMax(col('level')).alias('subscription_level')\\\n",
    "  ,sparkMax(when(col(\"page\") == 'Upgrade', 1).otherwise(0)).alias('page_upgraded')\n",
    "  ,sparkMax(when(col(\"page\") == 'Downgrade', 1).otherwise(0)).alias('page_downgraded')\n",
    "  ,count(when(col(\"auth\") == 'Logged In', True)).alias('auth_logged_in_cnt')\\\n",
    "  ,count(when(col(\"auth\") == 'Logged Out', True)).alias('auth_logged_out_cnt')\\\n",
    "  ,count(when(col(\"auth\") == 'Guest', True)).alias('auth_guest_cnt')\\\n",
    "  ,count(when(col(\"status\") == '404', True)).alias('status_404_cnt')\\\n",
    "  ,count(when(col(\"status\") == '307', True)).alias('status_307_cnt')\\\n",
    "  ,count(when(col(\"page\") == 'Next Song', True)).alias('page_next_song_cnt')\n",
    "  ,count(when(col(\"page\") == 'Thumbs Up', True)).alias('page_thumbs_up_cnt')\n",
    "  ,count(when(col(\"page\") == 'Thumbs Down', True)).alias('page_thumbs_down_cnt')\n",
    "  ,count(when(col(\"page\") == 'Add to Playlist', True)).alias('page_playlist_cnt')\n",
    "  ,count(when(col(\"page\") == 'Add Friend', True)).alias('page_friend_cnt')\n",
    "  ,count(when(col(\"page\") == 'Roll Advert', True)).alias('page_roll_ad_cnt')\n",
    "  ,count(when(col(\"page\") == 'Logout', True)).alias('page_logout_cnt')\n",
    "  ,count(when(col(\"page\") == 'Help', True)).alias('page_help_cnt')\n",
    "  ,countDistinct('artist').alias('artist_cnt')\\\n",
    "  ,countDistinct('song').alias('song_cnt')\\\n",
    "  ,countDistinct('sessionId').alias('session_cnt')\\\n",
    "]\n",
    "\n",
    "user_df = df.groupBy('userId')\\\n",
    ".agg(*exprs)\n",
    "\n",
    "# Should have already removed rows with no userIds earlier\n",
    "# Remove data with null values - needs to be added to pipeline\n",
    "user_df = user_df.where(col(\"gender\").isNotNull()) #only 1 value is null and can't assume a value on a heuristic\n",
    "\n",
    "user_df.toPandas().head()"
   ]
  },
  {
   "cell_type": "code",
   "execution_count": 37,
   "metadata": {},
   "outputs": [
    {
     "output_type": "execute_result",
     "data": {
      "text/plain": "225"
     },
     "metadata": {},
     "execution_count": 37
    }
   ],
   "source": [
    "user_df.count() # same as original userId count near top "
   ]
  },
  {
   "cell_type": "markdown",
   "metadata": {},
   "source": [
    "### How unbalanced is the dataset?"
   ]
  },
  {
   "cell_type": "code",
   "execution_count": 38,
   "metadata": {},
   "outputs": [
    {
     "output_type": "stream",
     "name": "stdout",
     "text": "+-----+-----+-------+\n|churn|count|percent|\n+-----+-----+-------+\n|    0|  173|  76.89|\n|    1|   52|  23.11|\n+-----+-----+-------+\n\n"
    }
   ],
   "source": [
    "user_count = user_df.groupby('churn').count()\n",
    "user_count = user_count.withColumn('percent', col('count')/sum('count').over(Window.partitionBy()))\n",
    "# multiply by 100 and round\n",
    "user_count = user_count.withColumn(\"percent\", sparkround(user_count[\"percent\"] * 100, 2))\n",
    "user_count.orderBy('percent', ascending=False).show()"
   ]
  },
  {
   "cell_type": "code",
   "execution_count": 39,
   "metadata": {},
   "outputs": [
    {
     "output_type": "stream",
     "name": "stdout",
     "text": "+------+-----+------+------------------+-------------+---------------+------------------+-------------------+--------------+--------------+--------------+------------------+------------------+--------------------+-----------------+---------------+----------------+---------------+-------------+----------+--------+-----------+\n|userId|churn|gender|subscription_level|page_upgraded|page_downgraded|auth_logged_in_cnt|auth_logged_out_cnt|auth_guest_cnt|status_404_cnt|status_307_cnt|page_next_song_cnt|page_thumbs_up_cnt|page_thumbs_down_cnt|page_playlist_cnt|page_friend_cnt|page_roll_ad_cnt|page_logout_cnt|page_help_cnt|artist_cnt|song_cnt|session_cnt|\n+------+-----+------+------------------+-------------+---------------+------------------+-------------------+--------------+--------------+--------------+------------------+------------------+--------------------+-----------------+---------------+----------------+---------------+-------------+----------+--------+-----------+\n+------+-----+------+------------------+-------------+---------------+------------------+-------------------+--------------+--------------+--------------+------------------+------------------+--------------------+-----------------+---------------+----------------+---------------+-------------+----------+--------+-----------+\n\n"
    }
   ],
   "source": [
    "user_df.where(col(\"userId\").isNull()).show() # we are going to ignore users without a userId since we can't aggregate"
   ]
  },
  {
   "cell_type": "code",
   "execution_count": 40,
   "metadata": {},
   "outputs": [],
   "source": [
    "### rename columns (don't need to anymore)\n",
    "#newcolnames = ['userId', 'gender', 'churn']\n",
    "# for c, n in zip(user_df.columns, newcolnames): #https://stackoverflow.com/questions/34077353/how-to-change-dataframe-column-names-in-pyspark\n",
    "#     user_df = user_df.withColumnRenamed(c, n)\n",
    "#user_df.columns "
   ]
  },
  {
   "cell_type": "code",
   "execution_count": 41,
   "metadata": {},
   "outputs": [
    {
     "output_type": "stream",
     "name": "stdout",
     "text": "+------+-----+------+------------------+-------------+---------------+------------------+-------------------+--------------+--------------+--------------+------------------+------------------+--------------------+-----------------+---------------+----------------+---------------+-------------+----------+--------+-----------+\n|userId|churn|gender|subscription_level|page_upgraded|page_downgraded|auth_logged_in_cnt|auth_logged_out_cnt|auth_guest_cnt|status_404_cnt|status_307_cnt|page_next_song_cnt|page_thumbs_up_cnt|page_thumbs_down_cnt|page_playlist_cnt|page_friend_cnt|page_roll_ad_cnt|page_logout_cnt|page_help_cnt|artist_cnt|song_cnt|session_cnt|\n+------+-----+------+------------------+-------------+---------------+------------------+-------------------+--------------+--------------+--------------+------------------+------------------+--------------------+-----------------+---------------+----------------+---------------+-------------+----------+--------+-----------+\n|100010|    0|     F|              free|            1|              0|               381|                  0|             0|             0|            31|                 0|                17|                   5|                7|              4|              52|              5|            2|       252|     269|          7|\n|200002|    0|     M|              paid|            1|              1|               474|                  0|             0|             0|            37|                 0|                21|                   6|                8|              4|               7|              5|            2|       339|     378|          6|\n|   125|    1|     M|              free|            0|              0|                10|                  0|             0|             0|             1|                 0|                 0|                   0|                0|              0|               1|              0|            0|         8|       8|          1|\n|   124|    0|     F|              paid|            0|              1|              4825|                  0|             0|             6|           351|                 0|               171|                  41|              118|             74|               4|             59|           23|      2232|    3339|         29|\n|    51|    1|     M|              paid|            0|              1|              2463|                  0|             0|             1|           175|                 0|               100|                  21|               52|             28|               0|             24|           12|      1385|    1854|         10|\n|     7|    0|     M|              free|            1|              0|               201|                  0|             0|             1|            13|                 0|                 7|                   1|                5|              1|              16|              3|            1|       142|     148|          7|\n|    15|    0|     M|              paid|            0|              1|              2278|                  0|             0|             2|           155|                 0|                81|                  14|               59|             31|               1|             27|            8|      1302|    1707|         15|\n|    54|    1|     F|              paid|            1|              1|              3436|                  0|             0|             1|           267|                 0|               163|                  29|               72|             33|              47|             36|           17|      1744|    2414|         37|\n|   155|    0|     F|              paid|            1|              1|              1002|                  0|             0|             3|            87|                 0|                58|                   3|               24|             11|               8|             14|            9|       643|     759|          6|\n|100014|    1|     M|              paid|            0|              1|               309|                  0|             0|             0|            30|                 0|                17|                   3|                7|              6|               2|              3|            2|       233|     248|          6|\n|   132|    0|     F|              paid|            1|              1|              2304|                  0|             0|             3|           193|                 0|                96|                  17|               38|             41|               2|             34|           16|      1299|    1718|         16|\n|   154|    0|     F|              free|            0|              0|               118|                  0|             0|             0|            16|                 0|                11|                   0|                1|              3|              10|              2|            1|        78|      83|          3|\n|   101|    1|     M|              paid|            1|              1|              2148|                  0|             0|             3|           159|                 0|                86|                  16|               61|             29|               8|             24|           12|      1241|    1608|         10|\n|    11|    0|     F|              paid|            1|              1|               848|                  0|             0|             1|            74|                 0|                40|                   9|               20|              6|              39|             14|            3|       534|     616|         16|\n|   138|    0|     M|              paid|            1|              1|              2469|                  0|             0|             1|           183|                 0|                95|                  24|               67|             41|              17|             18|           13|      1332|    1791|         15|\n|300017|    0|     F|              paid|            0|              1|              4428|                  0|             0|             5|           438|                 0|               303|                  28|              113|             63|              11|             41|           27|      2070|    3013|         63|\n|100021|    1|     M|              free|            1|              0|               318|                  0|             0|             2|            31|                 0|                11|                   5|                7|              7|              30|              7|            0|       207|     226|          5|\n|    29|    1|     M|              paid|            1|              1|              3602|                  0|             0|             0|           270|                 0|               154|                  22|               89|             47|              22|             41|           28|      1804|    2562|         34|\n|    69|    0|     F|              paid|            1|              1|              1342|                  0|             0|             4|           105|                 0|                72|                   9|               33|             12|               3|             10|            7|       865|    1036|          9|\n|   112|    0|     M|              free|            1|              0|               292|                  0|             0|             0|            25|                 0|                 9|                   3|                7|              7|              21|              3|            1|       195|     211|         10|\n+------+-----+------+------------------+-------------+---------------+------------------+-------------------+--------------+--------------+--------------+------------------+------------------+--------------------+-----------------+---------------+----------------+---------------+-------------+----------+--------+-----------+\nonly showing top 20 rows\n\n"
    }
   ],
   "source": [
    "user_df.show()"
   ]
  },
  {
   "cell_type": "code",
   "execution_count": 42,
   "metadata": {},
   "outputs": [
    {
     "output_type": "stream",
     "name": "stdout",
     "text": "+------+-----+------+------------------+-------------+---------------+------------------+-------------------+--------------+--------------+--------------+------------------+------------------+--------------------+-----------------+---------------+----------------+---------------+-------------+----------+--------+-----------+\n|userId|churn|gender|subscription_level|page_upgraded|page_downgraded|auth_logged_in_cnt|auth_logged_out_cnt|auth_guest_cnt|status_404_cnt|status_307_cnt|page_next_song_cnt|page_thumbs_up_cnt|page_thumbs_down_cnt|page_playlist_cnt|page_friend_cnt|page_roll_ad_cnt|page_logout_cnt|page_help_cnt|artist_cnt|song_cnt|session_cnt|\n+------+-----+------+------------------+-------------+---------------+------------------+-------------------+--------------+--------------+--------------+------------------+------------------+--------------------+-----------------+---------------+----------------+---------------+-------------+----------+--------+-----------+\n+------+-----+------+------------------+-------------+---------------+------------------+-------------------+--------------+--------------+--------------+------------------+------------------+--------------------+-----------------+---------------+----------------+---------------+-------------+----------+--------+-----------+\n\n"
    }
   ],
   "source": [
    "user_df.filter('auth_Guest_cnt != 0').show()"
   ]
  },
  {
   "cell_type": "markdown",
   "metadata": {},
   "source": [
    "* Okay it appears that when a user logs out we don't see there associated userId, so this data cannot be used.. also need need to remove this NULL or empty user Id"
   ]
  },
  {
   "cell_type": "code",
   "execution_count": null,
   "metadata": {},
   "outputs": [],
   "source": []
  },
  {
   "cell_type": "markdown",
   "metadata": {},
   "source": [
    "# EDA Visualizations continued..."
   ]
  },
  {
   "cell_type": "code",
   "execution_count": null,
   "metadata": {},
   "outputs": [],
   "source": []
  },
  {
   "cell_type": "code",
   "execution_count": 43,
   "metadata": {},
   "outputs": [
    {
     "output_type": "display_data",
     "data": {
      "application/vnd.plotly.v1+json": {
       "config": {
        "plotlyServerURL": "https://plot.ly"
       },
       "data": [
        {
         "name": "Male",
         "type": "bar",
         "x": [
          "1",
          "0"
         ],
         "y": [
          32,
          89
         ]
        },
        {
         "name": "Female",
         "type": "bar",
         "x": [
          "1",
          "0"
         ],
         "y": [
          20,
          84
         ]
        }
       ],
       "layout": {
        "barmode": "group",
        "template": {
         "data": {
          "bar": [
           {
            "error_x": {
             "color": "#2a3f5f"
            },
            "error_y": {
             "color": "#2a3f5f"
            },
            "marker": {
             "line": {
              "color": "#E5ECF6",
              "width": 0.5
             }
            },
            "type": "bar"
           }
          ],
          "barpolar": [
           {
            "marker": {
             "line": {
              "color": "#E5ECF6",
              "width": 0.5
             }
            },
            "type": "barpolar"
           }
          ],
          "carpet": [
           {
            "aaxis": {
             "endlinecolor": "#2a3f5f",
             "gridcolor": "white",
             "linecolor": "white",
             "minorgridcolor": "white",
             "startlinecolor": "#2a3f5f"
            },
            "baxis": {
             "endlinecolor": "#2a3f5f",
             "gridcolor": "white",
             "linecolor": "white",
             "minorgridcolor": "white",
             "startlinecolor": "#2a3f5f"
            },
            "type": "carpet"
           }
          ],
          "choropleth": [
           {
            "colorbar": {
             "outlinewidth": 0,
             "ticks": ""
            },
            "type": "choropleth"
           }
          ],
          "contour": [
           {
            "colorbar": {
             "outlinewidth": 0,
             "ticks": ""
            },
            "colorscale": [
             [
              0,
              "#0d0887"
             ],
             [
              0.1111111111111111,
              "#46039f"
             ],
             [
              0.2222222222222222,
              "#7201a8"
             ],
             [
              0.3333333333333333,
              "#9c179e"
             ],
             [
              0.4444444444444444,
              "#bd3786"
             ],
             [
              0.5555555555555556,
              "#d8576b"
             ],
             [
              0.6666666666666666,
              "#ed7953"
             ],
             [
              0.7777777777777778,
              "#fb9f3a"
             ],
             [
              0.8888888888888888,
              "#fdca26"
             ],
             [
              1,
              "#f0f921"
             ]
            ],
            "type": "contour"
           }
          ],
          "contourcarpet": [
           {
            "colorbar": {
             "outlinewidth": 0,
             "ticks": ""
            },
            "type": "contourcarpet"
           }
          ],
          "heatmap": [
           {
            "colorbar": {
             "outlinewidth": 0,
             "ticks": ""
            },
            "colorscale": [
             [
              0,
              "#0d0887"
             ],
             [
              0.1111111111111111,
              "#46039f"
             ],
             [
              0.2222222222222222,
              "#7201a8"
             ],
             [
              0.3333333333333333,
              "#9c179e"
             ],
             [
              0.4444444444444444,
              "#bd3786"
             ],
             [
              0.5555555555555556,
              "#d8576b"
             ],
             [
              0.6666666666666666,
              "#ed7953"
             ],
             [
              0.7777777777777778,
              "#fb9f3a"
             ],
             [
              0.8888888888888888,
              "#fdca26"
             ],
             [
              1,
              "#f0f921"
             ]
            ],
            "type": "heatmap"
           }
          ],
          "heatmapgl": [
           {
            "colorbar": {
             "outlinewidth": 0,
             "ticks": ""
            },
            "colorscale": [
             [
              0,
              "#0d0887"
             ],
             [
              0.1111111111111111,
              "#46039f"
             ],
             [
              0.2222222222222222,
              "#7201a8"
             ],
             [
              0.3333333333333333,
              "#9c179e"
             ],
             [
              0.4444444444444444,
              "#bd3786"
             ],
             [
              0.5555555555555556,
              "#d8576b"
             ],
             [
              0.6666666666666666,
              "#ed7953"
             ],
             [
              0.7777777777777778,
              "#fb9f3a"
             ],
             [
              0.8888888888888888,
              "#fdca26"
             ],
             [
              1,
              "#f0f921"
             ]
            ],
            "type": "heatmapgl"
           }
          ],
          "histogram": [
           {
            "marker": {
             "colorbar": {
              "outlinewidth": 0,
              "ticks": ""
             }
            },
            "type": "histogram"
           }
          ],
          "histogram2d": [
           {
            "colorbar": {
             "outlinewidth": 0,
             "ticks": ""
            },
            "colorscale": [
             [
              0,
              "#0d0887"
             ],
             [
              0.1111111111111111,
              "#46039f"
             ],
             [
              0.2222222222222222,
              "#7201a8"
             ],
             [
              0.3333333333333333,
              "#9c179e"
             ],
             [
              0.4444444444444444,
              "#bd3786"
             ],
             [
              0.5555555555555556,
              "#d8576b"
             ],
             [
              0.6666666666666666,
              "#ed7953"
             ],
             [
              0.7777777777777778,
              "#fb9f3a"
             ],
             [
              0.8888888888888888,
              "#fdca26"
             ],
             [
              1,
              "#f0f921"
             ]
            ],
            "type": "histogram2d"
           }
          ],
          "histogram2dcontour": [
           {
            "colorbar": {
             "outlinewidth": 0,
             "ticks": ""
            },
            "colorscale": [
             [
              0,
              "#0d0887"
             ],
             [
              0.1111111111111111,
              "#46039f"
             ],
             [
              0.2222222222222222,
              "#7201a8"
             ],
             [
              0.3333333333333333,
              "#9c179e"
             ],
             [
              0.4444444444444444,
              "#bd3786"
             ],
             [
              0.5555555555555556,
              "#d8576b"
             ],
             [
              0.6666666666666666,
              "#ed7953"
             ],
             [
              0.7777777777777778,
              "#fb9f3a"
             ],
             [
              0.8888888888888888,
              "#fdca26"
             ],
             [
              1,
              "#f0f921"
             ]
            ],
            "type": "histogram2dcontour"
           }
          ],
          "mesh3d": [
           {
            "colorbar": {
             "outlinewidth": 0,
             "ticks": ""
            },
            "type": "mesh3d"
           }
          ],
          "parcoords": [
           {
            "line": {
             "colorbar": {
              "outlinewidth": 0,
              "ticks": ""
             }
            },
            "type": "parcoords"
           }
          ],
          "pie": [
           {
            "automargin": true,
            "type": "pie"
           }
          ],
          "scatter": [
           {
            "marker": {
             "colorbar": {
              "outlinewidth": 0,
              "ticks": ""
             }
            },
            "type": "scatter"
           }
          ],
          "scatter3d": [
           {
            "line": {
             "colorbar": {
              "outlinewidth": 0,
              "ticks": ""
             }
            },
            "marker": {
             "colorbar": {
              "outlinewidth": 0,
              "ticks": ""
             }
            },
            "type": "scatter3d"
           }
          ],
          "scattercarpet": [
           {
            "marker": {
             "colorbar": {
              "outlinewidth": 0,
              "ticks": ""
             }
            },
            "type": "scattercarpet"
           }
          ],
          "scattergeo": [
           {
            "marker": {
             "colorbar": {
              "outlinewidth": 0,
              "ticks": ""
             }
            },
            "type": "scattergeo"
           }
          ],
          "scattergl": [
           {
            "marker": {
             "colorbar": {
              "outlinewidth": 0,
              "ticks": ""
             }
            },
            "type": "scattergl"
           }
          ],
          "scattermapbox": [
           {
            "marker": {
             "colorbar": {
              "outlinewidth": 0,
              "ticks": ""
             }
            },
            "type": "scattermapbox"
           }
          ],
          "scatterpolar": [
           {
            "marker": {
             "colorbar": {
              "outlinewidth": 0,
              "ticks": ""
             }
            },
            "type": "scatterpolar"
           }
          ],
          "scatterpolargl": [
           {
            "marker": {
             "colorbar": {
              "outlinewidth": 0,
              "ticks": ""
             }
            },
            "type": "scatterpolargl"
           }
          ],
          "scatterternary": [
           {
            "marker": {
             "colorbar": {
              "outlinewidth": 0,
              "ticks": ""
             }
            },
            "type": "scatterternary"
           }
          ],
          "surface": [
           {
            "colorbar": {
             "outlinewidth": 0,
             "ticks": ""
            },
            "colorscale": [
             [
              0,
              "#0d0887"
             ],
             [
              0.1111111111111111,
              "#46039f"
             ],
             [
              0.2222222222222222,
              "#7201a8"
             ],
             [
              0.3333333333333333,
              "#9c179e"
             ],
             [
              0.4444444444444444,
              "#bd3786"
             ],
             [
              0.5555555555555556,
              "#d8576b"
             ],
             [
              0.6666666666666666,
              "#ed7953"
             ],
             [
              0.7777777777777778,
              "#fb9f3a"
             ],
             [
              0.8888888888888888,
              "#fdca26"
             ],
             [
              1,
              "#f0f921"
             ]
            ],
            "type": "surface"
           }
          ],
          "table": [
           {
            "cells": {
             "fill": {
              "color": "#EBF0F8"
             },
             "line": {
              "color": "white"
             }
            },
            "header": {
             "fill": {
              "color": "#C8D4E3"
             },
             "line": {
              "color": "white"
             }
            },
            "type": "table"
           }
          ]
         },
         "layout": {
          "annotationdefaults": {
           "arrowcolor": "#2a3f5f",
           "arrowhead": 0,
           "arrowwidth": 1
          },
          "coloraxis": {
           "colorbar": {
            "outlinewidth": 0,
            "ticks": ""
           }
          },
          "colorscale": {
           "diverging": [
            [
             0,
             "#8e0152"
            ],
            [
             0.1,
             "#c51b7d"
            ],
            [
             0.2,
             "#de77ae"
            ],
            [
             0.3,
             "#f1b6da"
            ],
            [
             0.4,
             "#fde0ef"
            ],
            [
             0.5,
             "#f7f7f7"
            ],
            [
             0.6,
             "#e6f5d0"
            ],
            [
             0.7,
             "#b8e186"
            ],
            [
             0.8,
             "#7fbc41"
            ],
            [
             0.9,
             "#4d9221"
            ],
            [
             1,
             "#276419"
            ]
           ],
           "sequential": [
            [
             0,
             "#0d0887"
            ],
            [
             0.1111111111111111,
             "#46039f"
            ],
            [
             0.2222222222222222,
             "#7201a8"
            ],
            [
             0.3333333333333333,
             "#9c179e"
            ],
            [
             0.4444444444444444,
             "#bd3786"
            ],
            [
             0.5555555555555556,
             "#d8576b"
            ],
            [
             0.6666666666666666,
             "#ed7953"
            ],
            [
             0.7777777777777778,
             "#fb9f3a"
            ],
            [
             0.8888888888888888,
             "#fdca26"
            ],
            [
             1,
             "#f0f921"
            ]
           ],
           "sequentialminus": [
            [
             0,
             "#0d0887"
            ],
            [
             0.1111111111111111,
             "#46039f"
            ],
            [
             0.2222222222222222,
             "#7201a8"
            ],
            [
             0.3333333333333333,
             "#9c179e"
            ],
            [
             0.4444444444444444,
             "#bd3786"
            ],
            [
             0.5555555555555556,
             "#d8576b"
            ],
            [
             0.6666666666666666,
             "#ed7953"
            ],
            [
             0.7777777777777778,
             "#fb9f3a"
            ],
            [
             0.8888888888888888,
             "#fdca26"
            ],
            [
             1,
             "#f0f921"
            ]
           ]
          },
          "colorway": [
           "#636efa",
           "#EF553B",
           "#00cc96",
           "#ab63fa",
           "#FFA15A",
           "#19d3f3",
           "#FF6692",
           "#B6E880",
           "#FF97FF",
           "#FECB52"
          ],
          "font": {
           "color": "#2a3f5f"
          },
          "geo": {
           "bgcolor": "white",
           "lakecolor": "white",
           "landcolor": "#E5ECF6",
           "showlakes": true,
           "showland": true,
           "subunitcolor": "white"
          },
          "hoverlabel": {
           "align": "left"
          },
          "hovermode": "closest",
          "mapbox": {
           "style": "light"
          },
          "paper_bgcolor": "white",
          "plot_bgcolor": "#E5ECF6",
          "polar": {
           "angularaxis": {
            "gridcolor": "white",
            "linecolor": "white",
            "ticks": ""
           },
           "bgcolor": "#E5ECF6",
           "radialaxis": {
            "gridcolor": "white",
            "linecolor": "white",
            "ticks": ""
           }
          },
          "scene": {
           "xaxis": {
            "backgroundcolor": "#E5ECF6",
            "gridcolor": "white",
            "gridwidth": 2,
            "linecolor": "white",
            "showbackground": true,
            "ticks": "",
            "zerolinecolor": "white"
           },
           "yaxis": {
            "backgroundcolor": "#E5ECF6",
            "gridcolor": "white",
            "gridwidth": 2,
            "linecolor": "white",
            "showbackground": true,
            "ticks": "",
            "zerolinecolor": "white"
           },
           "zaxis": {
            "backgroundcolor": "#E5ECF6",
            "gridcolor": "white",
            "gridwidth": 2,
            "linecolor": "white",
            "showbackground": true,
            "ticks": "",
            "zerolinecolor": "white"
           }
          },
          "shapedefaults": {
           "line": {
            "color": "#2a3f5f"
           }
          },
          "ternary": {
           "aaxis": {
            "gridcolor": "white",
            "linecolor": "white",
            "ticks": ""
           },
           "baxis": {
            "gridcolor": "white",
            "linecolor": "white",
            "ticks": ""
           },
           "bgcolor": "#E5ECF6",
           "caxis": {
            "gridcolor": "white",
            "linecolor": "white",
            "ticks": ""
           }
          },
          "title": {
           "x": 0.05
          },
          "xaxis": {
           "automargin": true,
           "gridcolor": "white",
           "linecolor": "white",
           "ticks": "",
           "title": {
            "standoff": 15
           },
           "zerolinecolor": "white",
           "zerolinewidth": 2
          },
          "yaxis": {
           "automargin": true,
           "gridcolor": "white",
           "linecolor": "white",
           "ticks": "",
           "title": {
            "standoff": 15
           },
           "zerolinecolor": "white",
           "zerolinewidth": 2
          }
         }
        }
       }
      }
     },
     "metadata": {}
    }
   ],
   "source": [
    "gender_tab = user_df.crosstab('churn', 'gender').toPandas()\n",
    "\n",
    "churn = ['1', '0']\n",
    "\n",
    "fig = go.Figure(data=[\n",
    "    go.Bar(name='Male', x=churn, y=gender_tab['M'])\n",
    "    ,go.Bar(name='Female', x=churn, y=gender_tab['F'])\n",
    "    #,go.Bar(name='Other', x=churn, y=gender_tab['null'])\n",
    "])\n",
    "# Change the bar mode\n",
    "fig.update_layout(barmode='group')\n",
    "fig.show()"
   ]
  },
  {
   "cell_type": "markdown",
   "metadata": {},
   "source": [
    "### Subscription level"
   ]
  },
  {
   "cell_type": "code",
   "execution_count": 47,
   "metadata": {},
   "outputs": [
    {
     "output_type": "execute_result",
     "data": {
      "text/plain": "  churn_subscription_level  free  paid\n0                        1    16    36\n1                        0    44   129",
      "text/html": "<div>\n<style scoped>\n    .dataframe tbody tr th:only-of-type {\n        vertical-align: middle;\n    }\n\n    .dataframe tbody tr th {\n        vertical-align: top;\n    }\n\n    .dataframe thead th {\n        text-align: right;\n    }\n</style>\n<table border=\"1\" class=\"dataframe\">\n  <thead>\n    <tr style=\"text-align: right;\">\n      <th></th>\n      <th>churn_subscription_level</th>\n      <th>free</th>\n      <th>paid</th>\n    </tr>\n  </thead>\n  <tbody>\n    <tr>\n      <th>0</th>\n      <td>1</td>\n      <td>16</td>\n      <td>36</td>\n    </tr>\n    <tr>\n      <th>1</th>\n      <td>0</td>\n      <td>44</td>\n      <td>129</td>\n    </tr>\n  </tbody>\n</table>\n</div>"
     },
     "metadata": {},
     "execution_count": 47
    }
   ],
   "source": [
    "user_df.crosstab('churn', 'subscription_level').toPandas()\n"
   ]
  },
  {
   "cell_type": "code",
   "execution_count": 48,
   "metadata": {},
   "outputs": [
    {
     "output_type": "display_data",
     "data": {
      "application/vnd.plotly.v1+json": {
       "config": {
        "plotlyServerURL": "https://plot.ly"
       },
       "data": [
        {
         "name": "free",
         "type": "bar",
         "x": [
          "1",
          "0"
         ],
         "y": [
          16,
          44
         ]
        },
        {
         "name": "paid",
         "type": "bar",
         "x": [
          "1",
          "0"
         ],
         "y": [
          36,
          129
         ]
        }
       ],
       "layout": {
        "barmode": "group",
        "template": {
         "data": {
          "bar": [
           {
            "error_x": {
             "color": "#2a3f5f"
            },
            "error_y": {
             "color": "#2a3f5f"
            },
            "marker": {
             "line": {
              "color": "#E5ECF6",
              "width": 0.5
             }
            },
            "type": "bar"
           }
          ],
          "barpolar": [
           {
            "marker": {
             "line": {
              "color": "#E5ECF6",
              "width": 0.5
             }
            },
            "type": "barpolar"
           }
          ],
          "carpet": [
           {
            "aaxis": {
             "endlinecolor": "#2a3f5f",
             "gridcolor": "white",
             "linecolor": "white",
             "minorgridcolor": "white",
             "startlinecolor": "#2a3f5f"
            },
            "baxis": {
             "endlinecolor": "#2a3f5f",
             "gridcolor": "white",
             "linecolor": "white",
             "minorgridcolor": "white",
             "startlinecolor": "#2a3f5f"
            },
            "type": "carpet"
           }
          ],
          "choropleth": [
           {
            "colorbar": {
             "outlinewidth": 0,
             "ticks": ""
            },
            "type": "choropleth"
           }
          ],
          "contour": [
           {
            "colorbar": {
             "outlinewidth": 0,
             "ticks": ""
            },
            "colorscale": [
             [
              0,
              "#0d0887"
             ],
             [
              0.1111111111111111,
              "#46039f"
             ],
             [
              0.2222222222222222,
              "#7201a8"
             ],
             [
              0.3333333333333333,
              "#9c179e"
             ],
             [
              0.4444444444444444,
              "#bd3786"
             ],
             [
              0.5555555555555556,
              "#d8576b"
             ],
             [
              0.6666666666666666,
              "#ed7953"
             ],
             [
              0.7777777777777778,
              "#fb9f3a"
             ],
             [
              0.8888888888888888,
              "#fdca26"
             ],
             [
              1,
              "#f0f921"
             ]
            ],
            "type": "contour"
           }
          ],
          "contourcarpet": [
           {
            "colorbar": {
             "outlinewidth": 0,
             "ticks": ""
            },
            "type": "contourcarpet"
           }
          ],
          "heatmap": [
           {
            "colorbar": {
             "outlinewidth": 0,
             "ticks": ""
            },
            "colorscale": [
             [
              0,
              "#0d0887"
             ],
             [
              0.1111111111111111,
              "#46039f"
             ],
             [
              0.2222222222222222,
              "#7201a8"
             ],
             [
              0.3333333333333333,
              "#9c179e"
             ],
             [
              0.4444444444444444,
              "#bd3786"
             ],
             [
              0.5555555555555556,
              "#d8576b"
             ],
             [
              0.6666666666666666,
              "#ed7953"
             ],
             [
              0.7777777777777778,
              "#fb9f3a"
             ],
             [
              0.8888888888888888,
              "#fdca26"
             ],
             [
              1,
              "#f0f921"
             ]
            ],
            "type": "heatmap"
           }
          ],
          "heatmapgl": [
           {
            "colorbar": {
             "outlinewidth": 0,
             "ticks": ""
            },
            "colorscale": [
             [
              0,
              "#0d0887"
             ],
             [
              0.1111111111111111,
              "#46039f"
             ],
             [
              0.2222222222222222,
              "#7201a8"
             ],
             [
              0.3333333333333333,
              "#9c179e"
             ],
             [
              0.4444444444444444,
              "#bd3786"
             ],
             [
              0.5555555555555556,
              "#d8576b"
             ],
             [
              0.6666666666666666,
              "#ed7953"
             ],
             [
              0.7777777777777778,
              "#fb9f3a"
             ],
             [
              0.8888888888888888,
              "#fdca26"
             ],
             [
              1,
              "#f0f921"
             ]
            ],
            "type": "heatmapgl"
           }
          ],
          "histogram": [
           {
            "marker": {
             "colorbar": {
              "outlinewidth": 0,
              "ticks": ""
             }
            },
            "type": "histogram"
           }
          ],
          "histogram2d": [
           {
            "colorbar": {
             "outlinewidth": 0,
             "ticks": ""
            },
            "colorscale": [
             [
              0,
              "#0d0887"
             ],
             [
              0.1111111111111111,
              "#46039f"
             ],
             [
              0.2222222222222222,
              "#7201a8"
             ],
             [
              0.3333333333333333,
              "#9c179e"
             ],
             [
              0.4444444444444444,
              "#bd3786"
             ],
             [
              0.5555555555555556,
              "#d8576b"
             ],
             [
              0.6666666666666666,
              "#ed7953"
             ],
             [
              0.7777777777777778,
              "#fb9f3a"
             ],
             [
              0.8888888888888888,
              "#fdca26"
             ],
             [
              1,
              "#f0f921"
             ]
            ],
            "type": "histogram2d"
           }
          ],
          "histogram2dcontour": [
           {
            "colorbar": {
             "outlinewidth": 0,
             "ticks": ""
            },
            "colorscale": [
             [
              0,
              "#0d0887"
             ],
             [
              0.1111111111111111,
              "#46039f"
             ],
             [
              0.2222222222222222,
              "#7201a8"
             ],
             [
              0.3333333333333333,
              "#9c179e"
             ],
             [
              0.4444444444444444,
              "#bd3786"
             ],
             [
              0.5555555555555556,
              "#d8576b"
             ],
             [
              0.6666666666666666,
              "#ed7953"
             ],
             [
              0.7777777777777778,
              "#fb9f3a"
             ],
             [
              0.8888888888888888,
              "#fdca26"
             ],
             [
              1,
              "#f0f921"
             ]
            ],
            "type": "histogram2dcontour"
           }
          ],
          "mesh3d": [
           {
            "colorbar": {
             "outlinewidth": 0,
             "ticks": ""
            },
            "type": "mesh3d"
           }
          ],
          "parcoords": [
           {
            "line": {
             "colorbar": {
              "outlinewidth": 0,
              "ticks": ""
             }
            },
            "type": "parcoords"
           }
          ],
          "pie": [
           {
            "automargin": true,
            "type": "pie"
           }
          ],
          "scatter": [
           {
            "marker": {
             "colorbar": {
              "outlinewidth": 0,
              "ticks": ""
             }
            },
            "type": "scatter"
           }
          ],
          "scatter3d": [
           {
            "line": {
             "colorbar": {
              "outlinewidth": 0,
              "ticks": ""
             }
            },
            "marker": {
             "colorbar": {
              "outlinewidth": 0,
              "ticks": ""
             }
            },
            "type": "scatter3d"
           }
          ],
          "scattercarpet": [
           {
            "marker": {
             "colorbar": {
              "outlinewidth": 0,
              "ticks": ""
             }
            },
            "type": "scattercarpet"
           }
          ],
          "scattergeo": [
           {
            "marker": {
             "colorbar": {
              "outlinewidth": 0,
              "ticks": ""
             }
            },
            "type": "scattergeo"
           }
          ],
          "scattergl": [
           {
            "marker": {
             "colorbar": {
              "outlinewidth": 0,
              "ticks": ""
             }
            },
            "type": "scattergl"
           }
          ],
          "scattermapbox": [
           {
            "marker": {
             "colorbar": {
              "outlinewidth": 0,
              "ticks": ""
             }
            },
            "type": "scattermapbox"
           }
          ],
          "scatterpolar": [
           {
            "marker": {
             "colorbar": {
              "outlinewidth": 0,
              "ticks": ""
             }
            },
            "type": "scatterpolar"
           }
          ],
          "scatterpolargl": [
           {
            "marker": {
             "colorbar": {
              "outlinewidth": 0,
              "ticks": ""
             }
            },
            "type": "scatterpolargl"
           }
          ],
          "scatterternary": [
           {
            "marker": {
             "colorbar": {
              "outlinewidth": 0,
              "ticks": ""
             }
            },
            "type": "scatterternary"
           }
          ],
          "surface": [
           {
            "colorbar": {
             "outlinewidth": 0,
             "ticks": ""
            },
            "colorscale": [
             [
              0,
              "#0d0887"
             ],
             [
              0.1111111111111111,
              "#46039f"
             ],
             [
              0.2222222222222222,
              "#7201a8"
             ],
             [
              0.3333333333333333,
              "#9c179e"
             ],
             [
              0.4444444444444444,
              "#bd3786"
             ],
             [
              0.5555555555555556,
              "#d8576b"
             ],
             [
              0.6666666666666666,
              "#ed7953"
             ],
             [
              0.7777777777777778,
              "#fb9f3a"
             ],
             [
              0.8888888888888888,
              "#fdca26"
             ],
             [
              1,
              "#f0f921"
             ]
            ],
            "type": "surface"
           }
          ],
          "table": [
           {
            "cells": {
             "fill": {
              "color": "#EBF0F8"
             },
             "line": {
              "color": "white"
             }
            },
            "header": {
             "fill": {
              "color": "#C8D4E3"
             },
             "line": {
              "color": "white"
             }
            },
            "type": "table"
           }
          ]
         },
         "layout": {
          "annotationdefaults": {
           "arrowcolor": "#2a3f5f",
           "arrowhead": 0,
           "arrowwidth": 1
          },
          "coloraxis": {
           "colorbar": {
            "outlinewidth": 0,
            "ticks": ""
           }
          },
          "colorscale": {
           "diverging": [
            [
             0,
             "#8e0152"
            ],
            [
             0.1,
             "#c51b7d"
            ],
            [
             0.2,
             "#de77ae"
            ],
            [
             0.3,
             "#f1b6da"
            ],
            [
             0.4,
             "#fde0ef"
            ],
            [
             0.5,
             "#f7f7f7"
            ],
            [
             0.6,
             "#e6f5d0"
            ],
            [
             0.7,
             "#b8e186"
            ],
            [
             0.8,
             "#7fbc41"
            ],
            [
             0.9,
             "#4d9221"
            ],
            [
             1,
             "#276419"
            ]
           ],
           "sequential": [
            [
             0,
             "#0d0887"
            ],
            [
             0.1111111111111111,
             "#46039f"
            ],
            [
             0.2222222222222222,
             "#7201a8"
            ],
            [
             0.3333333333333333,
             "#9c179e"
            ],
            [
             0.4444444444444444,
             "#bd3786"
            ],
            [
             0.5555555555555556,
             "#d8576b"
            ],
            [
             0.6666666666666666,
             "#ed7953"
            ],
            [
             0.7777777777777778,
             "#fb9f3a"
            ],
            [
             0.8888888888888888,
             "#fdca26"
            ],
            [
             1,
             "#f0f921"
            ]
           ],
           "sequentialminus": [
            [
             0,
             "#0d0887"
            ],
            [
             0.1111111111111111,
             "#46039f"
            ],
            [
             0.2222222222222222,
             "#7201a8"
            ],
            [
             0.3333333333333333,
             "#9c179e"
            ],
            [
             0.4444444444444444,
             "#bd3786"
            ],
            [
             0.5555555555555556,
             "#d8576b"
            ],
            [
             0.6666666666666666,
             "#ed7953"
            ],
            [
             0.7777777777777778,
             "#fb9f3a"
            ],
            [
             0.8888888888888888,
             "#fdca26"
            ],
            [
             1,
             "#f0f921"
            ]
           ]
          },
          "colorway": [
           "#636efa",
           "#EF553B",
           "#00cc96",
           "#ab63fa",
           "#FFA15A",
           "#19d3f3",
           "#FF6692",
           "#B6E880",
           "#FF97FF",
           "#FECB52"
          ],
          "font": {
           "color": "#2a3f5f"
          },
          "geo": {
           "bgcolor": "white",
           "lakecolor": "white",
           "landcolor": "#E5ECF6",
           "showlakes": true,
           "showland": true,
           "subunitcolor": "white"
          },
          "hoverlabel": {
           "align": "left"
          },
          "hovermode": "closest",
          "mapbox": {
           "style": "light"
          },
          "paper_bgcolor": "white",
          "plot_bgcolor": "#E5ECF6",
          "polar": {
           "angularaxis": {
            "gridcolor": "white",
            "linecolor": "white",
            "ticks": ""
           },
           "bgcolor": "#E5ECF6",
           "radialaxis": {
            "gridcolor": "white",
            "linecolor": "white",
            "ticks": ""
           }
          },
          "scene": {
           "xaxis": {
            "backgroundcolor": "#E5ECF6",
            "gridcolor": "white",
            "gridwidth": 2,
            "linecolor": "white",
            "showbackground": true,
            "ticks": "",
            "zerolinecolor": "white"
           },
           "yaxis": {
            "backgroundcolor": "#E5ECF6",
            "gridcolor": "white",
            "gridwidth": 2,
            "linecolor": "white",
            "showbackground": true,
            "ticks": "",
            "zerolinecolor": "white"
           },
           "zaxis": {
            "backgroundcolor": "#E5ECF6",
            "gridcolor": "white",
            "gridwidth": 2,
            "linecolor": "white",
            "showbackground": true,
            "ticks": "",
            "zerolinecolor": "white"
           }
          },
          "shapedefaults": {
           "line": {
            "color": "#2a3f5f"
           }
          },
          "ternary": {
           "aaxis": {
            "gridcolor": "white",
            "linecolor": "white",
            "ticks": ""
           },
           "baxis": {
            "gridcolor": "white",
            "linecolor": "white",
            "ticks": ""
           },
           "bgcolor": "#E5ECF6",
           "caxis": {
            "gridcolor": "white",
            "linecolor": "white",
            "ticks": ""
           }
          },
          "title": {
           "x": 0.05
          },
          "xaxis": {
           "automargin": true,
           "gridcolor": "white",
           "linecolor": "white",
           "ticks": "",
           "title": {
            "standoff": 15
           },
           "zerolinecolor": "white",
           "zerolinewidth": 2
          },
          "yaxis": {
           "automargin": true,
           "gridcolor": "white",
           "linecolor": "white",
           "ticks": "",
           "title": {
            "standoff": 15
           },
           "zerolinecolor": "white",
           "zerolinewidth": 2
          }
         }
        }
       }
      }
     },
     "metadata": {}
    }
   ],
   "source": [
    "subscription_level_tab = user_df.crosstab('churn', 'subscription_level').toPandas()\n",
    "\n",
    "churn = ['1', '0']\n",
    "\n",
    "fig = go.Figure(data=[\n",
    "    go.Bar(name='free', x=churn, y=subscription_level_tab['free']),\n",
    "    go.Bar(name='paid', x=churn, y=subscription_level_tab['paid']),\n",
    "])\n",
    "# Change the bar mode\n",
    "fig.update_layout(barmode='group')\n",
    "fig.show()"
   ]
  },
  {
   "cell_type": "markdown",
   "metadata": {},
   "source": [
    "* appears a larger proportion of free churned vs non churned users (0)"
   ]
  },
  {
   "cell_type": "markdown",
   "metadata": {},
   "source": [
    "# Feature Engineering\n",
    "Once you've familiarized yourself with the data, build out the features you find promising to train your model on. To work with the full dataset, you can follow the following steps.\n",
    "- Write a script to extract the necessary features from the smaller subset of data\n",
    "- Ensure that your script is scalable, using the best practices discussed in Lesson 3\n",
    "- Try your script on the full data set, debugging your script if necessary\n",
    "\n",
    "If you are working in the classroom workspace, you can just extract features based on the small subset of data contained here. Be sure to transfer over this work to the larger dataset when you work on your Spark cluster."
   ]
  },
  {
   "cell_type": "markdown",
   "metadata": {},
   "source": [
    "## Correlation Analysis"
   ]
  },
  {
   "cell_type": "markdown",
   "metadata": {},
   "source": [
    "* Are any of the current variables highly correlated?"
   ]
  },
  {
   "cell_type": "code",
   "execution_count": 46,
   "metadata": {},
   "outputs": [
    {
     "output_type": "stream",
     "name": "stdout",
     "text": "Pearson correlation matrix:\nDenseMatrix([[1.        , 0.05564149,        nan, 0.40047142],\n             [0.05564149, 1.        ,        nan, 0.91359586],\n             [       nan,        nan, 1.        ,        nan],\n             [0.40047142, 0.91359586,        nan, 1.        ]])\nSpearman correlation matrix:\nDenseMatrix([[1.        , 0.10540926,        nan, 0.4       ],\n             [0.10540926, 1.        ,        nan, 0.9486833 ],\n             [       nan,        nan, 1.        ,        nan],\n             [0.4       , 0.9486833 ,        nan, 1.        ]])\n"
    }
   ],
   "source": [
    "# toy example\n",
    "from pyspark.ml.linalg import Vectors\n",
    "from pyspark.ml.stat import Correlation\n",
    "\n",
    "data = [(Vectors.sparse(4, [(0, 1.0), (3, -2.0)]),),\n",
    "        (Vectors.dense([4.0, 5.0, 0.0, 3.0]),),\n",
    "        (Vectors.dense([6.0, 7.0, 0.0, 8.0]),),\n",
    "        (Vectors.sparse(4, [(0, 9.0), (3, 1.0)]),)]\n",
    "df = spark.createDataFrame(data, [\"features\"])\n",
    "\n",
    "r1 = Correlation.corr(df, \"features\").head()\n",
    "print(\"Pearson correlation matrix:\\n\" + str(r1[0]))\n",
    "\n",
    "r2 = Correlation.corr(df, \"features\", \"spearman\").head()\n",
    "print(\"Spearman correlation matrix:\\n\" + str(r2[0]))"
   ]
  },
  {
   "cell_type": "code",
   "execution_count": 46,
   "metadata": {},
   "outputs": [
    {
     "output_type": "execute_result",
     "data": {
      "text/plain": "Row(features=SparseVector(4, {0: 1.0, 3: -2.0}))"
     },
     "metadata": {},
     "execution_count": 46
    }
   ],
   "source": [
    "df.head()"
   ]
  },
  {
   "cell_type": "markdown",
   "metadata": {},
   "source": [
    "## Convert categorical variables to stringIndex"
   ]
  },
  {
   "cell_type": "markdown",
   "metadata": {},
   "source": [
    "* Need to do this on a list of categorical variables later in a pipeline"
   ]
  },
  {
   "cell_type": "code",
   "execution_count": 49,
   "metadata": {},
   "outputs": [
    {
     "output_type": "stream",
     "name": "stdout",
     "text": "root\n |-- userId: string (nullable = true)\n |-- churn: string (nullable = true)\n |-- gender: string (nullable = true)\n |-- subscription_level: string (nullable = true)\n |-- page_upgraded: integer (nullable = true)\n |-- page_downgraded: integer (nullable = true)\n |-- auth_logged_in_cnt: long (nullable = false)\n |-- auth_logged_out_cnt: long (nullable = false)\n |-- auth_guest_cnt: long (nullable = false)\n |-- status_404_cnt: long (nullable = false)\n |-- status_307_cnt: long (nullable = false)\n |-- page_next_song_cnt: long (nullable = false)\n |-- page_thumbs_up_cnt: long (nullable = false)\n |-- page_thumbs_down_cnt: long (nullable = false)\n |-- page_playlist_cnt: long (nullable = false)\n |-- page_friend_cnt: long (nullable = false)\n |-- page_roll_ad_cnt: long (nullable = false)\n |-- page_logout_cnt: long (nullable = false)\n |-- page_help_cnt: long (nullable = false)\n |-- artist_cnt: long (nullable = false)\n |-- song_cnt: long (nullable = false)\n |-- session_cnt: long (nullable = false)\n\n"
    }
   ],
   "source": [
    "user_df.printSchema()"
   ]
  },
  {
   "cell_type": "code",
   "execution_count": 50,
   "metadata": {},
   "outputs": [
    {
     "output_type": "stream",
     "name": "stdout",
     "text": "+------+-----+\n|gender|count|\n+------+-----+\n|     F|  104|\n|     M|  121|\n+------+-----+\n\n"
    }
   ],
   "source": [
    "user_df.groupBy(\"gender\").count().show() # Only 1 null so dropped it"
   ]
  },
  {
   "cell_type": "code",
   "execution_count": 51,
   "metadata": {},
   "outputs": [
    {
     "output_type": "stream",
     "name": "stdout",
     "text": "+------------------+-----+\n|subscription_level|count|\n+------------------+-----+\n|              free|   60|\n|              paid|  165|\n+------------------+-----+\n\n"
    }
   ],
   "source": [
    "user_df.groupBy(\"subscription_level\").count().show()"
   ]
  },
  {
   "cell_type": "markdown",
   "metadata": {},
   "source": [
    "* need to do it one categorical variable at a time for now"
   ]
  },
  {
   "cell_type": "code",
   "execution_count": 52,
   "metadata": {},
   "outputs": [
    {
     "output_type": "stream",
     "name": "stdout",
     "text": "+------+------------+\n|gender|gender_Index|\n+------+------------+\n|     F|         1.0|\n|     M|         0.0|\n|     M|         0.0|\n|     F|         1.0|\n|     M|         0.0|\n+------+------------+\nonly showing top 5 rows\n\n"
    }
   ],
   "source": [
    "indexer = StringIndexer(inputCol=\"gender\", outputCol=\"gender_Index\")\n",
    "model_df = indexer.fit(user_df).transform(user_df)\n",
    "model_df.select([\"gender\",\"gender_Index\"]).show(5)"
   ]
  },
  {
   "cell_type": "code",
   "execution_count": 53,
   "metadata": {},
   "outputs": [
    {
     "output_type": "stream",
     "name": "stdout",
     "text": "+------------------+------------------------+\n|subscription_level|subscription_level_Index|\n+------------------+------------------------+\n|              free|                     1.0|\n|              paid|                     0.0|\n|              free|                     1.0|\n|              paid|                     0.0|\n|              paid|                     0.0|\n+------------------+------------------------+\nonly showing top 5 rows\n\n"
    }
   ],
   "source": [
    "indexer = StringIndexer(inputCol=\"subscription_level\", outputCol=\"subscription_level_Index\")\n",
    "model_df = indexer.fit(model_df).transform(model_df)\n",
    "model_df.select([\"subscription_level\",\"subscription_level_Index\"]).show(5)"
   ]
  },
  {
   "cell_type": "markdown",
   "metadata": {},
   "source": [
    "## One hot code categorical features"
   ]
  },
  {
   "cell_type": "code",
   "execution_count": 54,
   "metadata": {},
   "outputs": [
    {
     "output_type": "stream",
     "name": "stdout",
     "text": "+------+------------+-------------+------------------+------------------------+----------------------+\n|gender|gender_Index|   gender_Vec|subscription_level|subscription_level_Index|subscription_level_Vec|\n+------+------------+-------------+------------------+------------------------+----------------------+\n|     F|         1.0|    (1,[],[])|              free|                     1.0|             (1,[],[])|\n|     M|         0.0|(1,[0],[1.0])|              paid|                     0.0|         (1,[0],[1.0])|\n|     M|         0.0|(1,[0],[1.0])|              free|                     1.0|             (1,[],[])|\n|     F|         1.0|    (1,[],[])|              paid|                     0.0|         (1,[0],[1.0])|\n|     M|         0.0|(1,[0],[1.0])|              paid|                     0.0|         (1,[0],[1.0])|\n+------+------------+-------------+------------------+------------------------+----------------------+\nonly showing top 5 rows\n\n"
    }
   ],
   "source": [
    "encoder = OneHotEncoderEstimator(inputCols=[\"gender_Index\", \"subscription_level_Index\"],\n",
    "                                 outputCols=[\"gender_Vec\", \"subscription_level_Vec\"])\n",
    "model_df = encoder.fit(model_df).transform(model_df)\n",
    "model_df.select([\"gender\",\"gender_Index\",\"gender_Vec\",\"subscription_level\",\"subscription_level_Index\",\"subscription_level_Vec\"]).show(5)"
   ]
  },
  {
   "cell_type": "markdown",
   "metadata": {},
   "source": [
    "## Create numeric features"
   ]
  },
  {
   "cell_type": "code",
   "execution_count": 55,
   "metadata": {},
   "outputs": [
    {
     "output_type": "stream",
     "name": "stdout",
     "text": "['userId', 'churn', 'gender', 'subscription_level', 'page_upgraded', 'page_downgraded', 'auth_logged_in_cnt', 'auth_logged_out_cnt', 'auth_guest_cnt', 'status_404_cnt', 'status_307_cnt', 'page_next_song_cnt', 'page_thumbs_up_cnt', 'page_thumbs_down_cnt', 'page_playlist_cnt', 'page_friend_cnt', 'page_roll_ad_cnt', 'page_logout_cnt', 'page_help_cnt', 'artist_cnt', 'song_cnt', 'session_cnt', 'gender_Index', 'subscription_level_Index', 'gender_Vec', 'subscription_level_Vec']\n"
    }
   ],
   "source": [
    "print(model_df.columns)"
   ]
  },
  {
   "cell_type": "code",
   "execution_count": 56,
   "metadata": {},
   "outputs": [],
   "source": [
    "numeric_columns = ['auth_logged_in_cnt', 'auth_guest_cnt', 'status_404_cnt', 'page_next_song_cnt']"
   ]
  },
  {
   "cell_type": "code",
   "execution_count": 57,
   "metadata": {},
   "outputs": [
    {
     "output_type": "stream",
     "name": "stdout",
     "text": "+--------------------+-----+\n|NumericFeatures     |churn|\n+--------------------+-----+\n|(4,[0],[381.0])     |0    |\n|(4,[0],[474.0])     |0    |\n|(4,[0],[10.0])      |1    |\n|[4825.0,0.0,6.0,0.0]|0    |\n|[2463.0,0.0,1.0,0.0]|1    |\n|[201.0,0.0,1.0,0.0] |0    |\n|[2278.0,0.0,2.0,0.0]|0    |\n|[3436.0,0.0,1.0,0.0]|1    |\n|[1002.0,0.0,3.0,0.0]|0    |\n|(4,[0],[309.0])     |1    |\n|[2304.0,0.0,3.0,0.0]|0    |\n|(4,[0],[118.0])     |0    |\n|[2148.0,0.0,3.0,0.0]|1    |\n|[848.0,0.0,1.0,0.0] |0    |\n|[2469.0,0.0,1.0,0.0]|0    |\n|[4428.0,0.0,5.0,0.0]|0    |\n|[318.0,0.0,2.0,0.0] |1    |\n|(4,[0],[3602.0])    |1    |\n|[1342.0,0.0,4.0,0.0]|0    |\n|(4,[0],[292.0])     |0    |\n+--------------------+-----+\nonly showing top 20 rows\n\n"
    }
   ],
   "source": [
    "assembler = VectorAssembler(inputCols=numeric_columns, outputCol=\"NumericFeatures\")\n",
    "model_df = assembler.transform(model_df)\n",
    "model_df.head()\n",
    "model_df.select(\"NumericFeatures\", \"churn\").show(truncate=False)"
   ]
  },
  {
   "cell_type": "code",
   "execution_count": 58,
   "metadata": {},
   "outputs": [
    {
     "output_type": "stream",
     "name": "stdout",
     "text": "Pearson correlation matrix:\nDenseMatrix([[1.        ,        nan, 0.70411426,        nan],\n             [       nan, 1.        ,        nan,        nan],\n             [0.70411426,        nan, 1.        ,        nan],\n             [       nan,        nan,        nan, 1.        ]])\n"
    }
   ],
   "source": [
    "from pyspark.ml.stat import Correlation\n",
    "r1 = Correlation.corr(model_df, \"NumericFeatures\").head()\n",
    "print(\"Pearson correlation matrix:\\n\" + str(r1[0]))"
   ]
  },
  {
   "cell_type": "markdown",
   "metadata": {},
   "source": [
    "## Normalize the numeric features"
   ]
  },
  {
   "cell_type": "code",
   "execution_count": 59,
   "metadata": {},
   "outputs": [
    {
     "output_type": "execute_result",
     "data": {
      "text/plain": "[Row(userId='100010', churn='0', gender='F', subscription_level='free', page_upgraded=1, page_downgraded=0, auth_logged_in_cnt=381, auth_logged_out_cnt=0, auth_guest_cnt=0, status_404_cnt=0, status_307_cnt=31, page_next_song_cnt=0, page_thumbs_up_cnt=17, page_thumbs_down_cnt=5, page_playlist_cnt=7, page_friend_cnt=4, page_roll_ad_cnt=52, page_logout_cnt=5, page_help_cnt=2, artist_cnt=252, song_cnt=269, session_cnt=7, gender_Index=1.0, subscription_level_Index=1.0, gender_Vec=SparseVector(1, {}), subscription_level_Vec=SparseVector(1, {}), NumericFeatures=SparseVector(4, {0: 381.0}), ScaledNumericFeatures=SparseVector(4, {0: 1.0})),\n Row(userId='200002', churn='0', gender='M', subscription_level='paid', page_upgraded=1, page_downgraded=1, auth_logged_in_cnt=474, auth_logged_out_cnt=0, auth_guest_cnt=0, status_404_cnt=0, status_307_cnt=37, page_next_song_cnt=0, page_thumbs_up_cnt=21, page_thumbs_down_cnt=6, page_playlist_cnt=8, page_friend_cnt=4, page_roll_ad_cnt=7, page_logout_cnt=5, page_help_cnt=2, artist_cnt=339, song_cnt=378, session_cnt=6, gender_Index=0.0, subscription_level_Index=0.0, gender_Vec=SparseVector(1, {0: 1.0}), subscription_level_Vec=SparseVector(1, {0: 1.0}), NumericFeatures=SparseVector(4, {0: 474.0}), ScaledNumericFeatures=SparseVector(4, {0: 1.0}))]"
     },
     "metadata": {},
     "execution_count": 59
    }
   ],
   "source": [
    "scaler = Normalizer(inputCol=\"NumericFeatures\", outputCol=\"ScaledNumericFeatures\")\n",
    "model_df = scaler.transform(model_df)\n",
    "model_df.head(2)"
   ]
  },
  {
   "cell_type": "code",
   "execution_count": 60,
   "metadata": {},
   "outputs": [
    {
     "output_type": "stream",
     "name": "stdout",
     "text": "+---------------------+-----+\n|ScaledNumericFeatures|churn|\n+---------------------+-----+\n|        (4,[0],[1.0])|    0|\n|        (4,[0],[1.0])|    0|\n|        (4,[0],[1.0])|    1|\n| [0.99999922682577...|    0|\n| [0.99999991757838...|    1|\n| [0.99998762429845...|    0|\n| [0.99999961459059...|    0|\n| [0.99999995764900...|    1|\n| [0.99999551797627...|    0|\n|        (4,[0],[1.0])|    1|\n| [0.99999915229057...|    0|\n|        (4,[0],[1.0])|    0|\n| [0.99999902468854...|    1|\n| [0.99999930469100...|    0|\n| [0.99999991797848...|    0|\n| [0.99999936247917...|    0|\n| [0.99998022288804...|    1|\n|        (4,[0],[1.0])|    1|\n| [0.99999555796412...|    0|\n|        (4,[0],[1.0])|    0|\n+---------------------+-----+\nonly showing top 20 rows\n\n"
    }
   ],
   "source": [
    "model_df.select(\"ScaledNumericFeatures\", \"churn\").show()"
   ]
  },
  {
   "cell_type": "markdown",
   "metadata": {},
   "source": [
    "* Combine the categorical variables from earlier.."
   ]
  },
  {
   "cell_type": "code",
   "execution_count": 61,
   "metadata": {},
   "outputs": [],
   "source": [
    "numeric_columns = ['auth_logged_in_cnt', 'auth_guest_cnt', 'status_404_cnt', 'page_next_song_cnt']\n",
    "categorical = ['gender_Vec','subscription_level_Vec'] # TO DO: can convert to a for loop or anonymous function\n",
    "all_columns = ['ScaledNumericFeatures'] + categorical"
   ]
  },
  {
   "cell_type": "code",
   "execution_count": 62,
   "metadata": {},
   "outputs": [
    {
     "output_type": "stream",
     "name": "stdout",
     "text": "+----------------------------------------------------------+-----+\n|AllFeatures                                               |churn|\n+----------------------------------------------------------+-----+\n|(6,[0],[1.0])                                             |0    |\n|[1.0,0.0,0.0,0.0,1.0,1.0]                                 |0    |\n|(6,[0,4],[1.0,1.0])                                       |1    |\n|[0.9999992268257778,0.0,0.0012435223546020035,0.0,0.0,1.0]|0    |\n|[0.9999999175783836,0.0,4.0600889873259585E-4,0.0,1.0,1.0]|1    |\n|[0.999987624298452,0.0,0.004975062807454985,0.0,1.0,0.0]  |0    |\n|[0.9999996145905978,0.0,8.779627871734835E-4,0.0,1.0,1.0] |0    |\n|[0.9999999576490003,0.0,2.910360761493016E-4,0.0,0.0,1.0] |1    |\n|[0.9999955179762766,0.0,0.0029939985568151993,0.0,0.0,1.0]|0    |\n|[1.0,0.0,0.0,0.0,1.0,1.0]                                 |1    |\n|[0.9999991522905743,0.0,0.0013020822295450186,0.0,0.0,1.0]|0    |\n|(6,[0],[1.0])                                             |0    |\n|[0.9999990246885464,0.0,0.0013966466825259029,0.0,1.0,1.0]|1    |\n|[0.9999993046910064,0.0,0.001179244463079017,0.0,0.0,1.0] |0    |\n|[0.999999917978488,0.0,4.0502224300465286E-4,0.0,1.0,1.0] |0    |\n|[0.9999993624791789,0.0,0.0011291772385717918,0.0,0.0,1.0]|0    |\n|[0.9999802228880498,0.0,0.006289183791748741,0.0,1.0,0.0] |1    |\n|[1.0,0.0,0.0,0.0,1.0,1.0]                                 |1    |\n|[0.9999955579641261,0.0,0.0029806126913982894,0.0,0.0,1.0]|0    |\n|(6,[0,4],[1.0,1.0])                                       |0    |\n+----------------------------------------------------------+-----+\nonly showing top 20 rows\n\n"
    }
   ],
   "source": [
    "assembler = VectorAssembler(inputCols=all_columns, outputCol=\"AllFeatures\")\n",
    "model_df = assembler.transform(model_df)\n",
    "model_df.select(\"AllFeatures\", \"churn\").show(truncate=False)"
   ]
  },
  {
   "cell_type": "markdown",
   "metadata": {},
   "source": [
    "## Pipeline"
   ]
  },
  {
   "cell_type": "markdown",
   "metadata": {},
   "source": [
    "* Put it all together in a clean pipeline"
   ]
  },
  {
   "cell_type": "code",
   "execution_count": 63,
   "metadata": {},
   "outputs": [
    {
     "output_type": "stream",
     "name": "stdout",
     "text": "['ScaledNumericFeatures', 'gender_Vec', 'subscription_level_Vec']\n"
    }
   ],
   "source": [
    "numeric_columns = ['auth_logged_in_cnt', 'auth_guest_cnt', 'status_404_cnt', 'page_next_song_cnt']\n",
    "categorical = ['gender_Vec','subscription_level_Vec'] # TO DO: can convert to a for loop or anonymous function\n",
    "all_columns = ['ScaledNumericFeatures'] + categorical\n",
    "print(all_columns)"
   ]
  },
  {
   "cell_type": "code",
   "execution_count": 80,
   "metadata": {},
   "outputs": [],
   "source": [
    "assembler_numeric = VectorAssembler(inputCols=numeric_columns, outputCol=\"NumericFeatures\")\n",
    "scaler = Normalizer(inputCol=\"NumericFeatures\", outputCol=\"ScaledNumericFeatures\")\n",
    "# Maybe this can be done in parallel like in sci-kit learn?\n",
    "indexer_gender = StringIndexer(inputCol=\"gender\", outputCol=\"gender_Index\")\n",
    "indexer_subscription_level = StringIndexer(inputCol=\"subscription_level\", outputCol=\"subscription_level_Index\")\n",
    "encoder_onehot = OneHotEncoderEstimator(inputCols=[\"gender_Index\", \"subscription_level_Index\"],\n",
    "                                 outputCols=[\"gender_Vec\", \"subscription_level_Vec\"])\n",
    "assembler_all = VectorAssembler(inputCols=all_columns, outputCol=\"features\") # churn already specified as label\n",
    "indexer_churn = StringIndexer(inputCol=\"churn\", outputCol=\"label\") #cast from string to numeric and must be named label - could be problematic\n",
    "lr = LogisticRegression(maxIter=10)"
   ]
  },
  {
   "cell_type": "code",
   "execution_count": 81,
   "metadata": {},
   "outputs": [
    {
     "output_type": "execute_result",
     "data": {
      "text/plain": "Pipeline_92ab41fc1de6"
     },
     "metadata": {},
     "execution_count": 81
    }
   ],
   "source": [
    "pipeline = Pipeline(stages=[assembler_numeric, scaler, indexer_gender, indexer_subscription_level, encoder_onehot, assembler_all,indexer_churn, lr])\n",
    "pipeline"
   ]
  },
  {
   "cell_type": "code",
   "execution_count": 82,
   "metadata": {},
   "outputs": [
    {
     "output_type": "execute_result",
     "data": {
      "text/plain": "PipelineModel_f5845642d633"
     },
     "metadata": {},
     "execution_count": 82
    }
   ],
   "source": [
    "model = pipeline.fit(user_df)\n",
    "model"
   ]
  },
  {
   "cell_type": "markdown",
   "metadata": {},
   "source": [
    "* Took a few mins"
   ]
  },
  {
   "cell_type": "markdown",
   "metadata": {},
   "source": [
    "* Predict on same dataset for now"
   ]
  },
  {
   "cell_type": "code",
   "execution_count": 83,
   "metadata": {
    "tags": [
     "outputPrepend"
    ]
   },
   "outputs": [
    {
     "output_type": "stream",
     "name": "stdout",
     "text": "937713]\nfeatures=[0.9999983531056722,0.0,0.0018148790437489512,0.0,1.0,1.0], label=1.0 -> prob=[0.7688878651751514,0.23111213482484866], prediction=[1.2020421149750797,-1.2020421149750797]\nfeatures=(6,[0,5],[1.0,1.0]), label=0.0 -> prob=[0.768887865186432,0.23111213481356788], prediction=[1.2020421150385618,-1.2020421150385618]\nfeatures=[0.9999998985472113,0.0,0.00045045040475099604,0.0,0.0,1.0], label=0.0 -> prob=[0.7688878651894245,0.23111213481057555], prediction=[1.2020421150554015,-1.2020421150554015]\nfeatures=[0.9999877465246075,0.0,0.004950434388735681,0.0,1.0,0.0], label=0.0 -> prob=[0.7688878651895832,0.2311121348104168], prediction=[1.2020421150562948,-1.2020421150562948]\nfeatures=[0.9999979090149682,0.0,0.0020449854990081152,0.0,1.0,1.0], label=0.0 -> prob=[0.7688878651770815,0.2311121348229184], prediction=[1.202042114985942,-1.202042114985942]\nfeatures=[0.9999988883813183,0.0,0.0014910520204492817,0.0,0.0,1.0], label=0.0 -> prob=[0.7688878651971315,0.23111213480286852], prediction=[1.2020421150987726,-1.2020421150987726]\nfeatures=[0.9999970968336616,0.0,0.002409631558635329,0.0,0.0,1.0], label=0.0 -> prob=[0.768887865204856,0.23111213479514403], prediction=[1.202042115142242,-1.202042115142242]\nfeatures=[0.9999987716338314,0.0,0.001567396193783435,0.0,1.0,1.0], label=0.0 -> prob=[0.7688878651731359,0.2311121348268641], prediction=[1.202042114963738,-1.202042114963738]\nfeatures=(6,[0],[1.0]), label=1.0 -> prob=[0.7688878651698989,0.23111213483010104], prediction=[1.2020421149455218,-1.2020421149455218]\nfeatures=[1.0,0.0,0.0,0.0,1.0,1.0], label=0.0 -> prob=[0.7688878651618274,0.23111213483817258], prediction=[1.2020421149000995,-1.2020421149000995]\nfeatures=[0.9999971410926252,0.0,0.0023911935463716526,0.0,0.0,1.0], label=0.0 -> prob=[0.7688878652046924,0.23111213479530757], prediction=[1.2020421151413216,-1.2020421151413216]\nfeatures=(6,[0,5],[1.0,1.0]), label=1.0 -> prob=[0.768887865186432,0.23111213481356788], prediction=[1.2020421150385618,-1.2020421150385618]\nfeatures=[1.0,0.0,0.0,0.0,1.0,1.0], label=0.0 -> prob=[0.7688878651618274,0.23111213483817258], prediction=[1.2020421149000995,-1.2020421149000995]\nfeatures=[0.999998174373128,0.0,0.001910824537018716,0.0,1.0,1.0], label=0.0 -> prob=[0.7688878651759496,0.23111213482405044], prediction=[1.2020421149795717,-1.2020421149795717]\nfeatures=(6,[0,5],[1.0,1.0]), label=0.0 -> prob=[0.768887865186432,0.23111213481356788], prediction=[1.2020421150385618,-1.2020421150385618]\nfeatures=[1.0,0.0,0.0,0.0,1.0,1.0], label=0.0 -> prob=[0.7688878651618274,0.23111213483817258], prediction=[1.2020421149000995,-1.2020421149000995]\nfeatures=(6,[0,5],[1.0,1.0]), label=0.0 -> prob=[0.768887865186432,0.23111213481356788], prediction=[1.2020421150385618,-1.2020421150385618]\nfeatures=(6,[0],[1.0]), label=0.0 -> prob=[0.7688878651698989,0.23111213483010104], prediction=[1.2020421149455218,-1.2020421149455218]\nfeatures=(6,[0,4],[1.0,1.0]), label=0.0 -> prob=[0.7688878651452943,0.23111213485470575], prediction=[1.2020421148070592,-1.2020421148070592]\nfeatures=(6,[0,5],[1.0,1.0]), label=0.0 -> prob=[0.768887865186432,0.23111213481356788], prediction=[1.2020421150385618,-1.2020421150385618]\nfeatures=(6,[0,4],[1.0,1.0]), label=1.0 -> prob=[0.7688878651452943,0.23111213485470575], prediction=[1.2020421148070592,-1.2020421148070592]\nfeatures=(6,[0,4],[1.0,1.0]), label=0.0 -> prob=[0.7688878651452943,0.23111213485470575], prediction=[1.2020421148070592,-1.2020421148070592]\nfeatures=[0.9999989558638426,0.0,0.0014450851963350327,0.0,0.0,1.0], label=0.0 -> prob=[0.7688878651967678,0.23111213480323234], prediction=[1.202042115096725,-1.202042115096725]\nfeatures=[0.9999995236285028,0.0,0.0009760854305793096,0.0,0.0,1.0], label=0.0 -> prob=[0.768887865193179,0.23111213480682102], prediction=[1.2020421150765297,-1.2020421150765297]\nfeatures=[0.9999998592081132,0.0,0.0005306446586405483,0.0,0.0,1.0], label=0.0 -> prob=[0.768887865189979,0.23111213481002096], prediction=[1.202042115058522,-1.202042115058522]\nfeatures=[0.9999995300720964,0.0,0.0009694614930412956,0.0,1.0,1.0], label=1.0 -> prob=[0.7688878651685253,0.2311121348314748], prediction=[1.2020421149377911,-1.2020421149377911]\nfeatures=[0.9999999139133391,0.0,0.0004149377236154934,0.0,0.0,1.0], label=0.0 -> prob=[0.7688878651891811,0.23111213481081896], prediction=[1.2020421150540315,-1.2020421150540315]\nfeatures=(6,[0,5],[1.0,1.0]), label=1.0 -> prob=[0.768887865186432,0.23111213481356788], prediction=[1.2020421150385618,-1.2020421150385618]\nfeatures=(6,[0,5],[1.0,1.0]), label=0.0 -> prob=[0.768887865186432,0.23111213481356788], prediction=[1.2020421150385618,-1.2020421150385618]\nfeatures=(6,[0,2],[0.9999899004181224,0.004494336631092685]), label=0.0 -> prob=[0.7688878652090582,0.23111213479094184], prediction=[1.2020421151658898,-1.2020421151658898]\nfeatures=(6,[0,4],[1.0,1.0]), label=0.0 -> prob=[0.7688878651452943,0.23111213485470575], prediction=[1.2020421148070592,-1.2020421148070592]\nfeatures=[0.999998695068075,0.0,0.0016155067771697496,0.0,1.0,1.0], label=1.0 -> prob=[0.7688878651735228,0.2311121348264772], prediction=[1.202042114965915,-1.202042114965915]\nfeatures=[0.9999992527551851,0.0,0.0012224929740283436,0.0,1.0,1.0], label=0.0 -> prob=[0.7688878651704316,0.23111213482956827], prediction=[1.2020421149485199,-1.2020421149485199]\nfeatures=[1.0,0.0,0.0,0.0,1.0,1.0], label=1.0 -> prob=[0.7688878651618274,0.23111213483817258], prediction=[1.2020421149000995,-1.2020421149000995]\nfeatures=(6,[0,4],[1.0,1.0]), label=1.0 -> prob=[0.7688878651452943,0.23111213485470575], prediction=[1.2020421148070592,-1.2020421148070592]\nfeatures=(6,[0,4],[1.0,1.0]), label=1.0 -> prob=[0.7688878651452943,0.23111213485470575], prediction=[1.2020421148070592,-1.2020421148070592]\nfeatures=[0.9999961633418827,0.0,0.0027700724746312537,0.0,1.0,1.0], label=0.0 -> prob=[0.7688878651835184,0.23111213481648168], prediction=[1.2020421150221645,-1.2020421150221645]\nfeatures=[0.9999999082943327,0.0,0.00042826548535089196,0.0,1.0,1.0], label=0.0 -> prob=[0.7688878651646676,0.23111213483533238], prediction=[1.2020421149160825,-1.2020421149160825]\nfeatures=[0.9999991643030371,0.0,0.0012928237418268094,0.0,1.0,1.0], label=0.0 -> prob=[0.7688878651709733,0.23111213482902676], prediction=[1.2020421149515674,-1.2020421149515674]\nfeatures=[0.9999997861275256,0.0,0.0006540220968786956,0.0,1.0,1.0], label=0.0 -> prob=[0.7688878651662403,0.2311121348337597], prediction=[1.202042114924933,-1.202042114924933]\nfeatures=[1.0,0.0,0.0,0.0,1.0,1.0], label=1.0 -> prob=[0.7688878651618274,0.23111213483817258], prediction=[1.2020421149000995,-1.2020421149000995]\nfeatures=(6,[0,4],[1.0,1.0]), label=0.0 -> prob=[0.7688878651452943,0.23111213485470575], prediction=[1.2020421148070592,-1.2020421148070592]\nfeatures=(6,[0,4],[1.0,1.0]), label=1.0 -> prob=[0.7688878651452943,0.23111213485470575], prediction=[1.2020421148070592,-1.2020421148070592]\nfeatures=(6,[0],[1.0]), label=1.0 -> prob=[0.7688878651698989,0.23111213483010104], prediction=[1.2020421149455218,-1.2020421149455218]\nfeatures=[0.9999995250203826,0.0,0.0009746584064526146,0.0,1.0,1.0], label=0.0 -> prob=[0.7688878651685637,0.23111213483143628], prediction=[1.2020421149380078,-1.2020421149380078]\nfeatures=(6,[0,4],[1.0,1.0]), label=0.0 -> prob=[0.7688878651452943,0.23111213485470575], prediction=[1.2020421148070592,-1.2020421148070592]\nfeatures=[0.9999964820876698,0.0,0.0026525105625667634,0.0,1.0,1.0], label=0.0 -> prob=[0.7688878651824381,0.23111213481756185], prediction=[1.2020421150160858,-1.2020421150160858]\nfeatures=[1.0,0.0,0.0,0.0,1.0,1.0], label=1.0 -> prob=[0.7688878651618274,0.23111213483817258], prediction=[1.2020421149000995,-1.2020421149000995]\nfeatures=(6,[0,5],[1.0,1.0]), label=0.0 -> prob=[0.768887865186432,0.23111213481356788], prediction=[1.2020421150385618,-1.2020421150385618]\nfeatures=(6,[0,4],[1.0,1.0]), label=0.0 -> prob=[0.7688878651452943,0.23111213485470575], prediction=[1.2020421148070592,-1.2020421148070592]\nfeatures=[0.9999999134830857,0.0,0.00041597334171509387,0.0,0.0,1.0], label=0.0 -> prob=[0.7688878651891881,0.2311121348108119], prediction=[1.2020421150540712,-1.2020421150540712]\nfeatures=(6,[0,5],[1.0,1.0]), label=1.0 -> prob=[0.768887865186432,0.23111213481356788], prediction=[1.2020421150385618,-1.2020421150385618]\nfeatures=[1.0,0.0,0.0,0.0,1.0,1.0], label=0.0 -> prob=[0.7688878651618274,0.23111213483817258], prediction=[1.2020421149000995,-1.2020421149000995]\nfeatures=(6,[0],[1.0]), label=0.0 -> prob=[0.7688878651698989,0.23111213483010104], prediction=[1.2020421149455218,-1.2020421149455218]\nfeatures=(6,[0],[1.0]), label=1.0 -> prob=[0.7688878651698989,0.23111213483010104], prediction=[1.2020421149455218,-1.2020421149455218]\nfeatures=[0.999999221672377,0.0,0.001247659665218187,0.0,1.0,1.0], label=0.0 -> prob=[0.7688878651706249,0.2311121348293751], prediction=[1.202042114949607,-1.202042114949607]\nfeatures=[1.0,0.0,0.0,0.0,1.0,1.0], label=0.0 -> prob=[0.7688878651618274,0.23111213483817258], prediction=[1.2020421149000995,-1.2020421149000995]\nfeatures=[1.0,0.0,0.0,0.0,1.0,1.0], label=0.0 -> prob=[0.7688878651618274,0.23111213483817258], prediction=[1.2020421149000995,-1.2020421149000995]\nfeatures=[0.9999995580647765,0.0,0.0009401437399543495,0.0,1.0,1.0], label=0.0 -> prob=[0.7688878651683086,0.23111213483169146], prediction=[1.2020421149365719,-1.2020421149365719]\nfeatures=(6,[0],[1.0]), label=0.0 -> prob=[0.7688878651698989,0.23111213483010104], prediction=[1.2020421149455218,-1.2020421149455218]\nfeatures=[1.0,0.0,0.0,0.0,1.0,1.0], label=1.0 -> prob=[0.7688878651618274,0.23111213483817258], prediction=[1.2020421149000995,-1.2020421149000995]\nfeatures=[0.9999992930681444,0.0,0.0011890598015079005,0.0,1.0,1.0], label=0.0 -> prob=[0.768887865170176,0.23111213482982398], prediction=[1.202042114947081,-1.202042114947081]\nfeatures=(6,[0,4],[1.0,1.0]), label=0.0 -> prob=[0.7688878651452943,0.23111213485470575], prediction=[1.2020421148070592,-1.2020421148070592]\nfeatures=(6,[0,4],[1.0,1.0]), label=1.0 -> prob=[0.7688878651452943,0.23111213485470575], prediction=[1.2020421148070592,-1.2020421148070592]\nfeatures=[0.9999999177120764,0.0,0.0004056794798020594,0.0,0.0,1.0], label=0.0 -> prob=[0.7688878651891179,0.2311121348108822], prediction=[1.2020421150536755,-1.2020421150536755]\nfeatures=(6,[0,4],[1.0,1.0]), label=0.0 -> prob=[0.7688878651452943,0.23111213485470575], prediction=[1.2020421148070592,-1.2020421148070592]\nfeatures=[0.9999976215732816,0.0,0.0021810198943801127,0.0,1.0,1.0], label=1.0 -> prob=[0.7688878651782481,0.23111213482175186], prediction=[1.202042114992507,-1.202042114992507]\nfeatures=[0.9999990660086455,0.0,0.0013667413202851646,0.0,0.0,1.0], label=0.0 -> prob=[0.7688878651961525,0.23111213480384749], prediction=[1.2020421150932634,-1.2020421150932634]\nfeatures=[0.9999993030482232,0.0,0.0011806367214264736,0.0,1.0,1.0], label=1.0 -> prob=[0.7688878651701118,0.2311121348298882], prediction=[1.2020421149467195,-1.2020421149467195]\nfeatures=(6,[0,2],[0.9999963477190592,0.002702692831673133]), label=0.0 -> prob=[0.768887865190969,0.23111213480903103], prediction=[1.202042115064093,-1.202042115064093]\nfeatures=[1.0,0.0,0.0,0.0,1.0,1.0], label=1.0 -> prob=[0.7688878651618274,0.23111213483817258], prediction=[1.2020421149000995,-1.2020421149000995]\nfeatures=[0.9999989663463028,0.0,0.001437813035724375,0.0,0.0,1.0], label=1.0 -> prob=[0.7688878651967103,0.23111213480328968], prediction=[1.2020421150964022,-1.2020421150964022]\nfeatures=[0.999997508778442,0.0,0.002232137296380451,0.0,1.0,1.0], label=0.0 -> prob=[0.7688878651786915,0.23111213482130857], prediction=[1.2020421149950014,-1.2020421149950014]\nfeatures=[0.9999994517698652,0.0,0.001047119844785199,0.0,1.0,1.0], label=0.0 -> prob=[0.7688878651691033,0.2311121348308966], prediction=[1.2020421149410447,-1.2020421149410447]\nfeatures=[0.9999995570937199,0.0,0.0009411760537352658,0.0,0.0,1.0], label=0.0 -> prob=[0.7688878651929208,0.2311121348070792], prediction=[1.202042115075077,-1.202042115075077]\nfeatures=[0.9999993247449899,0.0,0.0011621142646658803,0.0,0.0,1.0], label=0.0 -> prob=[0.7688878651945755,0.23111213480542453], prediction=[1.2020421150843885,-1.2020421150843885]\nfeatures=[0.9999997445332347,0.0,0.0007147961004526338,0.0,0.0,1.0], label=0.0 -> prob=[0.7688878651912773,0.23111213480872272], prediction=[1.202042115065828,-1.202042115065828]\nfeatures=[1.0,0.0,0.0,0.0,1.0,1.0], label=0.0 -> prob=[0.7688878651618274,0.23111213483817258], prediction=[1.2020421149000995,-1.2020421149000995]\nfeatures=[0.9999984094054332,0.0,0.0017835881261690247,0.0,1.0,1.0], label=0.0 -> prob=[0.7688878651748932,0.23111213482510692], prediction=[1.2020421149736262,-1.2020421149736262]\nfeatures=[1.0,0.0,0.0,0.0,1.0,1.0], label=0.0 -> prob=[0.7688878651618274,0.23111213483817258], prediction=[1.2020421149000995,-1.2020421149000995]\nfeatures=[0.9999932789657673,0.0,0.003666336494833244,0.0,1.0,1.0], label=0.0 -> prob=[0.7688878651922184,0.2311121348077816], prediction=[1.2020421150711242,-1.2020421150711242]\nfeatures=[0.9999994241303151,0.0,0.001073191054014075,0.0,0.0,1.0], label=0.0 -> prob=[0.7688878651939035,0.23111213480609652], prediction=[1.202042115080607,-1.202042115080607]\nfeatures=[0.9999998897926078,0.0,0.00046948351633455766,0.0,1.0,1.0], label=0.0 -> prob=[0.7688878651649509,0.23111213483504914], prediction=[1.2020421149176765,-1.2020421149176765]\nfeatures=[0.9999967791131932,0.0,0.0025380628911502367,0.0,0.0,1.0], label=0.0 -> prob=[0.7688878652060048,0.23111213479399517], prediction=[1.202042115148707,-1.202042115148707]\nfeatures=(6,[0,4],[1.0,1.0]), label=1.0 -> prob=[0.7688878651452943,0.23111213485470575], prediction=[1.2020421148070592,-1.2020421148070592]\nfeatures=[0.9999771739006351,0.0,0.006756602526355643,0.0,0.0,1.0], label=0.0 -> prob=[0.7688878652531265,0.23111213474687342], prediction=[1.202042115413884,-1.202042115413884]\nfeatures=(6,[0],[1.0]), label=0.0 -> prob=[0.7688878651698989,0.23111213483010104], prediction=[1.2020421149455218,-1.2020421149455218]\nfeatures=[1.0,0.0,0.0,0.0,1.0,1.0], label=0.0 -> prob=[0.7688878651618274,0.23111213483817258], prediction=[1.2020421149000995,-1.2020421149000995]\nfeatures=[1.0,0.0,0.0,0.0,1.0,1.0], label=1.0 -> prob=[0.7688878651618274,0.23111213483817258], prediction=[1.2020421149000995,-1.2020421149000995]\nfeatures=[0.9999986584780165,0.0,0.0016379994405864315,0.0,1.0,1.0], label=0.0 -> prob=[0.7688878651737044,0.23111213482629547], prediction=[1.2020421149669376,-1.2020421149669376]\nfeatures=[0.9999997359215486,0.0,0.0007267439941290324,0.0,0.0,1.0], label=0.0 -> prob=[0.7688878651913627,0.23111213480863732], prediction=[1.2020421150663088,-1.2020421150663088]\nfeatures=(6,[0,4],[1.0,1.0]), label=0.0 -> prob=[0.7688878651452943,0.23111213485470575], prediction=[1.2020421148070592,-1.2020421148070592]\nfeatures=[0.9999977437465821,0.0,0.0021242649893713906,0.0,1.0,1.0], label=0.0 -> prob=[0.7688878651777592,0.23111213482224088], prediction=[1.2020421149897549,-1.2020421149897549]\nfeatures=[0.9999982300446382,0.0,0.0018814642145712854,0.0,0.0,1.0], label=1.0 -> prob=[0.768887865200309,0.23111213479969103], prediction=[1.2020421151166538,-1.2020421151166538]\nfeatures=[0.9999979892965789,0.0,0.002005343561423621,0.0,1.0,1.0], label=0.0 -> prob=[0.7688878651767451,0.23111213482325485], prediction=[1.2020421149840488,-1.2020421149840488]\nfeatures=(6,[0,5],[1.0,1.0]), label=0.0 -> prob=[0.768887865186432,0.23111213481356788], prediction=[1.2020421150385618,-1.2020421150385618]\nfeatures=(6,[0,4],[1.0,1.0]), label=0.0 -> prob=[0.7688878651452943,0.23111213485470575], prediction=[1.2020421148070592,-1.2020421148070592]\nfeatures=[0.9999975954226467,0.0,0.0021929771829444005,0.0,1.0,0.0], label=0.0 -> prob=[0.7688878651618184,0.23111213483818155], prediction=[1.2020421149000489,-1.2020421149000489]\nfeatures=(6,[0,5],[1.0,1.0]), label=0.0 -> prob=[0.768887865186432,0.23111213481356788], prediction=[1.2020421150385618,-1.2020421150385618]\nfeatures=[1.0,0.0,0.0,0.0,1.0,1.0], label=0.0 -> prob=[0.7688878651618274,0.23111213483817258], prediction=[1.2020421149000995,-1.2020421149000995]\nfeatures=[0.9999990246885464,0.0,0.0013966466825259029,0.0,1.0,1.0], label=0.0 -> prob=[0.7688878651717819,0.23111213482821807], prediction=[1.2020421149561182,-1.2020421149561182]\nfeatures=[0.9999985587528024,0.0,0.0016977904223307342,0.0,1.0,1.0], label=0.0 -> prob=[0.76888786517419,0.23111213482580997], prediction=[1.2020421149696696,-1.2020421149696696]\nfeatures=(6,[0,5],[1.0,1.0]), label=0.0 -> prob=[0.768887865186432,0.23111213481356788], prediction=[1.2020421150385618,-1.2020421150385618]\nfeatures=[0.9999995046345702,0.0,0.000995354516889088,0.0,1.0,1.0], label=0.0 -> prob=[0.7688878651687172,0.2311121348312827], prediction=[1.202042114938872,-1.202042114938872]\nfeatures=(6,[0],[1.0]), label=0.0 -> prob=[0.7688878651698989,0.23111213483010104], prediction=[1.2020421149455218,-1.2020421149455218]\nfeatures=[1.0,0.0,0.0,0.0,1.0,1.0], label=0.0 -> prob=[0.7688878651618274,0.23111213483817258], prediction=[1.2020421149000995,-1.2020421149000995]\nfeatures=(6,[0,2],[0.9999634763235146,0.008546696378833459]), label=0.0 -> prob=[0.7688878652620948,0.23111213473790507], prediction=[1.2020421154643532,-1.2020421154643532]\nfeatures=[0.9999999400103404,0.0,0.00034638030481826826,0.0,0.0,1.0], label=0.0 -> prob=[0.7688878651887147,0.23111213481128534], prediction=[1.2020421150514071,-1.2020421150514071]\nfeatures=[0.9999990744610008,0.0,0.0013605429584503412,0.0,1.0,1.0], label=0.0 -> prob=[0.7688878651714994,0.23111213482850054], prediction=[1.2020421149545286,-1.2020421149545286]\nfeatures=[1.0,0.0,0.0,0.0,1.0,1.0], label=0.0 -> prob=[0.7688878651618274,0.23111213483817258], prediction=[1.2020421149000995,-1.2020421149000995]\nfeatures=[0.9999958713427838,0.0,0.0028735513544332868,0.0,1.0,0.0], label=1.0 -> prob=[0.7688878651679476,0.23111213483205242], prediction=[1.2020421149345406,-1.2020421149345406]\nfeatures=[0.9999970400496088,0.0,0.002433082822505131,0.0,1.0,1.0], label=1.0 -> prob=[0.7688878651804598,0.2311121348195402], prediction=[1.202042115004953,-1.202042115004953]\nfeatures=[0.9999932418505163,0.0,0.0036764457420974867,0.0,1.0,0.0], label=0.0 -> prob=[0.768887865175788,0.23111213482421197], prediction=[1.2020421149786626,-1.2020421149786626]\nfeatures=(6,[0,5],[1.0,1.0]), label=0.0 -> prob=[0.768887865186432,0.23111213481356788], prediction=[1.2020421150385618,-1.2020421150385618]\nfeatures=(6,[0,5],[1.0,1.0]), label=0.0 -> prob=[0.768887865186432,0.23111213481356788], prediction=[1.2020421150385618,-1.2020421150385618]\nfeatures=[1.0,0.0,0.0,0.0,1.0,1.0], label=0.0 -> prob=[0.7688878651618274,0.23111213483817258], prediction=[1.2020421149000995,-1.2020421149000995]\nfeatures=(6,[0],[1.0]), label=0.0 -> prob=[0.7688878651698989,0.23111213483010104], prediction=[1.2020421149455218,-1.2020421149455218]\nfeatures=(6,[0,5],[1.0,1.0]), label=0.0 -> prob=[0.768887865186432,0.23111213481356788], prediction=[1.2020421150385618,-1.2020421150385618]\nfeatures=[0.9999952808373682,0.0,0.003072182122388228,0.0,0.0,1.0], label=0.0 -> prob=[0.7688878652109638,0.2311121347890363], prediction=[1.202042115176613,-1.202042115176613]\nfeatures=(6,[0,5],[1.0,1.0]), label=0.0 -> prob=[0.768887865186432,0.23111213481356788], prediction=[1.2020421150385618,-1.2020421150385618]\nfeatures=(6,[0,4],[1.0,1.0]), label=0.0 -> prob=[0.7688878651452943,0.23111213485470575], prediction=[1.2020421148070592,-1.2020421148070592]\nfeatures=[0.9999997780738519,0.0,0.000666222370468922,0.0,0.0,1.0], label=1.0 -> prob=[0.7688878651909314,0.23111213480906856], prediction=[1.202042115063882,-1.202042115063882]\nfeatures=(6,[0,2],[0.999989945656272,0.004484259845992251]), label=0.0 -> prob=[0.7688878652089473,0.2311121347910528], prediction=[1.2020421151652654,-1.2020421151652654]\nfeatures=(6,[0,2],[0.9999855477754405,0.0053762663858894656]), label=1.0 -> prob=[0.7688878652191694,0.2311121347808306], prediction=[1.2020421152227907,-1.2020421152227907]\n"
    }
   ],
   "source": [
    "prediction = model.transform(user_df)\n",
    "result = prediction.select(\"features\", \"label\", \"probability\", \"rawPrediction\") \\\n",
    "    .collect()\n",
    "\n",
    "for row in result:\n",
    "    print(\"features=%s, label=%s -> prob=%s, prediction=%s\"\n",
    "          % (row.features, row.label, row.probability, row.rawPrediction))"
   ]
  },
  {
   "cell_type": "markdown",
   "metadata": {},
   "source": [
    "# Modeling\n",
    "Split the full dataset into train, test, and validation sets. Test out several of the machine learning methods you learned. Evaluate the accuracy of the various models, tuning parameters as necessary. Determine your winning model based on test accuracy and report results on the validation set. Since the churned users are a fairly small subset, I suggest using F1 score as the metric to optimize."
   ]
  },
  {
   "cell_type": "code",
   "execution_count": 84,
   "metadata": {},
   "outputs": [],
   "source": [
    "### baseline model for comparison"
   ]
  },
  {
   "cell_type": "code",
   "execution_count": 85,
   "metadata": {},
   "outputs": [
    {
     "output_type": "execute_result",
     "data": {
      "text/plain": "DataFrame[userId: string, churn: string, gender: string, subscription_level: string, page_upgraded: int, page_downgraded: int, auth_logged_in_cnt: bigint, auth_logged_out_cnt: bigint, auth_guest_cnt: bigint, status_404_cnt: bigint, status_307_cnt: bigint, page_next_song_cnt: bigint, page_thumbs_up_cnt: bigint, page_thumbs_down_cnt: bigint, page_playlist_cnt: bigint, page_friend_cnt: bigint, page_roll_ad_cnt: bigint, page_logout_cnt: bigint, page_help_cnt: bigint, artist_cnt: bigint, song_cnt: bigint, session_cnt: bigint]"
     },
     "metadata": {},
     "execution_count": 85
    }
   ],
   "source": [
    "user_df"
   ]
  },
  {
   "cell_type": "code",
   "execution_count": 86,
   "metadata": {},
   "outputs": [],
   "source": [
    "train, test = user_df.randomSplit([0.9, 0.1], seed=12345)\n",
    "# test in this case is the same as holdout set"
   ]
  },
  {
   "cell_type": "code",
   "execution_count": 87,
   "metadata": {},
   "outputs": [
    {
     "output_type": "execute_result",
     "data": {
      "text/plain": "[{Param(parent='LogisticRegression_592d2f8344aa', name='regParam', doc='regularization parameter (>= 0).'): 0.1},\n {Param(parent='LogisticRegression_592d2f8344aa', name='regParam', doc='regularization parameter (>= 0).'): 0.01}]"
     },
     "metadata": {},
     "execution_count": 87
    }
   ],
   "source": [
    "# We use a ParamGridBuilder to construct a grid of parameters to search over.\n",
    "# TrainValidationSplit will try all combinations of values and determine best model using\n",
    "# the evaluator.\n",
    "paramGrid = ParamGridBuilder()\\\n",
    "    .addGrid(lr.regParam, [0.1, 0.01])\\\n",
    "    .build()\n",
    "paramGrid"
   ]
  },
  {
   "cell_type": "code",
   "execution_count": 88,
   "metadata": {},
   "outputs": [
    {
     "output_type": "execute_result",
     "data": {
      "text/plain": "TrainValidationSplit_dba53911de1d"
     },
     "metadata": {},
     "execution_count": 88
    }
   ],
   "source": [
    "# A TrainValidationSplit requires an Estimator, a set of Estimator ParamMaps, and an Evaluator.\n",
    "tvs = TrainValidationSplit(estimator=pipeline,\n",
    "                           estimatorParamMaps=paramGrid,\n",
    "                           evaluator=MulticlassClassificationEvaluator( metricName='f1'),\n",
    "                           # 80% of the data will be used for training, 20% for validation.\n",
    "                           trainRatio=0.8)\n",
    "tvs"
   ]
  },
  {
   "cell_type": "code",
   "execution_count": 90,
   "metadata": {},
   "outputs": [
    {
     "output_type": "execute_result",
     "data": {
      "text/plain": "TrainValidationSplitModel_943f44d5c1ec"
     },
     "metadata": {},
     "execution_count": 90
    }
   ],
   "source": [
    "# Run TrainValidationSplit, and choose the best set of parameters.\n",
    "tvs_model = tvs.fit(train)\n",
    "tvs_model\n"
   ]
  },
  {
   "cell_type": "code",
   "execution_count": 91,
   "metadata": {},
   "outputs": [
    {
     "output_type": "execute_result",
     "data": {
      "text/plain": "PipelineModel_334b9393028a"
     },
     "metadata": {},
     "execution_count": 91
    }
   ],
   "source": [
    "tvs_model.bestModel"
   ]
  },
  {
   "cell_type": "code",
   "execution_count": 92,
   "metadata": {},
   "outputs": [
    {
     "output_type": "execute_result",
     "data": {
      "text/plain": "\"estimator: estimator to be cross-validated (current: Pipeline_92ab41fc1de6)\\nestimatorParamMaps: estimator param maps (current: [{Param(parent='LogisticRegression_592d2f8344aa', name='regParam', doc='regularization parameter (>= 0).'): 0.1}, {Param(parent='LogisticRegression_592d2f8344aa', name='regParam', doc='regularization parameter (>= 0).'): 0.01}])\\nevaluator: evaluator used to select hyper-parameters that maximize the validator metric (current: MulticlassClassificationEvaluator_942059c5dc85)\\nseed: random seed. (default: -8243909112844880721)\""
     },
     "metadata": {},
     "execution_count": 92
    }
   ],
   "source": [
    "tvs_model.explainParams()"
   ]
  },
  {
   "cell_type": "code",
   "execution_count": 93,
   "metadata": {},
   "outputs": [
    {
     "output_type": "stream",
     "name": "stdout",
     "text": "['userId', 'churn', 'gender', 'subscription_level', 'page_upgraded', 'page_downgraded', 'auth_logged_in_cnt', 'auth_logged_out_cnt', 'auth_guest_cnt', 'status_404_cnt', 'status_307_cnt', 'page_next_song_cnt', 'page_thumbs_up_cnt', 'page_thumbs_down_cnt', 'page_playlist_cnt', 'page_friend_cnt', 'page_roll_ad_cnt', 'page_logout_cnt', 'page_help_cnt', 'artist_cnt', 'song_cnt', 'session_cnt', 'NumericFeatures', 'ScaledNumericFeatures', 'gender_Index', 'subscription_level_Index', 'gender_Vec', 'subscription_level_Vec', 'features', 'label', 'rawPrediction', 'probability', 'prediction']\n"
    }
   ],
   "source": [
    "prediction = tvs_model.transform(test)\n",
    "print(prediction.columns)"
   ]
  },
  {
   "cell_type": "code",
   "execution_count": 165,
   "metadata": {
    "tags": [
     "outputPrepend"
    ]
   },
   "outputs": [
    {
     "output_type": "stream",
     "name": "stdout",
     "text": " 1.0, 1.0]), label=0.0, probability=DenseVector([0.7689, 0.2311]), prediction=0.0)\nRow(features=DenseVector([1.0, 0.0, 0.001, 0.0, 0.0, 1.0]), label=0.0, probability=DenseVector([0.7689, 0.2311]), prediction=0.0)\nRow(features=DenseVector([1.0, 0.0, 0.0006, 0.0, 1.0, 1.0]), label=0.0, probability=DenseVector([0.7689, 0.2311]), prediction=0.0)\nRow(features=DenseVector([1.0, 0.0, 0.0021, 0.0, 1.0, 1.0]), label=0.0, probability=DenseVector([0.7689, 0.2311]), prediction=0.0)\nRow(features=DenseVector([1.0, 0.0, 0.001, 0.0, 0.0, 1.0]), label=0.0, probability=DenseVector([0.7689, 0.2311]), prediction=0.0)\nRow(features=SparseVector(6, {0: 1.0, 5: 1.0}), label=1.0, probability=DenseVector([0.7689, 0.2311]), prediction=0.0)\nRow(features=SparseVector(6, {0: 1.0, 5: 1.0}), label=1.0, probability=DenseVector([0.7689, 0.2311]), prediction=0.0)\nRow(features=DenseVector([1.0, 0.0, 0.0, 0.0, 1.0, 1.0]), label=0.0, probability=DenseVector([0.7689, 0.2311]), prediction=0.0)\nRow(features=DenseVector([1.0, 0.0, 0.0005, 0.0, 0.0, 1.0]), label=0.0, probability=DenseVector([0.7689, 0.2311]), prediction=0.0)\nRow(features=DenseVector([0.9999, 0.0, 0.0132, 0.0, 0.0, 1.0]), label=0.0, probability=DenseVector([0.7689, 0.2311]), prediction=0.0)\nRow(features=SparseVector(6, {0: 1.0, 5: 1.0}), label=0.0, probability=DenseVector([0.7689, 0.2311]), prediction=0.0)\nRow(features=SparseVector(6, {0: 1.0, 5: 1.0}), label=0.0, probability=DenseVector([0.7689, 0.2311]), prediction=0.0)\nRow(features=DenseVector([1.0, 0.0, 0.0, 0.0, 1.0, 1.0]), label=0.0, probability=DenseVector([0.7689, 0.2311]), prediction=0.0)\nRow(features=DenseVector([1.0, 0.0, 0.0014, 0.0, 0.0, 1.0]), label=1.0, probability=DenseVector([0.7689, 0.2311]), prediction=0.0)\nRow(features=DenseVector([1.0, 0.0, 0.0013, 0.0, 1.0, 1.0]), label=0.0, probability=DenseVector([0.7689, 0.2311]), prediction=0.0)\nRow(features=SparseVector(6, {0: 1.0}), label=0.0, probability=DenseVector([0.7689, 0.2311]), prediction=0.0)\nRow(features=SparseVector(6, {0: 1.0, 5: 1.0}), label=0.0, probability=DenseVector([0.7689, 0.2311]), prediction=0.0)\nRow(features=DenseVector([1.0, 0.0, 0.0, 0.0, 1.0, 1.0]), label=0.0, probability=DenseVector([0.7689, 0.2311]), prediction=0.0)\nRow(features=DenseVector([1.0, 0.0, 0.0008, 0.0, 0.0, 1.0]), label=0.0, probability=DenseVector([0.7689, 0.2311]), prediction=0.0)\nRow(features=DenseVector([1.0, 0.0, 0.0007, 0.0, 0.0, 1.0]), label=0.0, probability=DenseVector([0.7689, 0.2311]), prediction=0.0)\nRow(features=DenseVector([1.0, 0.0, 0.0011, 0.0, 1.0, 1.0]), label=0.0, probability=DenseVector([0.7689, 0.2311]), prediction=0.0)\nRow(features=DenseVector([1.0, 0.0, 0.0, 0.0, 1.0, 1.0]), label=0.0, probability=DenseVector([0.7689, 0.2311]), prediction=0.0)\nRow(features=DenseVector([1.0, 0.0, 0.0, 0.0, 1.0, 1.0]), label=0.0, probability=DenseVector([0.7689, 0.2311]), prediction=0.0)\nRow(features=DenseVector([1.0, 0.0, 0.0, 0.0, 1.0, 1.0]), label=1.0, probability=DenseVector([0.7689, 0.2311]), prediction=0.0)\nRow(features=DenseVector([1.0, 0.0, 0.0003, 0.0, 0.0, 1.0]), label=0.0, probability=DenseVector([0.7689, 0.2311]), prediction=0.0)\nRow(features=DenseVector([1.0, 0.0, 0.0016, 0.0, 0.0, 1.0]), label=0.0, probability=DenseVector([0.7689, 0.2311]), prediction=0.0)\nRow(features=DenseVector([1.0, 0.0, 0.0005, 0.0, 0.0, 1.0]), label=0.0, probability=DenseVector([0.7689, 0.2311]), prediction=0.0)\nRow(features=DenseVector([1.0, 0.0, 0.001, 0.0, 1.0, 1.0]), label=0.0, probability=DenseVector([0.7689, 0.2311]), prediction=0.0)\nRow(features=SparseVector(6, {0: 1.0}), label=0.0, probability=DenseVector([0.7689, 0.2311]), prediction=0.0)\nRow(features=SparseVector(6, {0: 1.0, 4: 1.0}), label=0.0, probability=DenseVector([0.7689, 0.2311]), prediction=0.0)\nRow(features=SparseVector(6, {0: 1.0, 5: 1.0}), label=0.0, probability=DenseVector([0.7689, 0.2311]), prediction=0.0)\nRow(features=DenseVector([1.0, 0.0, 0.001, 0.0, 0.0, 1.0]), label=1.0, probability=DenseVector([0.7689, 0.2311]), prediction=0.0)\nRow(features=SparseVector(6, {0: 1.0, 5: 1.0}), label=0.0, probability=DenseVector([0.7689, 0.2311]), prediction=0.0)\nRow(features=DenseVector([1.0, 0.0, 0.0014, 0.0, 0.0, 1.0]), label=0.0, probability=DenseVector([0.7689, 0.2311]), prediction=0.0)\nRow(features=SparseVector(6, {0: 1.0, 5: 1.0}), label=0.0, probability=DenseVector([0.7689, 0.2311]), prediction=0.0)\nRow(features=DenseVector([1.0, 0.0, 0.001, 0.0, 1.0, 1.0]), label=0.0, probability=DenseVector([0.7689, 0.2311]), prediction=0.0)\nRow(features=DenseVector([1.0, 0.0, 0.0018, 0.0, 1.0, 1.0]), label=1.0, probability=DenseVector([0.7689, 0.2311]), prediction=0.0)\nRow(features=SparseVector(6, {0: 1.0, 5: 1.0}), label=0.0, probability=DenseVector([0.7689, 0.2311]), prediction=0.0)\nRow(features=DenseVector([1.0, 0.0, 0.0005, 0.0, 0.0, 1.0]), label=0.0, probability=DenseVector([0.7689, 0.2311]), prediction=0.0)\nRow(features=DenseVector([1.0, 0.0, 0.005, 0.0, 1.0, 0.0]), label=0.0, probability=DenseVector([0.7689, 0.2311]), prediction=0.0)\nRow(features=DenseVector([1.0, 0.0, 0.002, 0.0, 1.0, 1.0]), label=0.0, probability=DenseVector([0.7689, 0.2311]), prediction=0.0)\nRow(features=DenseVector([1.0, 0.0, 0.0015, 0.0, 0.0, 1.0]), label=0.0, probability=DenseVector([0.7689, 0.2311]), prediction=0.0)\nRow(features=DenseVector([1.0, 0.0, 0.0024, 0.0, 0.0, 1.0]), label=0.0, probability=DenseVector([0.7689, 0.2311]), prediction=0.0)\nRow(features=DenseVector([1.0, 0.0, 0.0016, 0.0, 1.0, 1.0]), label=0.0, probability=DenseVector([0.7689, 0.2311]), prediction=0.0)\nRow(features=SparseVector(6, {0: 1.0}), label=1.0, probability=DenseVector([0.7689, 0.2311]), prediction=0.0)\nRow(features=DenseVector([1.0, 0.0, 0.0, 0.0, 1.0, 1.0]), label=0.0, probability=DenseVector([0.7689, 0.2311]), prediction=0.0)\nRow(features=DenseVector([1.0, 0.0, 0.0024, 0.0, 0.0, 1.0]), label=0.0, probability=DenseVector([0.7689, 0.2311]), prediction=0.0)\nRow(features=SparseVector(6, {0: 1.0, 5: 1.0}), label=1.0, probability=DenseVector([0.7689, 0.2311]), prediction=0.0)\nRow(features=DenseVector([1.0, 0.0, 0.0, 0.0, 1.0, 1.0]), label=0.0, probability=DenseVector([0.7689, 0.2311]), prediction=0.0)\nRow(features=DenseVector([1.0, 0.0, 0.0019, 0.0, 1.0, 1.0]), label=0.0, probability=DenseVector([0.7689, 0.2311]), prediction=0.0)\nRow(features=SparseVector(6, {0: 1.0, 5: 1.0}), label=0.0, probability=DenseVector([0.7689, 0.2311]), prediction=0.0)\nRow(features=DenseVector([1.0, 0.0, 0.0, 0.0, 1.0, 1.0]), label=0.0, probability=DenseVector([0.7689, 0.2311]), prediction=0.0)\nRow(features=SparseVector(6, {0: 1.0, 5: 1.0}), label=0.0, probability=DenseVector([0.7689, 0.2311]), prediction=0.0)\nRow(features=SparseVector(6, {0: 1.0}), label=0.0, probability=DenseVector([0.7689, 0.2311]), prediction=0.0)\nRow(features=SparseVector(6, {0: 1.0, 4: 1.0}), label=0.0, probability=DenseVector([0.7689, 0.2311]), prediction=0.0)\nRow(features=SparseVector(6, {0: 1.0, 5: 1.0}), label=0.0, probability=DenseVector([0.7689, 0.2311]), prediction=0.0)\nRow(features=SparseVector(6, {0: 1.0, 4: 1.0}), label=1.0, probability=DenseVector([0.7689, 0.2311]), prediction=0.0)\nRow(features=SparseVector(6, {0: 1.0, 4: 1.0}), label=0.0, probability=DenseVector([0.7689, 0.2311]), prediction=0.0)\nRow(features=DenseVector([1.0, 0.0, 0.0014, 0.0, 0.0, 1.0]), label=0.0, probability=DenseVector([0.7689, 0.2311]), prediction=0.0)\nRow(features=DenseVector([1.0, 0.0, 0.001, 0.0, 0.0, 1.0]), label=0.0, probability=DenseVector([0.7689, 0.2311]), prediction=0.0)\nRow(features=DenseVector([1.0, 0.0, 0.0005, 0.0, 0.0, 1.0]), label=0.0, probability=DenseVector([0.7689, 0.2311]), prediction=0.0)\nRow(features=DenseVector([1.0, 0.0, 0.001, 0.0, 1.0, 1.0]), label=1.0, probability=DenseVector([0.7689, 0.2311]), prediction=0.0)\nRow(features=DenseVector([1.0, 0.0, 0.0004, 0.0, 0.0, 1.0]), label=0.0, probability=DenseVector([0.7689, 0.2311]), prediction=0.0)\nRow(features=SparseVector(6, {0: 1.0, 5: 1.0}), label=1.0, probability=DenseVector([0.7689, 0.2311]), prediction=0.0)\nRow(features=SparseVector(6, {0: 1.0, 5: 1.0}), label=0.0, probability=DenseVector([0.7689, 0.2311]), prediction=0.0)\nRow(features=SparseVector(6, {0: 1.0, 2: 0.0045}), label=0.0, probability=DenseVector([0.7689, 0.2311]), prediction=0.0)\nRow(features=SparseVector(6, {0: 1.0, 4: 1.0}), label=0.0, probability=DenseVector([0.7689, 0.2311]), prediction=0.0)\nRow(features=DenseVector([1.0, 0.0, 0.0016, 0.0, 1.0, 1.0]), label=1.0, probability=DenseVector([0.7689, 0.2311]), prediction=0.0)\nRow(features=DenseVector([1.0, 0.0, 0.0012, 0.0, 1.0, 1.0]), label=0.0, probability=DenseVector([0.7689, 0.2311]), prediction=0.0)\nRow(features=DenseVector([1.0, 0.0, 0.0, 0.0, 1.0, 1.0]), label=1.0, probability=DenseVector([0.7689, 0.2311]), prediction=0.0)\nRow(features=SparseVector(6, {0: 1.0, 4: 1.0}), label=1.0, probability=DenseVector([0.7689, 0.2311]), prediction=0.0)\nRow(features=SparseVector(6, {0: 1.0, 4: 1.0}), label=1.0, probability=DenseVector([0.7689, 0.2311]), prediction=0.0)\nRow(features=DenseVector([1.0, 0.0, 0.0028, 0.0, 1.0, 1.0]), label=0.0, probability=DenseVector([0.7689, 0.2311]), prediction=0.0)\nRow(features=DenseVector([1.0, 0.0, 0.0004, 0.0, 1.0, 1.0]), label=0.0, probability=DenseVector([0.7689, 0.2311]), prediction=0.0)\nRow(features=DenseVector([1.0, 0.0, 0.0013, 0.0, 1.0, 1.0]), label=0.0, probability=DenseVector([0.7689, 0.2311]), prediction=0.0)\nRow(features=DenseVector([1.0, 0.0, 0.0007, 0.0, 1.0, 1.0]), label=0.0, probability=DenseVector([0.7689, 0.2311]), prediction=0.0)\nRow(features=DenseVector([1.0, 0.0, 0.0, 0.0, 1.0, 1.0]), label=1.0, probability=DenseVector([0.7689, 0.2311]), prediction=0.0)\nRow(features=SparseVector(6, {0: 1.0, 4: 1.0}), label=0.0, probability=DenseVector([0.7689, 0.2311]), prediction=0.0)\nRow(features=SparseVector(6, {0: 1.0, 4: 1.0}), label=1.0, probability=DenseVector([0.7689, 0.2311]), prediction=0.0)\nRow(features=SparseVector(6, {0: 1.0}), label=1.0, probability=DenseVector([0.7689, 0.2311]), prediction=0.0)\nRow(features=DenseVector([1.0, 0.0, 0.001, 0.0, 1.0, 1.0]), label=0.0, probability=DenseVector([0.7689, 0.2311]), prediction=0.0)\nRow(features=SparseVector(6, {0: 1.0, 4: 1.0}), label=0.0, probability=DenseVector([0.7689, 0.2311]), prediction=0.0)\nRow(features=DenseVector([1.0, 0.0, 0.0027, 0.0, 1.0, 1.0]), label=0.0, probability=DenseVector([0.7689, 0.2311]), prediction=0.0)\nRow(features=DenseVector([1.0, 0.0, 0.0, 0.0, 1.0, 1.0]), label=1.0, probability=DenseVector([0.7689, 0.2311]), prediction=0.0)\nRow(features=SparseVector(6, {0: 1.0, 5: 1.0}), label=0.0, probability=DenseVector([0.7689, 0.2311]), prediction=0.0)\nRow(features=SparseVector(6, {0: 1.0, 4: 1.0}), label=0.0, probability=DenseVector([0.7689, 0.2311]), prediction=0.0)\nRow(features=DenseVector([1.0, 0.0, 0.0004, 0.0, 0.0, 1.0]), label=0.0, probability=DenseVector([0.7689, 0.2311]), prediction=0.0)\nRow(features=SparseVector(6, {0: 1.0, 5: 1.0}), label=1.0, probability=DenseVector([0.7689, 0.2311]), prediction=0.0)\nRow(features=DenseVector([1.0, 0.0, 0.0, 0.0, 1.0, 1.0]), label=0.0, probability=DenseVector([0.7689, 0.2311]), prediction=0.0)\nRow(features=SparseVector(6, {0: 1.0}), label=0.0, probability=DenseVector([0.7689, 0.2311]), prediction=0.0)\nRow(features=SparseVector(6, {0: 1.0}), label=1.0, probability=DenseVector([0.7689, 0.2311]), prediction=0.0)\nRow(features=DenseVector([1.0, 0.0, 0.0012, 0.0, 1.0, 1.0]), label=0.0, probability=DenseVector([0.7689, 0.2311]), prediction=0.0)\nRow(features=DenseVector([1.0, 0.0, 0.0, 0.0, 1.0, 1.0]), label=0.0, probability=DenseVector([0.7689, 0.2311]), prediction=0.0)\nRow(features=DenseVector([1.0, 0.0, 0.0, 0.0, 1.0, 1.0]), label=0.0, probability=DenseVector([0.7689, 0.2311]), prediction=0.0)\nRow(features=DenseVector([1.0, 0.0, 0.0009, 0.0, 1.0, 1.0]), label=0.0, probability=DenseVector([0.7689, 0.2311]), prediction=0.0)\nRow(features=SparseVector(6, {0: 1.0}), label=0.0, probability=DenseVector([0.7689, 0.2311]), prediction=0.0)\nRow(features=DenseVector([1.0, 0.0, 0.0, 0.0, 1.0, 1.0]), label=1.0, probability=DenseVector([0.7689, 0.2311]), prediction=0.0)\nRow(features=DenseVector([1.0, 0.0, 0.0012, 0.0, 1.0, 1.0]), label=0.0, probability=DenseVector([0.7689, 0.2311]), prediction=0.0)\nRow(features=SparseVector(6, {0: 1.0, 4: 1.0}), label=0.0, probability=DenseVector([0.7689, 0.2311]), prediction=0.0)\nRow(features=SparseVector(6, {0: 1.0, 4: 1.0}), label=1.0, probability=DenseVector([0.7689, 0.2311]), prediction=0.0)\nRow(features=DenseVector([1.0, 0.0, 0.0004, 0.0, 0.0, 1.0]), label=0.0, probability=DenseVector([0.7689, 0.2311]), prediction=0.0)\nRow(features=SparseVector(6, {0: 1.0, 4: 1.0}), label=0.0, probability=DenseVector([0.7689, 0.2311]), prediction=0.0)\nRow(features=DenseVector([1.0, 0.0, 0.0022, 0.0, 1.0, 1.0]), label=1.0, probability=DenseVector([0.7689, 0.2311]), prediction=0.0)\nRow(features=DenseVector([1.0, 0.0, 0.0014, 0.0, 0.0, 1.0]), label=0.0, probability=DenseVector([0.7689, 0.2311]), prediction=0.0)\nRow(features=DenseVector([1.0, 0.0, 0.0012, 0.0, 1.0, 1.0]), label=1.0, probability=DenseVector([0.7689, 0.2311]), prediction=0.0)\nRow(features=SparseVector(6, {0: 1.0, 2: 0.0027}), label=0.0, probability=DenseVector([0.7689, 0.2311]), prediction=0.0)\nRow(features=DenseVector([1.0, 0.0, 0.0, 0.0, 1.0, 1.0]), label=1.0, probability=DenseVector([0.7689, 0.2311]), prediction=0.0)\nRow(features=DenseVector([1.0, 0.0, 0.0014, 0.0, 0.0, 1.0]), label=1.0, probability=DenseVector([0.7689, 0.2311]), prediction=0.0)\nRow(features=DenseVector([1.0, 0.0, 0.0022, 0.0, 1.0, 1.0]), label=0.0, probability=DenseVector([0.7689, 0.2311]), prediction=0.0)\nRow(features=DenseVector([1.0, 0.0, 0.001, 0.0, 1.0, 1.0]), label=0.0, probability=DenseVector([0.7689, 0.2311]), prediction=0.0)\nRow(features=DenseVector([1.0, 0.0, 0.0009, 0.0, 0.0, 1.0]), label=0.0, probability=DenseVector([0.7689, 0.2311]), prediction=0.0)\nRow(features=DenseVector([1.0, 0.0, 0.0012, 0.0, 0.0, 1.0]), label=0.0, probability=DenseVector([0.7689, 0.2311]), prediction=0.0)\nRow(features=DenseVector([1.0, 0.0, 0.0007, 0.0, 0.0, 1.0]), label=0.0, probability=DenseVector([0.7689, 0.2311]), prediction=0.0)\nRow(features=DenseVector([1.0, 0.0, 0.0, 0.0, 1.0, 1.0]), label=0.0, probability=DenseVector([0.7689, 0.2311]), prediction=0.0)\nRow(features=DenseVector([1.0, 0.0, 0.0018, 0.0, 1.0, 1.0]), label=0.0, probability=DenseVector([0.7689, 0.2311]), prediction=0.0)\nRow(features=DenseVector([1.0, 0.0, 0.0, 0.0, 1.0, 1.0]), label=0.0, probability=DenseVector([0.7689, 0.2311]), prediction=0.0)\nRow(features=DenseVector([1.0, 0.0, 0.0037, 0.0, 1.0, 1.0]), label=0.0, probability=DenseVector([0.7689, 0.2311]), prediction=0.0)\nRow(features=DenseVector([1.0, 0.0, 0.0011, 0.0, 0.0, 1.0]), label=0.0, probability=DenseVector([0.7689, 0.2311]), prediction=0.0)\nRow(features=DenseVector([1.0, 0.0, 0.0005, 0.0, 1.0, 1.0]), label=0.0, probability=DenseVector([0.7689, 0.2311]), prediction=0.0)\nRow(features=DenseVector([1.0, 0.0, 0.0025, 0.0, 0.0, 1.0]), label=0.0, probability=DenseVector([0.7689, 0.2311]), prediction=0.0)\nRow(features=SparseVector(6, {0: 1.0, 4: 1.0}), label=1.0, probability=DenseVector([0.7689, 0.2311]), prediction=0.0)\nRow(features=DenseVector([1.0, 0.0, 0.0068, 0.0, 0.0, 1.0]), label=0.0, probability=DenseVector([0.7689, 0.2311]), prediction=0.0)\nRow(features=SparseVector(6, {0: 1.0}), label=0.0, probability=DenseVector([0.7689, 0.2311]), prediction=0.0)\nRow(features=DenseVector([1.0, 0.0, 0.0, 0.0, 1.0, 1.0]), label=0.0, probability=DenseVector([0.7689, 0.2311]), prediction=0.0)\nRow(features=DenseVector([1.0, 0.0, 0.0, 0.0, 1.0, 1.0]), label=1.0, probability=DenseVector([0.7689, 0.2311]), prediction=0.0)\nRow(features=DenseVector([1.0, 0.0, 0.0016, 0.0, 1.0, 1.0]), label=0.0, probability=DenseVector([0.7689, 0.2311]), prediction=0.0)\nRow(features=DenseVector([1.0, 0.0, 0.0007, 0.0, 0.0, 1.0]), label=0.0, probability=DenseVector([0.7689, 0.2311]), prediction=0.0)\nRow(features=SparseVector(6, {0: 1.0, 4: 1.0}), label=0.0, probability=DenseVector([0.7689, 0.2311]), prediction=0.0)\nRow(features=DenseVector([1.0, 0.0, 0.0021, 0.0, 1.0, 1.0]), label=0.0, probability=DenseVector([0.7689, 0.2311]), prediction=0.0)\nRow(features=DenseVector([1.0, 0.0, 0.0019, 0.0, 0.0, 1.0]), label=1.0, probability=DenseVector([0.7689, 0.2311]), prediction=0.0)\nRow(features=DenseVector([1.0, 0.0, 0.002, 0.0, 1.0, 1.0]), label=0.0, probability=DenseVector([0.7689, 0.2311]), prediction=0.0)\nRow(features=SparseVector(6, {0: 1.0, 5: 1.0}), label=0.0, probability=DenseVector([0.7689, 0.2311]), prediction=0.0)\nRow(features=SparseVector(6, {0: 1.0, 4: 1.0}), label=0.0, probability=DenseVector([0.7689, 0.2311]), prediction=0.0)\nRow(features=DenseVector([1.0, 0.0, 0.0022, 0.0, 1.0, 0.0]), label=0.0, probability=DenseVector([0.7689, 0.2311]), prediction=0.0)\nRow(features=SparseVector(6, {0: 1.0, 5: 1.0}), label=0.0, probability=DenseVector([0.7689, 0.2311]), prediction=0.0)\nRow(features=DenseVector([1.0, 0.0, 0.0, 0.0, 1.0, 1.0]), label=0.0, probability=DenseVector([0.7689, 0.2311]), prediction=0.0)\nRow(features=DenseVector([1.0, 0.0, 0.0014, 0.0, 1.0, 1.0]), label=0.0, probability=DenseVector([0.7689, 0.2311]), prediction=0.0)\nRow(features=DenseVector([1.0, 0.0, 0.0017, 0.0, 1.0, 1.0]), label=0.0, probability=DenseVector([0.7689, 0.2311]), prediction=0.0)\nRow(features=SparseVector(6, {0: 1.0, 5: 1.0}), label=0.0, probability=DenseVector([0.7689, 0.2311]), prediction=0.0)\nRow(features=DenseVector([1.0, 0.0, 0.001, 0.0, 1.0, 1.0]), label=0.0, probability=DenseVector([0.7689, 0.2311]), prediction=0.0)\nRow(features=SparseVector(6, {0: 1.0}), label=0.0, probability=DenseVector([0.7689, 0.2311]), prediction=0.0)\nRow(features=DenseVector([1.0, 0.0, 0.0, 0.0, 1.0, 1.0]), label=0.0, probability=DenseVector([0.7689, 0.2311]), prediction=0.0)\nRow(features=SparseVector(6, {0: 1.0, 2: 0.0085}), label=0.0, probability=DenseVector([0.7689, 0.2311]), prediction=0.0)\nRow(features=DenseVector([1.0, 0.0, 0.0003, 0.0, 0.0, 1.0]), label=0.0, probability=DenseVector([0.7689, 0.2311]), prediction=0.0)\nRow(features=DenseVector([1.0, 0.0, 0.0014, 0.0, 1.0, 1.0]), label=0.0, probability=DenseVector([0.7689, 0.2311]), prediction=0.0)\nRow(features=DenseVector([1.0, 0.0, 0.0, 0.0, 1.0, 1.0]), label=0.0, probability=DenseVector([0.7689, 0.2311]), prediction=0.0)\nRow(features=DenseVector([1.0, 0.0, 0.0029, 0.0, 1.0, 0.0]), label=1.0, probability=DenseVector([0.7689, 0.2311]), prediction=0.0)\nRow(features=DenseVector([1.0, 0.0, 0.0024, 0.0, 1.0, 1.0]), label=1.0, probability=DenseVector([0.7689, 0.2311]), prediction=0.0)\nRow(features=DenseVector([1.0, 0.0, 0.0037, 0.0, 1.0, 0.0]), label=0.0, probability=DenseVector([0.7689, 0.2311]), prediction=0.0)\nRow(features=SparseVector(6, {0: 1.0, 5: 1.0}), label=0.0, probability=DenseVector([0.7689, 0.2311]), prediction=0.0)\nRow(features=SparseVector(6, {0: 1.0, 5: 1.0}), label=0.0, probability=DenseVector([0.7689, 0.2311]), prediction=0.0)\nRow(features=DenseVector([1.0, 0.0, 0.0, 0.0, 1.0, 1.0]), label=0.0, probability=DenseVector([0.7689, 0.2311]), prediction=0.0)\nRow(features=SparseVector(6, {0: 1.0}), label=0.0, probability=DenseVector([0.7689, 0.2311]), prediction=0.0)\nRow(features=SparseVector(6, {0: 1.0, 5: 1.0}), label=0.0, probability=DenseVector([0.7689, 0.2311]), prediction=0.0)\nRow(features=DenseVector([1.0, 0.0, 0.0031, 0.0, 0.0, 1.0]), label=0.0, probability=DenseVector([0.7689, 0.2311]), prediction=0.0)\nRow(features=SparseVector(6, {0: 1.0, 5: 1.0}), label=0.0, probability=DenseVector([0.7689, 0.2311]), prediction=0.0)\nRow(features=SparseVector(6, {0: 1.0, 4: 1.0}), label=0.0, probability=DenseVector([0.7689, 0.2311]), prediction=0.0)\nRow(features=DenseVector([1.0, 0.0, 0.0007, 0.0, 0.0, 1.0]), label=1.0, probability=DenseVector([0.7689, 0.2311]), prediction=0.0)\nRow(features=SparseVector(6, {0: 1.0, 2: 0.0045}), label=0.0, probability=DenseVector([0.7689, 0.2311]), prediction=0.0)\nRow(features=SparseVector(6, {0: 1.0, 2: 0.0054}), label=1.0, probability=DenseVector([0.7689, 0.2311]), prediction=0.0)\n"
    }
   ],
   "source": [
    "# Make predictions on test data. model is the model with combination of parameters\n",
    "# that performed best.\n",
    "selected = prediction.select(\"features\", \"label\", \"probability\", \"prediction\")\n",
    "for row in selected.collect():\n",
    "    print(row)"
   ]
  },
  {
   "cell_type": "code",
   "execution_count": 166,
   "metadata": {},
   "outputs": [],
   "source": [
    "### Export model to pickle file"
   ]
  },
  {
   "cell_type": "code",
   "execution_count": 94,
   "metadata": {},
   "outputs": [
    {
     "output_type": "execute_result",
     "data": {
      "text/plain": "LogisticRegressionModel: uid = LogisticRegression_592d2f8344aa, numClasses = 2, numFeatures = 6"
     },
     "metadata": {},
     "execution_count": 94
    }
   ],
   "source": [
    "tvs_model.bestModel.stages[-1]"
   ]
  },
  {
   "cell_type": "code",
   "execution_count": 95,
   "metadata": {},
   "outputs": [
    {
     "output_type": "execute_result",
     "data": {
      "text/plain": "<pyspark.ml.classification.BinaryLogisticRegressionTrainingSummary at 0x7fdba08870b8>"
     },
     "metadata": {},
     "execution_count": 95
    }
   ],
   "source": [
    "tvs_model.bestModel.stages[-1].summary"
   ]
  },
  {
   "cell_type": "code",
   "execution_count": 96,
   "metadata": {},
   "outputs": [
    {
     "output_type": "stream",
     "name": "stdout",
     "text": "F1-Score  0.6736596736596737\nPrecision  0.597107438016529\nRecall  0.7727272727272727\nAccuracy  0.7727272727272727\n"
    }
   ],
   "source": [
    "# evaluate the model with test set\n",
    "evaluator = MulticlassClassificationEvaluator() \n",
    "print('F1-Score ', evaluator.evaluate(prediction, \n",
    "                                      {evaluator.metricName: 'f1'}))\n",
    "print('Precision ', evaluator.evaluate(prediction,\n",
    "                                       {evaluator.metricName:                    'weightedPrecision'}))\n",
    "print('Recall ', evaluator.evaluate(prediction, \n",
    "                                    {evaluator.metricName: 'weightedRecall'}))\n",
    "print('Accuracy ', evaluator.evaluate(prediction, \n",
    "                                      {evaluator.metricName: 'accuracy'}))                  "
   ]
  },
  {
   "cell_type": "code",
   "execution_count": 97,
   "metadata": {},
   "outputs": [
    {
     "output_type": "stream",
     "name": "stdout",
     "text": "AUC  0.6235294117647059\n"
    }
   ],
   "source": [
    "rf_auc = BinaryClassificationEvaluator().evaluate(prediction)\n",
    "print('AUC ', rf_auc)      "
   ]
  },
  {
   "cell_type": "markdown",
   "metadata": {},
   "source": [
    "* Remember 0.5 AUC is the same as a model that has no predictive power and can be accomplished by chance"
   ]
  },
  {
   "cell_type": "markdown",
   "metadata": {},
   "source": [
    "## Plot AUC as well"
   ]
  },
  {
   "cell_type": "code",
   "execution_count": 98,
   "metadata": {},
   "outputs": [
    {
     "output_type": "display_data",
     "data": {
      "text/plain": "<Figure size 360x360 with 1 Axes>",
      "image/svg+xml": "<?xml version=\"1.0\" encoding=\"utf-8\" standalone=\"no\"?>\n<!DOCTYPE svg PUBLIC \"-//W3C//DTD SVG 1.1//EN\"\n  \"http://www.w3.org/Graphics/SVG/1.1/DTD/svg11.dtd\">\n<!-- Created with matplotlib (https://matplotlib.org/) -->\n<svg height=\"316.55625pt\" version=\"1.1\" viewBox=\"0 0 329.98125 316.55625\" width=\"329.98125pt\" xmlns=\"http://www.w3.org/2000/svg\" xmlns:xlink=\"http://www.w3.org/1999/xlink\">\n <defs>\n  <style type=\"text/css\">\n*{stroke-linecap:butt;stroke-linejoin:round;}\n  </style>\n </defs>\n <g id=\"figure_1\">\n  <g id=\"patch_1\">\n   <path d=\"M 0 316.55625 \nL 329.98125 316.55625 \nL 329.98125 0 \nL 0 0 \nz\n\" style=\"fill:none;\"/>\n  </g>\n  <g id=\"axes_1\">\n   <g id=\"patch_2\">\n    <path d=\"M 43.78125 279 \nL 322.78125 279 \nL 322.78125 7.2 \nL 43.78125 7.2 \nz\n\" style=\"fill:#ffffff;\"/>\n   </g>\n   <g id=\"matplotlib.axis_1\">\n    <g id=\"xtick_1\">\n     <g id=\"line2d_1\">\n      <defs>\n       <path d=\"M 0 0 \nL 0 3.5 \n\" id=\"m0fddd21343\" style=\"stroke:#000000;stroke-width:0.8;\"/>\n      </defs>\n      <g>\n       <use style=\"stroke:#000000;stroke-width:0.8;\" x=\"56.463068\" xlink:href=\"#m0fddd21343\" y=\"279\"/>\n      </g>\n     </g>\n     <g id=\"text_1\">\n      <!-- 0.0 -->\n      <defs>\n       <path d=\"M 31.78125 66.40625 \nQ 24.171875 66.40625 20.328125 58.90625 \nQ 16.5 51.421875 16.5 36.375 \nQ 16.5 21.390625 20.328125 13.890625 \nQ 24.171875 6.390625 31.78125 6.390625 \nQ 39.453125 6.390625 43.28125 13.890625 \nQ 47.125 21.390625 47.125 36.375 \nQ 47.125 51.421875 43.28125 58.90625 \nQ 39.453125 66.40625 31.78125 66.40625 \nz\nM 31.78125 74.21875 \nQ 44.046875 74.21875 50.515625 64.515625 \nQ 56.984375 54.828125 56.984375 36.375 \nQ 56.984375 17.96875 50.515625 8.265625 \nQ 44.046875 -1.421875 31.78125 -1.421875 \nQ 19.53125 -1.421875 13.0625 8.265625 \nQ 6.59375 17.96875 6.59375 36.375 \nQ 6.59375 54.828125 13.0625 64.515625 \nQ 19.53125 74.21875 31.78125 74.21875 \nz\n\" id=\"DejaVuSans-48\"/>\n       <path d=\"M 10.6875 12.40625 \nL 21 12.40625 \nL 21 0 \nL 10.6875 0 \nz\n\" id=\"DejaVuSans-46\"/>\n      </defs>\n      <g transform=\"translate(48.511506 293.598437)scale(0.1 -0.1)\">\n       <use xlink:href=\"#DejaVuSans-48\"/>\n       <use x=\"63.623047\" xlink:href=\"#DejaVuSans-46\"/>\n       <use x=\"95.410156\" xlink:href=\"#DejaVuSans-48\"/>\n      </g>\n     </g>\n    </g>\n    <g id=\"xtick_2\">\n     <g id=\"line2d_2\">\n      <g>\n       <use style=\"stroke:#000000;stroke-width:0.8;\" x=\"107.190341\" xlink:href=\"#m0fddd21343\" y=\"279\"/>\n      </g>\n     </g>\n     <g id=\"text_2\">\n      <!-- 0.2 -->\n      <defs>\n       <path d=\"M 19.1875 8.296875 \nL 53.609375 8.296875 \nL 53.609375 0 \nL 7.328125 0 \nL 7.328125 8.296875 \nQ 12.9375 14.109375 22.625 23.890625 \nQ 32.328125 33.6875 34.8125 36.53125 \nQ 39.546875 41.84375 41.421875 45.53125 \nQ 43.3125 49.21875 43.3125 52.78125 \nQ 43.3125 58.59375 39.234375 62.25 \nQ 35.15625 65.921875 28.609375 65.921875 \nQ 23.96875 65.921875 18.8125 64.3125 \nQ 13.671875 62.703125 7.8125 59.421875 \nL 7.8125 69.390625 \nQ 13.765625 71.78125 18.9375 73 \nQ 24.125 74.21875 28.421875 74.21875 \nQ 39.75 74.21875 46.484375 68.546875 \nQ 53.21875 62.890625 53.21875 53.421875 \nQ 53.21875 48.921875 51.53125 44.890625 \nQ 49.859375 40.875 45.40625 35.40625 \nQ 44.1875 33.984375 37.640625 27.21875 \nQ 31.109375 20.453125 19.1875 8.296875 \nz\n\" id=\"DejaVuSans-50\"/>\n      </defs>\n      <g transform=\"translate(99.238778 293.598437)scale(0.1 -0.1)\">\n       <use xlink:href=\"#DejaVuSans-48\"/>\n       <use x=\"63.623047\" xlink:href=\"#DejaVuSans-46\"/>\n       <use x=\"95.410156\" xlink:href=\"#DejaVuSans-50\"/>\n      </g>\n     </g>\n    </g>\n    <g id=\"xtick_3\">\n     <g id=\"line2d_3\">\n      <g>\n       <use style=\"stroke:#000000;stroke-width:0.8;\" x=\"157.917614\" xlink:href=\"#m0fddd21343\" y=\"279\"/>\n      </g>\n     </g>\n     <g id=\"text_3\">\n      <!-- 0.4 -->\n      <defs>\n       <path d=\"M 37.796875 64.3125 \nL 12.890625 25.390625 \nL 37.796875 25.390625 \nz\nM 35.203125 72.90625 \nL 47.609375 72.90625 \nL 47.609375 25.390625 \nL 58.015625 25.390625 \nL 58.015625 17.1875 \nL 47.609375 17.1875 \nL 47.609375 0 \nL 37.796875 0 \nL 37.796875 17.1875 \nL 4.890625 17.1875 \nL 4.890625 26.703125 \nz\n\" id=\"DejaVuSans-52\"/>\n      </defs>\n      <g transform=\"translate(149.966051 293.598437)scale(0.1 -0.1)\">\n       <use xlink:href=\"#DejaVuSans-48\"/>\n       <use x=\"63.623047\" xlink:href=\"#DejaVuSans-46\"/>\n       <use x=\"95.410156\" xlink:href=\"#DejaVuSans-52\"/>\n      </g>\n     </g>\n    </g>\n    <g id=\"xtick_4\">\n     <g id=\"line2d_4\">\n      <g>\n       <use style=\"stroke:#000000;stroke-width:0.8;\" x=\"208.644886\" xlink:href=\"#m0fddd21343\" y=\"279\"/>\n      </g>\n     </g>\n     <g id=\"text_4\">\n      <!-- 0.6 -->\n      <defs>\n       <path d=\"M 33.015625 40.375 \nQ 26.375 40.375 22.484375 35.828125 \nQ 18.609375 31.296875 18.609375 23.390625 \nQ 18.609375 15.53125 22.484375 10.953125 \nQ 26.375 6.390625 33.015625 6.390625 \nQ 39.65625 6.390625 43.53125 10.953125 \nQ 47.40625 15.53125 47.40625 23.390625 \nQ 47.40625 31.296875 43.53125 35.828125 \nQ 39.65625 40.375 33.015625 40.375 \nz\nM 52.59375 71.296875 \nL 52.59375 62.3125 \nQ 48.875 64.0625 45.09375 64.984375 \nQ 41.3125 65.921875 37.59375 65.921875 \nQ 27.828125 65.921875 22.671875 59.328125 \nQ 17.53125 52.734375 16.796875 39.40625 \nQ 19.671875 43.65625 24.015625 45.921875 \nQ 28.375 48.1875 33.59375 48.1875 \nQ 44.578125 48.1875 50.953125 41.515625 \nQ 57.328125 34.859375 57.328125 23.390625 \nQ 57.328125 12.15625 50.6875 5.359375 \nQ 44.046875 -1.421875 33.015625 -1.421875 \nQ 20.359375 -1.421875 13.671875 8.265625 \nQ 6.984375 17.96875 6.984375 36.375 \nQ 6.984375 53.65625 15.1875 63.9375 \nQ 23.390625 74.21875 37.203125 74.21875 \nQ 40.921875 74.21875 44.703125 73.484375 \nQ 48.484375 72.75 52.59375 71.296875 \nz\n\" id=\"DejaVuSans-54\"/>\n      </defs>\n      <g transform=\"translate(200.693324 293.598437)scale(0.1 -0.1)\">\n       <use xlink:href=\"#DejaVuSans-48\"/>\n       <use x=\"63.623047\" xlink:href=\"#DejaVuSans-46\"/>\n       <use x=\"95.410156\" xlink:href=\"#DejaVuSans-54\"/>\n      </g>\n     </g>\n    </g>\n    <g id=\"xtick_5\">\n     <g id=\"line2d_5\">\n      <g>\n       <use style=\"stroke:#000000;stroke-width:0.8;\" x=\"259.372159\" xlink:href=\"#m0fddd21343\" y=\"279\"/>\n      </g>\n     </g>\n     <g id=\"text_5\">\n      <!-- 0.8 -->\n      <defs>\n       <path d=\"M 31.78125 34.625 \nQ 24.75 34.625 20.71875 30.859375 \nQ 16.703125 27.09375 16.703125 20.515625 \nQ 16.703125 13.921875 20.71875 10.15625 \nQ 24.75 6.390625 31.78125 6.390625 \nQ 38.8125 6.390625 42.859375 10.171875 \nQ 46.921875 13.96875 46.921875 20.515625 \nQ 46.921875 27.09375 42.890625 30.859375 \nQ 38.875 34.625 31.78125 34.625 \nz\nM 21.921875 38.8125 \nQ 15.578125 40.375 12.03125 44.71875 \nQ 8.5 49.078125 8.5 55.328125 \nQ 8.5 64.0625 14.71875 69.140625 \nQ 20.953125 74.21875 31.78125 74.21875 \nQ 42.671875 74.21875 48.875 69.140625 \nQ 55.078125 64.0625 55.078125 55.328125 \nQ 55.078125 49.078125 51.53125 44.71875 \nQ 48 40.375 41.703125 38.8125 \nQ 48.828125 37.15625 52.796875 32.3125 \nQ 56.78125 27.484375 56.78125 20.515625 \nQ 56.78125 9.90625 50.3125 4.234375 \nQ 43.84375 -1.421875 31.78125 -1.421875 \nQ 19.734375 -1.421875 13.25 4.234375 \nQ 6.78125 9.90625 6.78125 20.515625 \nQ 6.78125 27.484375 10.78125 32.3125 \nQ 14.796875 37.15625 21.921875 38.8125 \nz\nM 18.3125 54.390625 \nQ 18.3125 48.734375 21.84375 45.5625 \nQ 25.390625 42.390625 31.78125 42.390625 \nQ 38.140625 42.390625 41.71875 45.5625 \nQ 45.3125 48.734375 45.3125 54.390625 \nQ 45.3125 60.0625 41.71875 63.234375 \nQ 38.140625 66.40625 31.78125 66.40625 \nQ 25.390625 66.40625 21.84375 63.234375 \nQ 18.3125 60.0625 18.3125 54.390625 \nz\n\" id=\"DejaVuSans-56\"/>\n      </defs>\n      <g transform=\"translate(251.420597 293.598437)scale(0.1 -0.1)\">\n       <use xlink:href=\"#DejaVuSans-48\"/>\n       <use x=\"63.623047\" xlink:href=\"#DejaVuSans-46\"/>\n       <use x=\"95.410156\" xlink:href=\"#DejaVuSans-56\"/>\n      </g>\n     </g>\n    </g>\n    <g id=\"xtick_6\">\n     <g id=\"line2d_6\">\n      <g>\n       <use style=\"stroke:#000000;stroke-width:0.8;\" x=\"310.099432\" xlink:href=\"#m0fddd21343\" y=\"279\"/>\n      </g>\n     </g>\n     <g id=\"text_6\">\n      <!-- 1.0 -->\n      <defs>\n       <path d=\"M 12.40625 8.296875 \nL 28.515625 8.296875 \nL 28.515625 63.921875 \nL 10.984375 60.40625 \nL 10.984375 69.390625 \nL 28.421875 72.90625 \nL 38.28125 72.90625 \nL 38.28125 8.296875 \nL 54.390625 8.296875 \nL 54.390625 0 \nL 12.40625 0 \nz\n\" id=\"DejaVuSans-49\"/>\n      </defs>\n      <g transform=\"translate(302.147869 293.598437)scale(0.1 -0.1)\">\n       <use xlink:href=\"#DejaVuSans-49\"/>\n       <use x=\"63.623047\" xlink:href=\"#DejaVuSans-46\"/>\n       <use x=\"95.410156\" xlink:href=\"#DejaVuSans-48\"/>\n      </g>\n     </g>\n    </g>\n    <g id=\"text_7\">\n     <!-- FPR -->\n     <defs>\n      <path d=\"M 9.8125 72.90625 \nL 51.703125 72.90625 \nL 51.703125 64.59375 \nL 19.671875 64.59375 \nL 19.671875 43.109375 \nL 48.578125 43.109375 \nL 48.578125 34.8125 \nL 19.671875 34.8125 \nL 19.671875 0 \nL 9.8125 0 \nz\n\" id=\"DejaVuSans-70\"/>\n      <path d=\"M 19.671875 64.796875 \nL 19.671875 37.40625 \nL 32.078125 37.40625 \nQ 38.96875 37.40625 42.71875 40.96875 \nQ 46.484375 44.53125 46.484375 51.125 \nQ 46.484375 57.671875 42.71875 61.234375 \nQ 38.96875 64.796875 32.078125 64.796875 \nz\nM 9.8125 72.90625 \nL 32.078125 72.90625 \nQ 44.34375 72.90625 50.609375 67.359375 \nQ 56.890625 61.8125 56.890625 51.125 \nQ 56.890625 40.328125 50.609375 34.8125 \nQ 44.34375 29.296875 32.078125 29.296875 \nL 19.671875 29.296875 \nL 19.671875 0 \nL 9.8125 0 \nz\n\" id=\"DejaVuSans-80\"/>\n      <path d=\"M 44.390625 34.1875 \nQ 47.5625 33.109375 50.5625 29.59375 \nQ 53.5625 26.078125 56.59375 19.921875 \nL 66.609375 0 \nL 56 0 \nL 46.6875 18.703125 \nQ 43.0625 26.03125 39.671875 28.421875 \nQ 36.28125 30.8125 30.421875 30.8125 \nL 19.671875 30.8125 \nL 19.671875 0 \nL 9.8125 0 \nL 9.8125 72.90625 \nL 32.078125 72.90625 \nQ 44.578125 72.90625 50.734375 67.671875 \nQ 56.890625 62.453125 56.890625 51.90625 \nQ 56.890625 45.015625 53.6875 40.46875 \nQ 50.484375 35.9375 44.390625 34.1875 \nz\nM 19.671875 64.796875 \nL 19.671875 38.921875 \nL 32.078125 38.921875 \nQ 39.203125 38.921875 42.84375 42.21875 \nQ 46.484375 45.515625 46.484375 51.90625 \nQ 46.484375 58.296875 42.84375 61.546875 \nQ 39.203125 64.796875 32.078125 64.796875 \nz\n\" id=\"DejaVuSans-82\"/>\n     </defs>\n     <g transform=\"translate(173.916406 307.276562)scale(0.1 -0.1)\">\n      <use xlink:href=\"#DejaVuSans-70\"/>\n      <use x=\"57.519531\" xlink:href=\"#DejaVuSans-80\"/>\n      <use x=\"117.822266\" xlink:href=\"#DejaVuSans-82\"/>\n     </g>\n    </g>\n   </g>\n   <g id=\"matplotlib.axis_2\">\n    <g id=\"ytick_1\">\n     <g id=\"line2d_7\">\n      <defs>\n       <path d=\"M 0 0 \nL -3.5 0 \n\" id=\"mba1c0902b2\" style=\"stroke:#000000;stroke-width:0.8;\"/>\n      </defs>\n      <g>\n       <use style=\"stroke:#000000;stroke-width:0.8;\" x=\"43.78125\" xlink:href=\"#mba1c0902b2\" y=\"266.645455\"/>\n      </g>\n     </g>\n     <g id=\"text_8\">\n      <!-- 0.0 -->\n      <g transform=\"translate(20.878125 270.444673)scale(0.1 -0.1)\">\n       <use xlink:href=\"#DejaVuSans-48\"/>\n       <use x=\"63.623047\" xlink:href=\"#DejaVuSans-46\"/>\n       <use x=\"95.410156\" xlink:href=\"#DejaVuSans-48\"/>\n      </g>\n     </g>\n    </g>\n    <g id=\"ytick_2\">\n     <g id=\"line2d_8\">\n      <g>\n       <use style=\"stroke:#000000;stroke-width:0.8;\" x=\"43.78125\" xlink:href=\"#mba1c0902b2\" y=\"217.227273\"/>\n      </g>\n     </g>\n     <g id=\"text_9\">\n      <!-- 0.2 -->\n      <g transform=\"translate(20.878125 221.026491)scale(0.1 -0.1)\">\n       <use xlink:href=\"#DejaVuSans-48\"/>\n       <use x=\"63.623047\" xlink:href=\"#DejaVuSans-46\"/>\n       <use x=\"95.410156\" xlink:href=\"#DejaVuSans-50\"/>\n      </g>\n     </g>\n    </g>\n    <g id=\"ytick_3\">\n     <g id=\"line2d_9\">\n      <g>\n       <use style=\"stroke:#000000;stroke-width:0.8;\" x=\"43.78125\" xlink:href=\"#mba1c0902b2\" y=\"167.809091\"/>\n      </g>\n     </g>\n     <g id=\"text_10\">\n      <!-- 0.4 -->\n      <g transform=\"translate(20.878125 171.60831)scale(0.1 -0.1)\">\n       <use xlink:href=\"#DejaVuSans-48\"/>\n       <use x=\"63.623047\" xlink:href=\"#DejaVuSans-46\"/>\n       <use x=\"95.410156\" xlink:href=\"#DejaVuSans-52\"/>\n      </g>\n     </g>\n    </g>\n    <g id=\"ytick_4\">\n     <g id=\"line2d_10\">\n      <g>\n       <use style=\"stroke:#000000;stroke-width:0.8;\" x=\"43.78125\" xlink:href=\"#mba1c0902b2\" y=\"118.390909\"/>\n      </g>\n     </g>\n     <g id=\"text_11\">\n      <!-- 0.6 -->\n      <g transform=\"translate(20.878125 122.190128)scale(0.1 -0.1)\">\n       <use xlink:href=\"#DejaVuSans-48\"/>\n       <use x=\"63.623047\" xlink:href=\"#DejaVuSans-46\"/>\n       <use x=\"95.410156\" xlink:href=\"#DejaVuSans-54\"/>\n      </g>\n     </g>\n    </g>\n    <g id=\"ytick_5\">\n     <g id=\"line2d_11\">\n      <g>\n       <use style=\"stroke:#000000;stroke-width:0.8;\" x=\"43.78125\" xlink:href=\"#mba1c0902b2\" y=\"68.972727\"/>\n      </g>\n     </g>\n     <g id=\"text_12\">\n      <!-- 0.8 -->\n      <g transform=\"translate(20.878125 72.771946)scale(0.1 -0.1)\">\n       <use xlink:href=\"#DejaVuSans-48\"/>\n       <use x=\"63.623047\" xlink:href=\"#DejaVuSans-46\"/>\n       <use x=\"95.410156\" xlink:href=\"#DejaVuSans-56\"/>\n      </g>\n     </g>\n    </g>\n    <g id=\"ytick_6\">\n     <g id=\"line2d_12\">\n      <g>\n       <use style=\"stroke:#000000;stroke-width:0.8;\" x=\"43.78125\" xlink:href=\"#mba1c0902b2\" y=\"19.554545\"/>\n      </g>\n     </g>\n     <g id=\"text_13\">\n      <!-- 1.0 -->\n      <g transform=\"translate(20.878125 23.353764)scale(0.1 -0.1)\">\n       <use xlink:href=\"#DejaVuSans-49\"/>\n       <use x=\"63.623047\" xlink:href=\"#DejaVuSans-46\"/>\n       <use x=\"95.410156\" xlink:href=\"#DejaVuSans-48\"/>\n      </g>\n     </g>\n    </g>\n    <g id=\"text_14\">\n     <!-- TPR -->\n     <defs>\n      <path d=\"M -0.296875 72.90625 \nL 61.375 72.90625 \nL 61.375 64.59375 \nL 35.5 64.59375 \nL 35.5 0 \nL 25.59375 0 \nL 25.59375 64.59375 \nL -0.296875 64.59375 \nz\n\" id=\"DejaVuSans-84\"/>\n     </defs>\n     <g transform=\"translate(14.798438 152.642969)rotate(-90)scale(0.1 -0.1)\">\n      <use xlink:href=\"#DejaVuSans-84\"/>\n      <use x=\"61.083984\" xlink:href=\"#DejaVuSans-80\"/>\n      <use x=\"121.386719\" xlink:href=\"#DejaVuSans-82\"/>\n     </g>\n    </g>\n   </g>\n   <g id=\"line2d_13\">\n    <path clip-path=\"url(#p0d51e43112)\" d=\"M 56.463068 266.645455 \nL 310.099432 19.554545 \n\" style=\"fill:none;stroke:#ff0000;stroke-dasharray:5.55,2.4;stroke-dashoffset:0;stroke-width:1.5;\"/>\n   </g>\n   <g id=\"line2d_14\">\n    <path clip-path=\"url(#p0d51e43112)\" d=\"M 56.463068 266.645455 \nL 85.728802 224.587427 \nL 87.354677 224.587427 \nL 105.239292 203.558414 \nL 105.239292 198.301161 \nL 139.382649 140.471373 \nL 141.008523 140.471373 \nL 142.634397 140.471373 \nL 142.634397 135.21412 \nL 144.260271 135.21412 \nL 145.886145 135.21412 \nL 147.512019 135.21412 \nL 149.137893 135.21412 \nL 150.763767 135.21412 \nL 152.389642 135.21412 \nL 154.015516 135.21412 \nL 155.64139 135.21412 \nL 157.267264 135.21412 \nL 158.893138 135.21412 \nL 158.893138 129.956867 \nL 160.519012 129.956867 \nL 162.144886 129.956867 \nL 163.77076 129.956867 \nL 165.396635 129.956867 \nL 167.022509 129.956867 \nL 168.648383 129.956867 \nL 170.274257 129.956867 \nL 171.900131 129.956867 \nL 171.900131 124.699613 \nL 173.526005 124.699613 \nL 175.151879 124.699613 \nL 176.777753 124.699613 \nL 178.403628 124.699613 \nL 180.029502 119.44236 \nL 181.655376 119.44236 \nL 181.655376 114.185106 \nL 183.28125 114.185106 \nL 184.907124 114.185106 \nL 186.532998 114.185106 \nL 188.158872 114.185106 \nL 189.784747 114.185106 \nL 191.410621 114.185106 \nL 193.036495 114.185106 \nL 194.662369 114.185106 \nL 196.288243 114.185106 \nL 197.914117 114.185106 \nL 197.914117 108.927853 \nL 199.539991 108.927853 \nL 201.165865 108.927853 \nL 201.165865 103.6706 \nL 236.935096 77.384333 \nL 238.56097 77.384333 \nL 238.56097 72.127079 \nL 240.186844 72.127079 \nL 241.812719 72.127079 \nL 243.438593 72.127079 \nL 245.064467 72.127079 \nL 246.690341 72.127079 \nL 248.316215 72.127079 \nL 249.942089 72.127079 \nL 251.567963 72.127079 \nL 253.193837 72.127079 \nL 254.819712 72.127079 \nL 256.445586 72.127079 \nL 256.445586 66.869826 \nL 256.445586 61.612573 \nL 258.07146 61.612573 \nL 259.697334 61.612573 \nL 261.323208 61.612573 \nL 262.949082 61.612573 \nL 264.574956 61.612573 \nL 266.20083 61.612573 \nL 267.826705 61.612573 \nL 267.826705 56.355319 \nL 269.452579 56.355319 \nL 271.078453 56.355319 \nL 272.704327 56.355319 \nL 274.330201 56.355319 \nL 275.956075 56.355319 \nL 277.581949 56.355319 \nL 279.207823 56.355319 \nL 280.833698 56.355319 \nL 282.459572 56.355319 \nL 282.459572 51.098066 \nL 284.085446 51.098066 \nL 284.085446 45.840812 \nL 285.71132 45.840812 \nL 287.337194 45.840812 \nL 288.963068 45.840812 \nL 290.588942 45.840812 \nL 292.214816 45.840812 \nL 292.214816 40.583559 \nL 292.214816 35.326306 \nL 293.840691 35.326306 \nL 293.840691 30.069052 \nL 293.840691 24.811799 \nL 295.466565 24.811799 \nL 297.092439 24.811799 \nL 297.092439 19.554545 \nL 298.718313 19.554545 \nL 300.344187 19.554545 \nL 301.970061 19.554545 \nL 303.595935 19.554545 \nL 305.221809 19.554545 \nL 306.847684 19.554545 \nL 308.473558 19.554545 \nL 310.099432 19.554545 \nL 310.099432 19.554545 \n\" style=\"fill:none;stroke:#1f77b4;stroke-linecap:square;stroke-width:1.5;\"/>\n   </g>\n   <g id=\"patch_3\">\n    <path d=\"M 43.78125 279 \nL 43.78125 7.2 \n\" style=\"fill:none;stroke:#000000;stroke-linecap:square;stroke-linejoin:miter;stroke-width:0.8;\"/>\n   </g>\n   <g id=\"patch_4\">\n    <path d=\"M 322.78125 279 \nL 322.78125 7.2 \n\" style=\"fill:none;stroke:#000000;stroke-linecap:square;stroke-linejoin:miter;stroke-width:0.8;\"/>\n   </g>\n   <g id=\"patch_5\">\n    <path d=\"M 43.78125 279 \nL 322.78125 279 \n\" style=\"fill:none;stroke:#000000;stroke-linecap:square;stroke-linejoin:miter;stroke-width:0.8;\"/>\n   </g>\n   <g id=\"patch_6\">\n    <path d=\"M 43.78125 7.2 \nL 322.78125 7.2 \n\" style=\"fill:none;stroke:#000000;stroke-linecap:square;stroke-linejoin:miter;stroke-width:0.8;\"/>\n   </g>\n  </g>\n </g>\n <defs>\n  <clipPath id=\"p0d51e43112\">\n   <rect height=\"271.8\" width=\"279\" x=\"43.78125\" y=\"7.2\"/>\n  </clipPath>\n </defs>\n</svg>\n",
      "image/png": "[encoded data removed]"
     },
     "metadata": {
      "needs_background": "light"
     }
    }
   ],
   "source": [
    "import matplotlib.pyplot as plt\n",
    "plt.figure(figsize=(5,5))\n",
    "plt.plot([0, 1], [0, 1], 'r--')\n",
    "plt.plot(tvs_model.bestModel.stages[-1].summary.roc.select('FPR').collect(),\n",
    "         tvs_model.bestModel.stages[-1].summary.roc.select('TPR').collect())\n",
    "plt.xlabel('FPR')\n",
    "plt.ylabel('TPR')\n",
    "plt.show()"
   ]
  },
  {
   "cell_type": "markdown",
   "metadata": {},
   "source": [
    "### Save model"
   ]
  },
  {
   "cell_type": "code",
   "execution_count": 102,
   "metadata": {},
   "outputs": [],
   "source": [
    "model_path = Path.cwd() / \"models\" / \"june7_lr_model\"\n",
    "tvs_model.bestModel.write().overwrite().save(str(model_path))"
   ]
  },
  {
   "cell_type": "markdown",
   "metadata": {},
   "source": [
    "### Load saved model"
   ]
  },
  {
   "cell_type": "code",
   "execution_count": 103,
   "metadata": {},
   "outputs": [
    {
     "output_type": "execute_result",
     "data": {
      "text/plain": "PipelineModel_334b9393028a"
     },
     "metadata": {},
     "execution_count": 103
    }
   ],
   "source": [
    "# read pickled model via pipeline api\n",
    "from pyspark.ml.pipeline import PipelineModel\n",
    "persistedModel = PipelineModel.load(str(model_path))\n",
    "persistedModel"
   ]
  },
  {
   "cell_type": "code",
   "execution_count": 104,
   "metadata": {},
   "outputs": [
    {
     "output_type": "execute_result",
     "data": {
      "text/plain": "[Row(userId='154', churn='0', gender='F', subscription_level='free', page_upgraded=0, page_downgraded=0, auth_logged_in_cnt=118, auth_logged_out_cnt=0, auth_guest_cnt=0, status_404_cnt=0, status_307_cnt=16, page_next_song_cnt=0, page_thumbs_up_cnt=11, page_thumbs_down_cnt=0, page_playlist_cnt=1, page_friend_cnt=3, page_roll_ad_cnt=10, page_logout_cnt=2, page_help_cnt=1, artist_cnt=78, song_cnt=83, session_cnt=3)]"
     },
     "metadata": {},
     "execution_count": 104
    }
   ],
   "source": [
    "test.head(1)"
   ]
  },
  {
   "cell_type": "markdown",
   "metadata": {},
   "source": [
    "### Simulate a user entering data and make prediction"
   ]
  },
  {
   "cell_type": "code",
   "execution_count": 105,
   "metadata": {},
   "outputs": [
    {
     "output_type": "stream",
     "name": "stdout",
     "text": "+------+------------------+------------------+--------------+--------------+------------------+\n|gender|subscription_level|auth_logged_in_cnt|auth_guest_cnt|status_404_cnt|page_next_song_cnt|\n+------+------------------+------------------+--------------+--------------+------------------+\n|     F|              free|                11|             4|             6|                 9|\n+------+------------------+------------------+--------------+--------------+------------------+\n\n"
    }
   ],
   "source": [
    "# dictionary of lists \n",
    "dict = {\n",
    "        'gender':[\"F\"], \n",
    "        'subscription_level': [\"free\"], \n",
    "        'auth_logged_in_cnt': [11], \n",
    "        'auth_guest_cnt': [4], \n",
    "        'status_404_cnt': [6],     \n",
    "        'page_next_song_cnt': [9]\n",
    "}\n",
    "test_df_pd = pd.DataFrame(dict) \n",
    "# convert to spark dataframe\n",
    "test_df = spark.createDataFrame(test_df_pd)\n",
    "test_df.show()"
   ]
  },
  {
   "cell_type": "code",
   "execution_count": 106,
   "metadata": {},
   "outputs": [
    {
     "output_type": "stream",
     "name": "stdout",
     "text": "root\n |-- gender: string (nullable = true)\n |-- subscription_level: string (nullable = true)\n |-- auth_logged_in_cnt: long (nullable = true)\n |-- auth_guest_cnt: long (nullable = true)\n |-- status_404_cnt: long (nullable = true)\n |-- page_next_song_cnt: long (nullable = true)\n\n"
    }
   ],
   "source": [
    "test_df.printSchema()"
   ]
  },
  {
   "cell_type": "code",
   "execution_count": 107,
   "metadata": {},
   "outputs": [],
   "source": [
    "# predict\n",
    "predictionsDF = persistedModel.transform(test_df)"
   ]
  },
  {
   "cell_type": "code",
   "execution_count": 108,
   "metadata": {},
   "outputs": [
    {
     "output_type": "stream",
     "name": "stdout",
     "text": "+---------------------------------------------------------------------------------------+---------------------------------------+----------+\n|features                                                                               |probability                            |prediction|\n+---------------------------------------------------------------------------------------+---------------------------------------+----------+\n|[0.6902013856519744,0.25098232205526344,0.37647348308289513,0.5647102246243427,0.0,0.0]|[0.768472178253726,0.23152782174627398]|0.0       |\n+---------------------------------------------------------------------------------------+---------------------------------------+----------+\n\n"
    }
   ],
   "source": [
    "predictionsDF.select(\"features\", \"probability\", \"prediction\").show(truncate=False)"
   ]
  },
  {
   "cell_type": "code",
   "execution_count": null,
   "metadata": {},
   "outputs": [],
   "source": []
  }
 ],
 "metadata": {
  "kernelspec": {
   "display_name": "Python 3",
   "language": "python",
   "name": "python3"
  },
  "language_info": {
   "codemirror_mode": {
    "name": "ipython",
    "version": 3
   },
   "file_extension": ".py",
   "mimetype": "text/x-python",
   "name": "python",
   "nbconvert_exporter": "python",
   "pygments_lexer": "ipython3",
   "version": "3.8.2-final"
  }
 },
 "nbformat": 4,
 "nbformat_minor": 2
}